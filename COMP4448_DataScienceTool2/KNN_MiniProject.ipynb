{
 "cells": [
  {
   "cell_type": "markdown",
   "id": "2365f5b9",
   "metadata": {},
   "source": [
    "# Mini Project: K-Nearest Neighbors\n",
    "\n",
    "Written by Adam Ten Hoeve  \n",
    "COMP 4448 - Data Science Tools 2  \n",
    "Summer 2021"
   ]
  },
  {
   "cell_type": "code",
   "execution_count": 2,
   "id": "eb909e01",
   "metadata": {},
   "outputs": [],
   "source": [
    "# Load Required Packages\n",
    "import numpy as np\n",
    "import pandas as pd\n",
    "\n",
    "from sklearn.neighbors import KNeighborsRegressor\n",
    "from sklearn.preprocessing import MinMaxScaler\n",
    "from sklearn.model_selection import GridSearchCV, train_test_split"
   ]
  },
  {
   "cell_type": "markdown",
   "id": "95e6fc0b",
   "metadata": {},
   "source": [
    "Find your own dataset suitable for classification or regression with at least three input variables and 200 or more cases: Depending on the target variable of interest, you would build a k-nearest neighbor classifier or regressor using the appropriate sklearn estimator. Find some interesting unique dataset that is not popularly used in the internet. Address the following and include code/output snippets from b) to f). Include the response under each sub question.\n",
    "\n",
    "Data can be found here: [https://archive.ics.uci.edu/ml/datasets/abalone]"
   ]
  },
  {
   "cell_type": "code",
   "execution_count": 1,
   "id": "7cd73d96",
   "metadata": {},
   "outputs": [],
   "source": [
    "# Define a function to calculate MSE of a numpy array.\n",
    "def mse(y, y_pred):\n",
    "    # Compute the difference between the true and predicted values\n",
    "    resid = y.to_numpy().flatten() - y_pred\n",
    "    # Compute the sum of the squared residuals\n",
    "    sum_of_resid = np.sum(resid**2)\n",
    "    # Divide by the length of the data\n",
    "    final = sum_of_resid / len(y)\n",
    "    return(final)"
   ]
  },
  {
   "cell_type": "code",
   "execution_count": 3,
   "id": "fdfbf658",
   "metadata": {},
   "outputs": [
    {
     "data": {
      "text/html": [
       "<div>\n",
       "<style scoped>\n",
       "    .dataframe tbody tr th:only-of-type {\n",
       "        vertical-align: middle;\n",
       "    }\n",
       "\n",
       "    .dataframe tbody tr th {\n",
       "        vertical-align: top;\n",
       "    }\n",
       "\n",
       "    .dataframe thead th {\n",
       "        text-align: right;\n",
       "    }\n",
       "</style>\n",
       "<table border=\"1\" class=\"dataframe\">\n",
       "  <thead>\n",
       "    <tr style=\"text-align: right;\">\n",
       "      <th></th>\n",
       "      <th>length</th>\n",
       "      <th>diameter</th>\n",
       "      <th>height</th>\n",
       "      <th>weight_whole</th>\n",
       "      <th>weight_shucked</th>\n",
       "      <th>weight_viscera</th>\n",
       "      <th>weight_shell</th>\n",
       "      <th>I</th>\n",
       "      <th>M</th>\n",
       "    </tr>\n",
       "  </thead>\n",
       "  <tbody>\n",
       "    <tr>\n",
       "      <td>0</td>\n",
       "      <td>0.513514</td>\n",
       "      <td>0.521008</td>\n",
       "      <td>0.084071</td>\n",
       "      <td>0.181335</td>\n",
       "      <td>0.150303</td>\n",
       "      <td>0.132324</td>\n",
       "      <td>0.147982</td>\n",
       "      <td>0</td>\n",
       "      <td>1</td>\n",
       "    </tr>\n",
       "    <tr>\n",
       "      <td>1</td>\n",
       "      <td>0.371622</td>\n",
       "      <td>0.352941</td>\n",
       "      <td>0.079646</td>\n",
       "      <td>0.079157</td>\n",
       "      <td>0.066241</td>\n",
       "      <td>0.063199</td>\n",
       "      <td>0.068261</td>\n",
       "      <td>0</td>\n",
       "      <td>1</td>\n",
       "    </tr>\n",
       "    <tr>\n",
       "      <td>2</td>\n",
       "      <td>0.614865</td>\n",
       "      <td>0.613445</td>\n",
       "      <td>0.119469</td>\n",
       "      <td>0.239065</td>\n",
       "      <td>0.171822</td>\n",
       "      <td>0.185648</td>\n",
       "      <td>0.207773</td>\n",
       "      <td>0</td>\n",
       "      <td>0</td>\n",
       "    </tr>\n",
       "    <tr>\n",
       "      <td>3</td>\n",
       "      <td>0.493243</td>\n",
       "      <td>0.521008</td>\n",
       "      <td>0.110619</td>\n",
       "      <td>0.182044</td>\n",
       "      <td>0.144250</td>\n",
       "      <td>0.149440</td>\n",
       "      <td>0.152965</td>\n",
       "      <td>0</td>\n",
       "      <td>1</td>\n",
       "    </tr>\n",
       "    <tr>\n",
       "      <td>4</td>\n",
       "      <td>0.344595</td>\n",
       "      <td>0.336134</td>\n",
       "      <td>0.070796</td>\n",
       "      <td>0.071897</td>\n",
       "      <td>0.059516</td>\n",
       "      <td>0.051350</td>\n",
       "      <td>0.053313</td>\n",
       "      <td>1</td>\n",
       "      <td>0</td>\n",
       "    </tr>\n",
       "  </tbody>\n",
       "</table>\n",
       "</div>"
      ],
      "text/plain": [
       "     length  diameter    height  weight_whole  weight_shucked  weight_viscera  \\\n",
       "0  0.513514  0.521008  0.084071      0.181335        0.150303        0.132324   \n",
       "1  0.371622  0.352941  0.079646      0.079157        0.066241        0.063199   \n",
       "2  0.614865  0.613445  0.119469      0.239065        0.171822        0.185648   \n",
       "3  0.493243  0.521008  0.110619      0.182044        0.144250        0.149440   \n",
       "4  0.344595  0.336134  0.070796      0.071897        0.059516        0.051350   \n",
       "\n",
       "   weight_shell  I  M  \n",
       "0      0.147982  0  1  \n",
       "1      0.068261  0  1  \n",
       "2      0.207773  0  0  \n",
       "3      0.152965  0  1  \n",
       "4      0.053313  1  0  "
      ]
     },
     "execution_count": 3,
     "metadata": {},
     "output_type": "execute_result"
    }
   ],
   "source": [
    "# Read in the abalone dataset\n",
    "df_abalone = pd.read_csv(\"abalone.csv\", header=None)\n",
    "# Rename the columns to their actual values\n",
    "df_abalone.columns = [\"sex\", \"length\", \"diameter\", \"height\", \"weight_whole\", \\\n",
    "                      \"weight_shucked\", \"weight_viscera\", \"weight_shell\", \"rings\"]\n",
    "\n",
    "# Extract the response variable\n",
    "y_aba = df_abalone[\"rings\"]\n",
    "\n",
    "# Standardize the numerical data\n",
    "scaler = MinMaxScaler()\n",
    "data_scaled = scaler.fit_transform(df_abalone.drop([\"sex\", \"rings\"], axis=1))\n",
    "df_scaled = pd.DataFrame(data_scaled, columns=[\"length\", \"diameter\", \"height\", \"weight_whole\", \\\n",
    "                                   \"weight_shucked\", \"weight_viscera\", \"weight_shell\"])\n",
    "# Convert gender to categorical\n",
    "df_dummy = pd.get_dummies(df_abalone[\"sex\"], drop_first=True)\n",
    "\n",
    "# Combine the cleaned dataframes into an X dataframe\n",
    "df_aba = pd.concat([df_scaled, df_dummy], axis=1)\n",
    "df_aba.head()"
   ]
  },
  {
   "cell_type": "code",
   "execution_count": 4,
   "id": "b40c2f0c",
   "metadata": {},
   "outputs": [
    {
     "data": {
      "text/plain": [
       "length            0\n",
       "diameter          0\n",
       "height            0\n",
       "weight_whole      0\n",
       "weight_shucked    0\n",
       "weight_viscera    0\n",
       "weight_shell      0\n",
       "I                 0\n",
       "M                 0\n",
       "dtype: int64"
      ]
     },
     "execution_count": 4,
     "metadata": {},
     "output_type": "execute_result"
    }
   ],
   "source": [
    "# Search for missing data\n",
    "np.sum(df_aba.isna())"
   ]
  },
  {
   "cell_type": "code",
   "execution_count": 5,
   "id": "5917d007",
   "metadata": {},
   "outputs": [
    {
     "name": "stdout",
     "output_type": "stream",
     "text": [
      "(3341, 9)\n",
      "(3341,)\n",
      "(836, 9)\n",
      "(836,)\n"
     ]
    }
   ],
   "source": [
    "# Split the data into training and test sets\n",
    "X_train_aba, X_test_aba, y_train_aba, y_test_aba = train_test_split(df_aba, y_aba,\n",
    "                                                                    test_size=0.2,\n",
    "                                                                    random_state=42)\n",
    "print(X_train_aba.shape)\n",
    "print(y_train_aba.shape)\n",
    "print(X_test_aba.shape)\n",
    "print(y_test_aba.shape)"
   ]
  },
  {
   "cell_type": "code",
   "execution_count": 6,
   "id": "7dad6ddd",
   "metadata": {},
   "outputs": [
    {
     "name": "stdout",
     "output_type": "stream",
     "text": [
      "Best k-value from training data: {'n_neighbors': 16}\n"
     ]
    }
   ],
   "source": [
    "# Create a KNN regressor and fit it to the training data\n",
    "knn_aba = KNeighborsRegressor()\n",
    "# Use GridSearch to find the best k-value for the model\n",
    "param_grid = {\"n_neighbors\": np.arange(1, 21)}\n",
    "grid_aba = GridSearchCV(knn_aba, param_grid, cv=8)\n",
    "# Fit the GridSearch to the training data\n",
    "grid_aba.fit(X_train_aba, y_train_aba)\n",
    "# Set the model as the best model\n",
    "knn_aba = grid_aba.best_estimator_\n",
    "print(\"Best k-value from training data:\", grid_aba.best_params_)"
   ]
  },
  {
   "cell_type": "code",
   "execution_count": 7,
   "id": "1cf744d6",
   "metadata": {},
   "outputs": [
    {
     "name": "stdout",
     "output_type": "stream",
     "text": [
      "MSE on the training set: 4.251068635887459\n",
      "MSE on the test set: 4.932355524820574\n"
     ]
    }
   ],
   "source": [
    "# Using the best model, predict the values of the training and test sets\n",
    "aba_preds_train = knn_aba.predict(X_train_aba)\n",
    "aba_preds_test = knn_aba.predict(X_test_aba)\n",
    "# Compute the MSE of the predictions on both sets\n",
    "print(\"MSE on the training set:\", mse(y_train_aba, aba_preds_train))\n",
    "print(\"MSE on the test set:\", mse(y_test_aba, aba_preds_test))"
   ]
  }
 ],
 "metadata": {
  "kernelspec": {
   "display_name": "Python 3",
   "language": "python",
   "name": "python3"
  },
  "language_info": {
   "codemirror_mode": {
    "name": "ipython",
    "version": 3
   },
   "file_extension": ".py",
   "mimetype": "text/x-python",
   "name": "python",
   "nbconvert_exporter": "python",
   "pygments_lexer": "ipython3",
   "version": "3.6.9"
  }
 },
 "nbformat": 4,
 "nbformat_minor": 5
}
