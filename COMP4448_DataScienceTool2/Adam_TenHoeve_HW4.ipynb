{
 "cells": [
  {
   "cell_type": "markdown",
   "id": "16377b12",
   "metadata": {},
   "source": [
    "# Homework 4\n",
    "\n",
    "Written by Adam Ten Hoeve  \n",
    "COMP 4448: Data Science Tools 2"
   ]
  },
  {
   "cell_type": "code",
   "execution_count": 58,
   "id": "fdbd1b60",
   "metadata": {},
   "outputs": [],
   "source": [
    "# Load necesary libraries\n",
    "import numpy as np\n",
    "import pandas as pd\n",
    "\n",
    "from sklearn.metrics import euclidean_distances, mean_squared_error\n",
    "from sklearn.neighbors import KNeighborsRegressor, KNeighborsClassifier\n",
    "from sklearn.preprocessing import StandardScaler, MinMaxScaler\n",
    "from sklearn.pipeline import Pipeline\n",
    "from sklearn.ensemble import RandomForestRegressor, RandomForestClassifier\n",
    "from sklearn.model_selection import GridSearchCV, train_test_split\n",
    "\n",
    "import matplotlib.pyplot as plt\n",
    "import seaborn as sns\n",
    "%matplotlib inline"
   ]
  },
  {
   "cell_type": "markdown",
   "id": "f330c509",
   "metadata": {},
   "source": [
    "a)\tRead the data provided on canvas into Python as follows: \n",
    " \n",
    "Print the first 5 rows of each dataset to inspect the nature of data\n"
   ]
  },
  {
   "cell_type": "code",
   "execution_count": 2,
   "id": "9a32c563",
   "metadata": {},
   "outputs": [],
   "source": [
    "delivery_train = pd.read_csv(\"delivery_time_train_data.csv\")\n",
    "delivery_test = pd.read_csv(\"delivery_time_test_data.csv\")\n",
    "student_train = pd.read_csv(\"student_train_data.csv\")\n",
    "student_test = pd.read_csv(\"student_test_data.csv\")"
   ]
  },
  {
   "cell_type": "code",
   "execution_count": 3,
   "id": "f461d54d",
   "metadata": {},
   "outputs": [
    {
     "data": {
      "text/html": [
       "<div>\n",
       "<style scoped>\n",
       "    .dataframe tbody tr th:only-of-type {\n",
       "        vertical-align: middle;\n",
       "    }\n",
       "\n",
       "    .dataframe tbody tr th {\n",
       "        vertical-align: top;\n",
       "    }\n",
       "\n",
       "    .dataframe thead th {\n",
       "        text-align: right;\n",
       "    }\n",
       "</style>\n",
       "<table border=\"1\" class=\"dataframe\">\n",
       "  <thead>\n",
       "    <tr style=\"text-align: right;\">\n",
       "      <th></th>\n",
       "      <th>Miles</th>\n",
       "      <th>Deliveries</th>\n",
       "      <th>Time</th>\n",
       "    </tr>\n",
       "  </thead>\n",
       "  <tbody>\n",
       "    <tr>\n",
       "      <td>0</td>\n",
       "      <td>100</td>\n",
       "      <td>4</td>\n",
       "      <td>9.3</td>\n",
       "    </tr>\n",
       "    <tr>\n",
       "      <td>1</td>\n",
       "      <td>50</td>\n",
       "      <td>3</td>\n",
       "      <td>4.8</td>\n",
       "    </tr>\n",
       "    <tr>\n",
       "      <td>2</td>\n",
       "      <td>100</td>\n",
       "      <td>4</td>\n",
       "      <td>8.9</td>\n",
       "    </tr>\n",
       "    <tr>\n",
       "      <td>3</td>\n",
       "      <td>100</td>\n",
       "      <td>2</td>\n",
       "      <td>6.5</td>\n",
       "    </tr>\n",
       "    <tr>\n",
       "      <td>4</td>\n",
       "      <td>50</td>\n",
       "      <td>2</td>\n",
       "      <td>4.2</td>\n",
       "    </tr>\n",
       "  </tbody>\n",
       "</table>\n",
       "</div>"
      ],
      "text/plain": [
       "   Miles  Deliveries  Time\n",
       "0    100           4   9.3\n",
       "1     50           3   4.8\n",
       "2    100           4   8.9\n",
       "3    100           2   6.5\n",
       "4     50           2   4.2"
      ]
     },
     "execution_count": 3,
     "metadata": {},
     "output_type": "execute_result"
    }
   ],
   "source": [
    "delivery_train.head()"
   ]
  },
  {
   "cell_type": "code",
   "execution_count": 4,
   "id": "e3bf2252",
   "metadata": {},
   "outputs": [
    {
     "data": {
      "text/html": [
       "<div>\n",
       "<style scoped>\n",
       "    .dataframe tbody tr th:only-of-type {\n",
       "        vertical-align: middle;\n",
       "    }\n",
       "\n",
       "    .dataframe tbody tr th {\n",
       "        vertical-align: top;\n",
       "    }\n",
       "\n",
       "    .dataframe thead th {\n",
       "        text-align: right;\n",
       "    }\n",
       "</style>\n",
       "<table border=\"1\" class=\"dataframe\">\n",
       "  <thead>\n",
       "    <tr style=\"text-align: right;\">\n",
       "      <th></th>\n",
       "      <th>Miles</th>\n",
       "      <th>Deliveries</th>\n",
       "      <th>Time</th>\n",
       "    </tr>\n",
       "  </thead>\n",
       "  <tbody>\n",
       "    <tr>\n",
       "      <td>0</td>\n",
       "      <td>50</td>\n",
       "      <td>3</td>\n",
       "      <td>4.6</td>\n",
       "    </tr>\n",
       "    <tr>\n",
       "      <td>1</td>\n",
       "      <td>65</td>\n",
       "      <td>2</td>\n",
       "      <td>5.5</td>\n",
       "    </tr>\n",
       "    <tr>\n",
       "      <td>2</td>\n",
       "      <td>80</td>\n",
       "      <td>1</td>\n",
       "      <td>6.3</td>\n",
       "    </tr>\n",
       "    <tr>\n",
       "      <td>3</td>\n",
       "      <td>70</td>\n",
       "      <td>1</td>\n",
       "      <td>6.2</td>\n",
       "    </tr>\n",
       "    <tr>\n",
       "      <td>4</td>\n",
       "      <td>70</td>\n",
       "      <td>5</td>\n",
       "      <td>8.5</td>\n",
       "    </tr>\n",
       "  </tbody>\n",
       "</table>\n",
       "</div>"
      ],
      "text/plain": [
       "   Miles  Deliveries  Time\n",
       "0     50           3   4.6\n",
       "1     65           2   5.5\n",
       "2     80           1   6.3\n",
       "3     70           1   6.2\n",
       "4     70           5   8.5"
      ]
     },
     "execution_count": 4,
     "metadata": {},
     "output_type": "execute_result"
    }
   ],
   "source": [
    "delivery_test.head()"
   ]
  },
  {
   "cell_type": "code",
   "execution_count": 5,
   "id": "f5a7a5aa",
   "metadata": {},
   "outputs": [
    {
     "data": {
      "text/html": [
       "<div>\n",
       "<style scoped>\n",
       "    .dataframe tbody tr th:only-of-type {\n",
       "        vertical-align: middle;\n",
       "    }\n",
       "\n",
       "    .dataframe tbody tr th {\n",
       "        vertical-align: top;\n",
       "    }\n",
       "\n",
       "    .dataframe thead th {\n",
       "        text-align: right;\n",
       "    }\n",
       "</style>\n",
       "<table border=\"1\" class=\"dataframe\">\n",
       "  <thead>\n",
       "    <tr style=\"text-align: right;\">\n",
       "      <th></th>\n",
       "      <th>GPA</th>\n",
       "      <th>Age</th>\n",
       "      <th>Dropped</th>\n",
       "    </tr>\n",
       "  </thead>\n",
       "  <tbody>\n",
       "    <tr>\n",
       "      <td>0</td>\n",
       "      <td>3.78</td>\n",
       "      <td>21</td>\n",
       "      <td>0</td>\n",
       "    </tr>\n",
       "    <tr>\n",
       "      <td>1</td>\n",
       "      <td>2.38</td>\n",
       "      <td>27</td>\n",
       "      <td>0</td>\n",
       "    </tr>\n",
       "    <tr>\n",
       "      <td>2</td>\n",
       "      <td>3.05</td>\n",
       "      <td>21</td>\n",
       "      <td>1</td>\n",
       "    </tr>\n",
       "    <tr>\n",
       "      <td>3</td>\n",
       "      <td>2.19</td>\n",
       "      <td>28</td>\n",
       "      <td>1</td>\n",
       "    </tr>\n",
       "    <tr>\n",
       "      <td>4</td>\n",
       "      <td>3.22</td>\n",
       "      <td>23</td>\n",
       "      <td>0</td>\n",
       "    </tr>\n",
       "  </tbody>\n",
       "</table>\n",
       "</div>"
      ],
      "text/plain": [
       "    GPA  Age  Dropped\n",
       "0  3.78   21        0\n",
       "1  2.38   27        0\n",
       "2  3.05   21        1\n",
       "3  2.19   28        1\n",
       "4  3.22   23        0"
      ]
     },
     "execution_count": 5,
     "metadata": {},
     "output_type": "execute_result"
    }
   ],
   "source": [
    "student_train.head()"
   ]
  },
  {
   "cell_type": "code",
   "execution_count": 6,
   "id": "0622ded7",
   "metadata": {},
   "outputs": [
    {
     "data": {
      "text/html": [
       "<div>\n",
       "<style scoped>\n",
       "    .dataframe tbody tr th:only-of-type {\n",
       "        vertical-align: middle;\n",
       "    }\n",
       "\n",
       "    .dataframe tbody tr th {\n",
       "        vertical-align: top;\n",
       "    }\n",
       "\n",
       "    .dataframe thead th {\n",
       "        text-align: right;\n",
       "    }\n",
       "</style>\n",
       "<table border=\"1\" class=\"dataframe\">\n",
       "  <thead>\n",
       "    <tr style=\"text-align: right;\">\n",
       "      <th></th>\n",
       "      <th>GPA</th>\n",
       "      <th>Age</th>\n",
       "      <th>Dropped</th>\n",
       "    </tr>\n",
       "  </thead>\n",
       "  <tbody>\n",
       "    <tr>\n",
       "      <td>0</td>\n",
       "      <td>2.49</td>\n",
       "      <td>26</td>\n",
       "      <td>1</td>\n",
       "    </tr>\n",
       "    <tr>\n",
       "      <td>1</td>\n",
       "      <td>2.67</td>\n",
       "      <td>29</td>\n",
       "      <td>0</td>\n",
       "    </tr>\n",
       "    <tr>\n",
       "      <td>2</td>\n",
       "      <td>2.86</td>\n",
       "      <td>29</td>\n",
       "      <td>1</td>\n",
       "    </tr>\n",
       "    <tr>\n",
       "      <td>3</td>\n",
       "      <td>2.21</td>\n",
       "      <td>26</td>\n",
       "      <td>0</td>\n",
       "    </tr>\n",
       "    <tr>\n",
       "      <td>4</td>\n",
       "      <td>2.91</td>\n",
       "      <td>20</td>\n",
       "      <td>1</td>\n",
       "    </tr>\n",
       "  </tbody>\n",
       "</table>\n",
       "</div>"
      ],
      "text/plain": [
       "    GPA  Age  Dropped\n",
       "0  2.49   26        1\n",
       "1  2.67   29        0\n",
       "2  2.86   29        1\n",
       "3  2.21   26        0\n",
       "4  2.91   20        1"
      ]
     },
     "execution_count": 6,
     "metadata": {},
     "output_type": "execute_result"
    }
   ],
   "source": [
    "student_test.head()"
   ]
  },
  {
   "cell_type": "markdown",
   "id": "76168d72",
   "metadata": {},
   "source": [
    "b)\tSplit the data into training and test set as follows:\n",
    " \n",
    "Print the shape of input and output data for the training and test sets \n"
   ]
  },
  {
   "cell_type": "code",
   "execution_count": 7,
   "id": "a97fd60e",
   "metadata": {},
   "outputs": [],
   "source": [
    "X_delivery_train = delivery_train[[\"Miles\", \"Deliveries\"]]\n",
    "y_delivery_train = delivery_train[[\"Time\"]]\n",
    "\n",
    "X_delivery_test = delivery_test[[\"Miles\", \"Deliveries\"]]\n",
    "y_delivery_test = delivery_test[[\"Time\"]]\n",
    "\n",
    "X_student_train = student_train[[\"GPA\", \"Age\"]]\n",
    "y_student_train = student_train[[\"Dropped\"]]\n",
    "\n",
    "X_student_test = student_test[[\"GPA\", \"Age\"]]\n",
    "y_student_test = student_test[[\"Dropped\"]]"
   ]
  },
  {
   "cell_type": "code",
   "execution_count": 8,
   "id": "5c325222",
   "metadata": {},
   "outputs": [
    {
     "name": "stdout",
     "output_type": "stream",
     "text": [
      "Shape of training delivery input: (199, 2)\n",
      "Shape of training delivery output: (199, 1)\n",
      "Shape of test delivery input: (101, 2)\n",
      "Shape of test delivery output: (101, 1)\n",
      "Shape of training student input: (400, 2)\n",
      "Shape of training student output: (400, 1)\n",
      "Shape of test student input: (100, 2)\n",
      "Shape of test student output: (100, 1)\n"
     ]
    }
   ],
   "source": [
    "# Print the shape of the X and y for each set\n",
    "# Training delivery set\n",
    "print(\"Shape of training delivery input:\", X_delivery_train.shape)\n",
    "print(\"Shape of training delivery output:\", y_delivery_train.shape)\n",
    "# Test delivery set\n",
    "print(\"Shape of test delivery input:\", X_delivery_test.shape)\n",
    "print(\"Shape of test delivery output:\", y_delivery_test.shape)\n",
    "# Training student set\n",
    "print(\"Shape of training student input:\", X_student_train.shape)\n",
    "print(\"Shape of training student output:\", y_student_train.shape)\n",
    "# Test student set\n",
    "print(\"Shape of test student input:\", X_student_test.shape)\n",
    "print(\"Shape of test student output:\", y_student_test.shape)"
   ]
  },
  {
   "cell_type": "markdown",
   "id": "e304f0b7",
   "metadata": {},
   "source": [
    "c)\tYou would use the delivery data for regression: that is, miles (“Miles”) and number of deliveries (“Deliveries”) would be use an input to predict the total time it takes for a delivery truck to deliver Amazon packages. You would write a k-nearest neighbor algorithm function that learns from the training set and predicts the output or y values of given test instances. The input that the function takes include:\n",
    "*\tX_train: Pandas DataFrame or 2D NumPy array \n",
    "*\t y_train: Pandas Series or 1D NumPy array \n",
    "*\tX_test: Pandas DataFrame or 2D NumPy array\n",
    "*\tK: the number of nearest neighbors. The default value should be k=5 if no k value is passed during function call. \n",
    "\n",
    "Use the following pseudo code to implement the algorithm (also see class notes on ideas for writing knn from scratch to see the details of each step in the body of the code). Here is the pseudo code:\n",
    "\n",
    "Call the knn_predict() function and pass the X_delivery_train, y_delivery_train and X_delivery_test to compute the predicted output values for the X_delivery_test set. You can reference the results using a variable, y_delivery_test_pred. "
   ]
  },
  {
   "cell_type": "code",
   "execution_count": 85,
   "id": "35857f47",
   "metadata": {
    "scrolled": false
   },
   "outputs": [],
   "source": [
    "def knn_predict(X_train, y_train, X_test, k=5):\n",
    "    y_pred = []\n",
    "    for i in range(0, len(X_test)):\n",
    "        # Grad a data instance from the x_test data\n",
    "        test_instance = np.array([X_test.iloc[i]])\n",
    "        # Find the distance between the test instance and all the training instances\n",
    "        dists = euclidean_distances(X_train, test_instance)\n",
    "        # Stack the distances with the y_train to get a matrix\n",
    "        stacked = np.stack((dists.flatten(), y_train[\"Time\"].values), axis=1)\n",
    "        # Sort the matrix by the distance column\n",
    "        stacked = stacked[np.argsort(stacked[:, 0])]\n",
    "        # Pick the first k y_train values.\n",
    "        y_train_nearest_k = stacked[0:k, 1]\n",
    "        # Make a perdiction from the y_train values\n",
    "        test_pred = np.mean(y_train_nearest_k)\n",
    "        # Append the predicted value to the array\n",
    "        y_pred.append(test_pred)\n",
    "    # Return the list of predictions for the entire test set\n",
    "    return(y_pred)\n",
    "\n",
    "# Call the function with the delivery data\n",
    "y_delivery_test_pred = knn_predict(X_delivery_train, y_delivery_train, X_delivery_test)"
   ]
  },
  {
   "cell_type": "markdown",
   "id": "94217681",
   "metadata": {},
   "source": [
    "d) Write a function that computes the mean squared error to measure the performance accuracy of your knn algorithm. The input that goes into the function is the actual output values(y) and the predicted output values (y_pred). The mean squared error (mse) is calculated as follows:\n",
    "$mse = \\frac{1}{n}\\sum_{1=1}^{n}\\left(y-y_{pred}\\right)^2$ where n = length of y or length of y_pred\n",
    "You can name the function mse. Then call the function to compute the mse for the test set for the delivery data. That is, use mse(y_delivery_test, y_delivery_test_pred). \n"
   ]
  },
  {
   "cell_type": "code",
   "execution_count": 10,
   "id": "6014c5a2",
   "metadata": {},
   "outputs": [
    {
     "name": "stdout",
     "output_type": "stream",
     "text": [
      "MSE on test set: 1.0977544554455443\n"
     ]
    }
   ],
   "source": [
    "def mse(y, y_pred):\n",
    "    # Compute the difference between the true and predicted values\n",
    "    resid = y.to_numpy().flatten() - y_pred\n",
    "    # Compute the sum of the squared residuals\n",
    "    sum_of_resid = np.sum(resid**2)\n",
    "    # Divide by the length of the data\n",
    "    final = sum_of_resid / len(y)\n",
    "    return(final)\n",
    "\n",
    "# Compute the mse for the test set\n",
    "print(\"MSE on test set:\", mse(y_delivery_test, y_delivery_test_pred))"
   ]
  },
  {
   "cell_type": "markdown",
   "id": "3348f121",
   "metadata": {},
   "source": [
    "e)\tDoes your algorithm overfit the data? To answer this question, you need to compute the accuracy or mse of the algorithm on the training set, and compare with the accuracy or mse you got for the test set. You will need to start with making predictions for the training set. Note that you will need to pass the training set into the X_test parameter of the knn_predict() function, in addition to the other arguments of the function. When you get the predicted values for the training set, use the mse() function to get the training mse. "
   ]
  },
  {
   "cell_type": "code",
   "execution_count": 11,
   "id": "8e87a914",
   "metadata": {},
   "outputs": [
    {
     "name": "stdout",
     "output_type": "stream",
     "text": [
      "MSE on training set: 0.5889105527638191\n"
     ]
    }
   ],
   "source": [
    "# Compute the predictions on the training set\n",
    "y_delivery_train_preds = knn_predict(X_delivery_train, y_delivery_train, X_delivery_train)\n",
    "# Compute the MSE of the training set\n",
    "print(\"MSE on training set:\", mse(y_delivery_train, y_delivery_train_preds))"
   ]
  },
  {
   "cell_type": "markdown",
   "id": "a36cb468",
   "metadata": {},
   "source": [
    "f)\tNow, tune the hyperparameter, k, of your algorithm. Specify a grid of hyperparameter values from k=1 to k=50. Use a for-loop, then inside the for-loop body, use the knn_predict() function as well as the mse() function to compute the mse values for the training set and test set for different values of k in the hyperparameter grid. Plot the training and test error rates of the model versus the grid of hyperparameter values. "
   ]
  },
  {
   "cell_type": "code",
   "execution_count": 12,
   "id": "d5cbd67c",
   "metadata": {},
   "outputs": [],
   "source": [
    "# Initialize a list to store the mse values\n",
    "mse_train = []\n",
    "mse_test = []\n",
    "# Specify a grid of k values 1:50\n",
    "k_values = range(1, 51)\n",
    "for k in k_values:\n",
    "    # Calculate the predicted values on the training set with that specific k value\n",
    "    preds_train = knn_predict(X_delivery_train, y_delivery_train, X_delivery_train, k)\n",
    "    # Calculate the mse of the training set and append to the list\n",
    "    mse_train.append(mse(y_delivery_train, preds_train))\n",
    "    \n",
    "    # Calculate the predicted values on the test set with that specific k value\n",
    "    preds_test = knn_predict(X_delivery_train, y_delivery_train, X_delivery_test, k)\n",
    "    # Calculate the mse of the training set and append to the list\n",
    "    mse_test.append(mse(y_delivery_test, preds_test))"
   ]
  },
  {
   "cell_type": "code",
   "execution_count": 13,
   "id": "3c7c1ad7",
   "metadata": {},
   "outputs": [
    {
     "data": {
      "text/plain": [
       "<matplotlib.legend.Legend at 0x240e7d5b3c8>"
      ]
     },
     "execution_count": 13,
     "metadata": {},
     "output_type": "execute_result"
    },
    {
     "data": {
      "image/png": "[encoded data removed]",
      "text/plain": [
       "<Figure size 576x360 with 1 Axes>"
      ]
     },
     "metadata": {
      "needs_background": "light"
     },
     "output_type": "display_data"
    }
   ],
   "source": [
    "# Create a plot of the mse for different k values\n",
    "fig, ax = plt.subplots(1, 1, figsize=(8, 5))\n",
    "sns.lineplot(x=k_values, y=mse_train, label=\"training\", ax=ax)\n",
    "sns.lineplot(x=k_values, y=mse_test, label=\"test\", ax=ax)\n",
    "ax.set_xlabel(\"k\")\n",
    "ax.set_ylabel(\"MSE\")\n",
    "ax.set_title(\"MSE of different K values\")\n",
    "ax.legend()"
   ]
  },
  {
   "cell_type": "markdown",
   "id": "8f7b56b9",
   "metadata": {},
   "source": [
    "g)\tNow, construct and fit a k-nearest neighbor model using the  KNeighborsRegressor() estimator in sklearn.neighbors module. Use the mean_square_error() function inside the sklearn.metrics module to compute the mse of the model on the test set. Is this similar to the mse value you got from the algorithm function you wrote from scratch? "
   ]
  },
  {
   "cell_type": "code",
   "execution_count": 14,
   "id": "1d6cfa8d",
   "metadata": {},
   "outputs": [
    {
     "name": "stdout",
     "output_type": "stream",
     "text": [
      "The MSE on the test set for the KNeighborsRegressor: 1.1209346534653466\n"
     ]
    }
   ],
   "source": [
    "# Create and fit the KNN model\n",
    "knn = KNeighborsRegressor(n_neighbors=5).fit(X_delivery_train, y_delivery_train)\n",
    "# Precict on the test set\n",
    "knn_test_preds = knn.predict(X_delivery_test)\n",
    "# Calculate the mse for the test predictions\n",
    "print(\"The MSE on the test set for the KNeighborsRegressor:\", mean_squared_error(y_delivery_test, knn_test_preds))"
   ]
  },
  {
   "cell_type": "markdown",
   "id": "f490bedb",
   "metadata": {},
   "source": [
    "h)\tUsing the Pipeline constructor inside the sklearn.pipeline module, scale the X_delivery_train with the StandardScaler(), and also construct the KNeighborsRegressor() inside the Pipeline(). Then the call the fit() method on the pipeline object to fit the model into the delivery training data. Transform the X_delivery_test data using StandardScaler() and use the mean_squared_error () function inside the sklearn.metrics module to compute the mse of the model on the test set. Is this mse similar to the mse you got when you used the unscaled input data in (g) above?"
   ]
  },
  {
   "cell_type": "code",
   "execution_count": 15,
   "id": "1fccabcf",
   "metadata": {},
   "outputs": [
    {
     "name": "stdout",
     "output_type": "stream",
     "text": [
      "The MSE of the Pipeline: 1.0048316831683173\n"
     ]
    }
   ],
   "source": [
    "# Create the pipeline object\n",
    "pipe = Pipeline([(\"scale\", StandardScaler()),\n",
    "                 (\"KNN\", KNeighborsRegressor())])\n",
    "# Fit the pipeline with the training data\n",
    "pipe.fit(X_delivery_train, y_delivery_train)\n",
    "# Predict on the test set (the pipeline scales the data internally)\n",
    "pipe_preds = pipe.predict(X_delivery_test)\n",
    "# Calculate the mse of the pipeline\n",
    "print(\"The MSE of the Pipeline:\", mean_squared_error(y_delivery_test, pipe_preds))"
   ]
  },
  {
   "cell_type": "markdown",
   "id": "01823658",
   "metadata": {},
   "source": [
    "i)\tUse the scaled X_delivery_train and X_delivery_test data and the RandomForestRegressor constructor inside the sklearn.ensemble module to construct/fit a random forest model, the compute the mse for this model. Is this mse similar to the one you got in question (h) above? "
   ]
  },
  {
   "cell_type": "code",
   "execution_count": 16,
   "id": "5ac31f1c",
   "metadata": {},
   "outputs": [
    {
     "name": "stderr",
     "output_type": "stream",
     "text": [
      "D:\\Anaconda3\\lib\\site-packages\\ipykernel_launcher.py:5: DataConversionWarning: A column-vector y was passed when a 1d array was expected. Please change the shape of y to (n_samples,), for example using ravel().\n",
      "  \"\"\"\n"
     ]
    },
    {
     "name": "stdout",
     "output_type": "stream",
     "text": [
      "Random Forest MSE of the test set: 1.0943102026516822\n"
     ]
    }
   ],
   "source": [
    "# Scale the training and test set\n",
    "X_train_scaled = StandardScaler().fit_transform(X_delivery_train)\n",
    "X_test_scaled = StandardScaler().fit_transform(X_delivery_test)\n",
    "# Fit a Random Forest to the scaled data\n",
    "rf = RandomForestRegressor().fit(X_train_scaled, y_delivery_train)\n",
    "# Predict on the test set\n",
    "rf_preds = rf.predict(X_test_scaled)\n",
    "# Calculate the MSE of the random forest\n",
    "print(\"Random Forest MSE of the test set:\", mean_squared_error(y_delivery_test, rf_preds))"
   ]
  },
  {
   "cell_type": "markdown",
   "id": "3b02d48d",
   "metadata": {},
   "source": [
    "# Question 2"
   ]
  },
  {
   "cell_type": "markdown",
   "id": "fe0941eb",
   "metadata": {},
   "source": [
    "a.\tYou would use the student data for classification: that is, GPA and Age would be used as input to predict wither a student will drop out of school (Dropped=1) or not drop (Dropped=0). You will write a k-nearest neighbor algorithm function that learns from the training set and classifies given test instances to class 0 or class 1. The input that the function takes include:\n",
    "*\tX_train: Pandas DataFrame or 2D NumPy array \n",
    "*\t y_train: Pandas Series or 1D NumPy array \n",
    "*\tX_test: Pandas DataFrame or 2D NumPy array\n",
    "*\tK: the number of nearest neighbors. The default value should be k=5 if no k value is passed during function call. \n",
    "\n",
    "Use the following pseudo code to implement the algorithm (also see class notes on ideas for writing knn from scratch to see the details of each step in the body of the code). Here is the pseudo code:\n",
    "\n",
    "Scale the X_student_train and X_student_test data, and pass these scaled data sets in addition to y_student_train data into the knn_predict() function call to compute the predicted output values for the X_student_test set. You can reference the results using a variable, y_student_test_pred. "
   ]
  },
  {
   "cell_type": "code",
   "execution_count": 17,
   "id": "bf19ac95",
   "metadata": {
    "scrolled": true
   },
   "outputs": [
    {
     "data": {
      "text/plain": [
       "[0.0,\n",
       " 1.0,\n",
       " 0.0,\n",
       " 0.0,\n",
       " 0.0,\n",
       " 1.0,\n",
       " 1.0,\n",
       " 0.0,\n",
       " 0.0,\n",
       " 0.0,\n",
       " 0.0,\n",
       " 0.0,\n",
       " 0.0,\n",
       " 0.0,\n",
       " 1.0,\n",
       " 0.0,\n",
       " 0.0,\n",
       " 0.0,\n",
       " 0.0,\n",
       " 0.0,\n",
       " 0.0,\n",
       " 1.0,\n",
       " 0.0,\n",
       " 0.0,\n",
       " 1.0,\n",
       " 0.0,\n",
       " 0.0,\n",
       " 0.0,\n",
       " 1.0,\n",
       " 0.0,\n",
       " 0.0,\n",
       " 1.0,\n",
       " 0.0,\n",
       " 0.0,\n",
       " 0.0,\n",
       " 0.0,\n",
       " 0.0,\n",
       " 0.0,\n",
       " 0.0,\n",
       " 0.0,\n",
       " 0.0,\n",
       " 1.0,\n",
       " 0.0,\n",
       " 0.0,\n",
       " 1.0,\n",
       " 0.0,\n",
       " 0.0,\n",
       " 0.0,\n",
       " 0.0,\n",
       " 0.0,\n",
       " 0.0,\n",
       " 0.0,\n",
       " 0.0,\n",
       " 0.0,\n",
       " 1.0,\n",
       " 0.0,\n",
       " 0.0,\n",
       " 0.0,\n",
       " 0.0,\n",
       " 0.0,\n",
       " 0.0,\n",
       " 1.0,\n",
       " 1.0,\n",
       " 0.0,\n",
       " 0.0,\n",
       " 0.0,\n",
       " 0.0,\n",
       " 0.0,\n",
       " 1.0,\n",
       " 0.0,\n",
       " 0.0,\n",
       " 0.0,\n",
       " 1.0,\n",
       " 0.0,\n",
       " 0.0,\n",
       " 0.0,\n",
       " 0.0,\n",
       " 0.0,\n",
       " 0.0,\n",
       " 1.0,\n",
       " 0.0,\n",
       " 0.0,\n",
       " 0.0,\n",
       " 0.0,\n",
       " 0.0,\n",
       " 0.0,\n",
       " 0.0,\n",
       " 0.0,\n",
       " 0.0,\n",
       " 0.0,\n",
       " 0.0,\n",
       " 1.0,\n",
       " 0.0,\n",
       " 1.0,\n",
       " 0.0,\n",
       " 0.0,\n",
       " 0.0,\n",
       " 0.0,\n",
       " 1.0,\n",
       " 0.0]"
      ]
     },
     "execution_count": 17,
     "metadata": {},
     "output_type": "execute_result"
    }
   ],
   "source": [
    "def knn_predict(X_train, y_train, X_test, k=5):\n",
    "    y_pred = []\n",
    "    for i in range(0, len(X_test)):\n",
    "        # Grad a data instance from the x_test data\n",
    "        test_instance = np.array([X_test[i]])\n",
    "        # Find the distance between the test instance and all the training instances\n",
    "        dists = euclidean_distances(X_train, test_instance)\n",
    "        # Stack the distances with the y_train to get a matrix\n",
    "        stacked = np.stack((dists.flatten(), y_train[\"Dropped\"].values), axis=1)\n",
    "        # Sort the matrix by the distance column\n",
    "        stacked = stacked[np.argsort(stacked[:, 0])]\n",
    "        # Pick the first k y_train values.\n",
    "        y_train_nearest_k = stacked[0:k, 1]\n",
    "        # Make a perdiction from the y_train values. This is the most often occuring value within the k neighbors.\n",
    "        label_counts = np.unique(y_train_nearest_k, return_counts=True)\n",
    "        test_pred = label_counts[0][np.argmax(label_counts[1])]\n",
    "        # Append the predicted value to the array\n",
    "        y_pred.append(test_pred)\n",
    "    # Return the list of predictions for the entire test set\n",
    "    return(y_pred)\n",
    "\n",
    "# Scale the training and test data\n",
    "X_train_student_scaled = StandardScaler().fit_transform(X_student_train)\n",
    "X_test_student_scaled = StandardScaler().fit_transform(X_student_test)\n",
    "# Compute the predictions on the scaled test set\n",
    "y_student_test_pred = knn_predict(X_train_student_scaled, y_student_train, X_test_student_scaled)\n",
    "y_student_test_pred"
   ]
  },
  {
   "cell_type": "markdown",
   "id": "99a32477",
   "metadata": {},
   "source": [
    "b) Define a function called overall_accuracy, that computes the overall accuracy of your algorithm. You can let your function compare the actual values (y) and the predicted or classified y values (y_pred), for example: overall accuracy could be computed using mean(y==y_pred)"
   ]
  },
  {
   "cell_type": "code",
   "execution_count": 18,
   "id": "6d8c22d1",
   "metadata": {},
   "outputs": [
    {
     "data": {
      "text/plain": [
       "0.72"
      ]
     },
     "execution_count": 18,
     "metadata": {},
     "output_type": "execute_result"
    }
   ],
   "source": [
    "def overall_accuracy(y, y_pred):\n",
    "    # Determine whether y matches y_pred\n",
    "    is_equal = (y.to_numpy().flatten() == y_pred)\n",
    "    # Calculate the proportion that where the same\n",
    "    acc = np.mean(is_equal)\n",
    "    return(acc)\n",
    "\n",
    "overall_accuracy(y_student_test, y_student_test_pred)"
   ]
  },
  {
   "cell_type": "markdown",
   "id": "54afff6f",
   "metadata": {},
   "source": [
    "c) Use GridSearch in scikit learn to tune the parameter of the k-nearest neighbor classifier, then use that optimal parameter to compute the accuracy of the knn estimator on the test set. Is this accuracy score similar to that obtained using your knn algorithm from scratch?"
   ]
  },
  {
   "cell_type": "code",
   "execution_count": 19,
   "id": "421a9ee2",
   "metadata": {},
   "outputs": [
    {
     "name": "stdout",
     "output_type": "stream",
     "text": [
      "The best k-value from the gridsearch: {'n_neighbors': 19}\n"
     ]
    }
   ],
   "source": [
    "# Set gridsearch parameters\n",
    "param_grid = {\"n_neighbors\": range(1, 51)}\n",
    "# Use the gridsearch to find the optimal k value for a KNN classifier\n",
    "grid = GridSearchCV(KNeighborsClassifier(), param_grid).fit(X_train_student_scaled, y_student_train.Dropped)\n",
    "# Determine the best k value\n",
    "print(\"The best k-value from the gridsearch:\", grid.best_params_)"
   ]
  },
  {
   "cell_type": "code",
   "execution_count": 22,
   "id": "c75bed24",
   "metadata": {},
   "outputs": [
    {
     "name": "stdout",
     "output_type": "stream",
     "text": [
      "Accuracy of best model from GridSearch: 0.72\n"
     ]
    }
   ],
   "source": [
    "# Use the best model to predict on the test set\n",
    "grid_preds = grid.best_estimator_.predict(X_test_student_scaled)\n",
    "# Calcaulte the accuracy of the best model\n",
    "print(\"Accuracy of best model from GridSearch:\", overall_accuracy(y_student_test, grid_preds))"
   ]
  },
  {
   "cell_type": "markdown",
   "id": "68c89d36",
   "metadata": {},
   "source": [
    "d) Also build another model using a random forest classifier and compute the accuracy score on the test set. Which of these models is the better, the model is question 2c or this model in question 2d? Why or why not?"
   ]
  },
  {
   "cell_type": "code",
   "execution_count": 24,
   "id": "972efed4",
   "metadata": {},
   "outputs": [
    {
     "name": "stdout",
     "output_type": "stream",
     "text": [
      "Accurcy of Random Forest Classifier: 0.67\n"
     ]
    }
   ],
   "source": [
    "# Use a random forest classifier\n",
    "rf_clf = RandomForestClassifier().fit(X_train_student_scaled, y_student_train.Dropped)\n",
    "# Determine the accuracy of the Random Forest classifier\n",
    "rf_preds = rf_clf.predict(X_test_student_scaled)\n",
    "print(\"Accurcy of Random Forest Classifier:\", overall_accuracy(y_student_test, rf_preds))"
   ]
  },
  {
   "cell_type": "markdown",
   "id": "76d188a4",
   "metadata": {},
   "source": [
    "# Question 3\n",
    "\n",
    "Find your own dataset suitable for classification or regression with at least three input variables and 200 or more cases: Depending on the target variable of interest, you would build a k-nearest neighbor classifier or regressor using the appropriate sklearn estimator. Find some interesting unique dataset that is not popularly used in the internet. \n",
    "Address the following and include code/output snippets from b) to f). Include the response under each sub question. \n"
   ]
  },
  {
   "cell_type": "code",
   "execution_count": 74,
   "id": "b40e6b85",
   "metadata": {},
   "outputs": [
    {
     "data": {
      "text/html": [
       "<div>\n",
       "<style scoped>\n",
       "    .dataframe tbody tr th:only-of-type {\n",
       "        vertical-align: middle;\n",
       "    }\n",
       "\n",
       "    .dataframe tbody tr th {\n",
       "        vertical-align: top;\n",
       "    }\n",
       "\n",
       "    .dataframe thead th {\n",
       "        text-align: right;\n",
       "    }\n",
       "</style>\n",
       "<table border=\"1\" class=\"dataframe\">\n",
       "  <thead>\n",
       "    <tr style=\"text-align: right;\">\n",
       "      <th></th>\n",
       "      <th>length</th>\n",
       "      <th>diameter</th>\n",
       "      <th>height</th>\n",
       "      <th>weight_whole</th>\n",
       "      <th>weight_shucked</th>\n",
       "      <th>weight_viscera</th>\n",
       "      <th>weight_shell</th>\n",
       "      <th>I</th>\n",
       "      <th>M</th>\n",
       "    </tr>\n",
       "  </thead>\n",
       "  <tbody>\n",
       "    <tr>\n",
       "      <td>0</td>\n",
       "      <td>0.513514</td>\n",
       "      <td>0.521008</td>\n",
       "      <td>0.084071</td>\n",
       "      <td>0.181335</td>\n",
       "      <td>0.150303</td>\n",
       "      <td>0.132324</td>\n",
       "      <td>0.147982</td>\n",
       "      <td>0</td>\n",
       "      <td>1</td>\n",
       "    </tr>\n",
       "    <tr>\n",
       "      <td>1</td>\n",
       "      <td>0.371622</td>\n",
       "      <td>0.352941</td>\n",
       "      <td>0.079646</td>\n",
       "      <td>0.079157</td>\n",
       "      <td>0.066241</td>\n",
       "      <td>0.063199</td>\n",
       "      <td>0.068261</td>\n",
       "      <td>0</td>\n",
       "      <td>1</td>\n",
       "    </tr>\n",
       "    <tr>\n",
       "      <td>2</td>\n",
       "      <td>0.614865</td>\n",
       "      <td>0.613445</td>\n",
       "      <td>0.119469</td>\n",
       "      <td>0.239065</td>\n",
       "      <td>0.171822</td>\n",
       "      <td>0.185648</td>\n",
       "      <td>0.207773</td>\n",
       "      <td>0</td>\n",
       "      <td>0</td>\n",
       "    </tr>\n",
       "    <tr>\n",
       "      <td>3</td>\n",
       "      <td>0.493243</td>\n",
       "      <td>0.521008</td>\n",
       "      <td>0.110619</td>\n",
       "      <td>0.182044</td>\n",
       "      <td>0.144250</td>\n",
       "      <td>0.149440</td>\n",
       "      <td>0.152965</td>\n",
       "      <td>0</td>\n",
       "      <td>1</td>\n",
       "    </tr>\n",
       "    <tr>\n",
       "      <td>4</td>\n",
       "      <td>0.344595</td>\n",
       "      <td>0.336134</td>\n",
       "      <td>0.070796</td>\n",
       "      <td>0.071897</td>\n",
       "      <td>0.059516</td>\n",
       "      <td>0.051350</td>\n",
       "      <td>0.053313</td>\n",
       "      <td>1</td>\n",
       "      <td>0</td>\n",
       "    </tr>\n",
       "  </tbody>\n",
       "</table>\n",
       "</div>"
      ],
      "text/plain": [
       "     length  diameter    height  weight_whole  weight_shucked  weight_viscera  \\\n",
       "0  0.513514  0.521008  0.084071      0.181335        0.150303        0.132324   \n",
       "1  0.371622  0.352941  0.079646      0.079157        0.066241        0.063199   \n",
       "2  0.614865  0.613445  0.119469      0.239065        0.171822        0.185648   \n",
       "3  0.493243  0.521008  0.110619      0.182044        0.144250        0.149440   \n",
       "4  0.344595  0.336134  0.070796      0.071897        0.059516        0.051350   \n",
       "\n",
       "   weight_shell  I  M  \n",
       "0      0.147982  0  1  \n",
       "1      0.068261  0  1  \n",
       "2      0.207773  0  0  \n",
       "3      0.152965  0  1  \n",
       "4      0.053313  1  0  "
      ]
     },
     "execution_count": 74,
     "metadata": {},
     "output_type": "execute_result"
    }
   ],
   "source": [
    "# Read in the abalone dataset\n",
    "df_abalone = pd.read_csv(\"abalone.csv\", header=None)\n",
    "# Rename the columns to their actual values\n",
    "df_abalone.columns = [\"sex\", \"length\", \"diameter\", \"height\", \"weight_whole\", \\\n",
    "                      \"weight_shucked\", \"weight_viscera\", \"weight_shell\", \"rings\"]\n",
    "\n",
    "# Extract the response variable\n",
    "y_aba = df_abalone[\"rings\"]\n",
    "\n",
    "# Standardize the numerical data\n",
    "scaler = MinMaxScaler()\n",
    "data_scaled = scaler.fit_transform(df_abalone.drop([\"sex\", \"rings\"], axis=1))\n",
    "df_scaled = pd.DataFrame(data_scaled, columns=[\"length\", \"diameter\", \"height\", \"weight_whole\", \\\n",
    "                                   \"weight_shucked\", \"weight_viscera\", \"weight_shell\"])\n",
    "# Convert gender to categorical\n",
    "df_dummy = pd.get_dummies(df_abalone[\"sex\"], drop_first=True)\n",
    "\n",
    "# Combine the cleaned dataframes into an X dataframe\n",
    "df_aba = pd.concat([df_scaled, df_dummy], axis=1)\n",
    "df_aba.head()"
   ]
  },
  {
   "cell_type": "code",
   "execution_count": 75,
   "id": "f636ad86",
   "metadata": {},
   "outputs": [
    {
     "data": {
      "text/plain": [
       "length            0\n",
       "diameter          0\n",
       "height            0\n",
       "weight_whole      0\n",
       "weight_shucked    0\n",
       "weight_viscera    0\n",
       "weight_shell      0\n",
       "I                 0\n",
       "M                 0\n",
       "dtype: int64"
      ]
     },
     "execution_count": 75,
     "metadata": {},
     "output_type": "execute_result"
    }
   ],
   "source": [
    "# Search for missing data\n",
    "np.sum(df_aba.isna())"
   ]
  },
  {
   "cell_type": "code",
   "execution_count": 78,
   "id": "01ffd3df",
   "metadata": {},
   "outputs": [
    {
     "name": "stdout",
     "output_type": "stream",
     "text": [
      "(3341, 9)\n",
      "(3341,)\n",
      "(836, 9)\n",
      "(836,)\n"
     ]
    }
   ],
   "source": [
    "# Split the data into training and test sets\n",
    "X_train_aba, X_test_aba, y_train_aba, y_test_aba = train_test_split(df_aba, y_aba,\n",
    "                                                                    test_size=0.2,\n",
    "                                                                    random_state=42)\n",
    "print(X_train_aba.shape)\n",
    "print(y_train_aba.shape)\n",
    "print(X_test_aba.shape)\n",
    "print(y_test_aba.shape)"
   ]
  },
  {
   "cell_type": "code",
   "execution_count": 82,
   "id": "4b6ff30d",
   "metadata": {},
   "outputs": [],
   "source": [
    "# Create a KNN regressor and fit it to the training data\n",
    "knn_aba = KNeighborsRegressor()"
   ]
  },
  {
   "cell_type": "code",
   "execution_count": 83,
   "id": "0cf2afaa",
   "metadata": {},
   "outputs": [
    {
     "name": "stdout",
     "output_type": "stream",
     "text": [
      "Best k-value from training data: {'n_neighbors': 16}\n"
     ]
    }
   ],
   "source": [
    "# Use GridSearch to find the best k-value for the model\n",
    "param_grid = {\"n_neighbors\": np.arange(1, 21)}\n",
    "grid_aba = GridSearchCV(knn_aba, param_grid, cv=8)\n",
    "# Fit the GridSearch to the training data\n",
    "grid_aba.fit(X_train_aba, y_train_aba)\n",
    "# Set the model as the best model\n",
    "knn_aba = grid_aba.best_estimator_\n",
    "print(\"Best k-value from training data:\", grid_aba.best_params_)"
   ]
  },
  {
   "cell_type": "code",
   "execution_count": 84,
   "id": "ffe59795",
   "metadata": {},
   "outputs": [
    {
     "name": "stdout",
     "output_type": "stream",
     "text": [
      "MSE on the training set: 4.251068635887459\n",
      "MSE on the test set: 4.932355524820574\n"
     ]
    }
   ],
   "source": [
    "# Using the best model, predict the values of the training and test sets\n",
    "aba_preds_train = knn_aba.predict(X_train_aba)\n",
    "aba_preds_test = knn_aba.predict(X_test_aba)\n",
    "# Compute the MSE of the predictions on both sets\n",
    "print(\"MSE on the training set:\", mse(y_train_aba, aba_preds_train))\n",
    "print(\"MSE on the test set:\", mse(y_test_aba, aba_preds_test))"
   ]
  }
 ],
 "metadata": {
  "kernelspec": {
   "display_name": "Python 3",
   "language": "python",
   "name": "python3"
  },
  "language_info": {
   "codemirror_mode": {
    "name": "ipython",
    "version": 3
   },
   "file_extension": ".py",
   "mimetype": "text/x-python",
   "name": "python",
   "nbconvert_exporter": "python",
   "pygments_lexer": "ipython3",
   "version": "3.6.13"
  }
 },
 "nbformat": 4,
 "nbformat_minor": 5
}
