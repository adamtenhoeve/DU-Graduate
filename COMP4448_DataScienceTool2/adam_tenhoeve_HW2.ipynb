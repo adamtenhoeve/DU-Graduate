{
 "cells": [
  {
   "cell_type": "markdown",
   "id": "a13a0b74",
   "metadata": {},
   "source": [
    "Adam Ten Hoeve  \n",
    "COMP 4448 Data Science Tools 2  \n",
    "Assignment 2"
   ]
  },
  {
   "cell_type": "code",
   "execution_count": 2,
   "id": "8e80037f",
   "metadata": {},
   "outputs": [],
   "source": [
    "# Load Necesary packages\n",
    "import numpy as np\n",
    "import pandas as pd\n",
    "\n",
    "import matplotlib.pyplot as plt\n",
    "%matplotlib inline"
   ]
  },
  {
   "cell_type": "markdown",
   "id": "1a35f78f",
   "metadata": {},
   "source": [
    "# Question 1\n",
    "\n",
    "You are provided with the following dataset:"
   ]
  },
  {
   "cell_type": "code",
   "execution_count": 3,
   "id": "cb78d33a",
   "metadata": {},
   "outputs": [
    {
     "data": {
      "text/html": [
       "<div>\n",
       "<style scoped>\n",
       "    .dataframe tbody tr th:only-of-type {\n",
       "        vertical-align: middle;\n",
       "    }\n",
       "\n",
       "    .dataframe tbody tr th {\n",
       "        vertical-align: top;\n",
       "    }\n",
       "\n",
       "    .dataframe thead th {\n",
       "        text-align: right;\n",
       "    }\n",
       "</style>\n",
       "<table border=\"1\" class=\"dataframe\">\n",
       "  <thead>\n",
       "    <tr style=\"text-align: right;\">\n",
       "      <th></th>\n",
       "      <th>refund</th>\n",
       "      <th>marital_status</th>\n",
       "      <th>income_above_80k</th>\n",
       "      <th>cheat</th>\n",
       "    </tr>\n",
       "  </thead>\n",
       "  <tbody>\n",
       "    <tr>\n",
       "      <td>0</td>\n",
       "      <td>yes</td>\n",
       "      <td>single</td>\n",
       "      <td>yes</td>\n",
       "      <td>no</td>\n",
       "    </tr>\n",
       "    <tr>\n",
       "      <td>1</td>\n",
       "      <td>no</td>\n",
       "      <td>married</td>\n",
       "      <td>yes</td>\n",
       "      <td>no</td>\n",
       "    </tr>\n",
       "    <tr>\n",
       "      <td>2</td>\n",
       "      <td>no</td>\n",
       "      <td>single</td>\n",
       "      <td>no</td>\n",
       "      <td>no</td>\n",
       "    </tr>\n",
       "    <tr>\n",
       "      <td>3</td>\n",
       "      <td>yes</td>\n",
       "      <td>married</td>\n",
       "      <td>yes</td>\n",
       "      <td>no</td>\n",
       "    </tr>\n",
       "    <tr>\n",
       "      <td>4</td>\n",
       "      <td>no</td>\n",
       "      <td>divorced</td>\n",
       "      <td>yes</td>\n",
       "      <td>yes</td>\n",
       "    </tr>\n",
       "    <tr>\n",
       "      <td>5</td>\n",
       "      <td>no</td>\n",
       "      <td>married</td>\n",
       "      <td>no</td>\n",
       "      <td>no</td>\n",
       "    </tr>\n",
       "    <tr>\n",
       "      <td>6</td>\n",
       "      <td>yes</td>\n",
       "      <td>divorced</td>\n",
       "      <td>yes</td>\n",
       "      <td>no</td>\n",
       "    </tr>\n",
       "    <tr>\n",
       "      <td>7</td>\n",
       "      <td>no</td>\n",
       "      <td>single</td>\n",
       "      <td>yes</td>\n",
       "      <td>yes</td>\n",
       "    </tr>\n",
       "    <tr>\n",
       "      <td>8</td>\n",
       "      <td>no</td>\n",
       "      <td>married</td>\n",
       "      <td>no</td>\n",
       "      <td>no</td>\n",
       "    </tr>\n",
       "    <tr>\n",
       "      <td>9</td>\n",
       "      <td>no</td>\n",
       "      <td>single</td>\n",
       "      <td>yes</td>\n",
       "      <td>yes</td>\n",
       "    </tr>\n",
       "  </tbody>\n",
       "</table>\n",
       "</div>"
      ],
      "text/plain": [
       "  refund marital_status income_above_80k cheat\n",
       "0    yes         single              yes    no\n",
       "1     no        married              yes    no\n",
       "2     no         single               no    no\n",
       "3    yes        married              yes    no\n",
       "4     no       divorced              yes   yes\n",
       "5     no        married               no    no\n",
       "6    yes       divorced              yes    no\n",
       "7     no         single              yes   yes\n",
       "8     no        married               no    no\n",
       "9     no         single              yes   yes"
      ]
     },
     "execution_count": 3,
     "metadata": {},
     "output_type": "execute_result"
    }
   ],
   "source": [
    "refund = [\"yes\", \"no\", \"no\", \"yes\", \"no\", \"no\", \"yes\", \"no\", \"no\", \"no\"]\n",
    "marital_status = [\"single\", \"married\", \"single\", \"married\", \"divorced\", \\\n",
    "                  \"married\", \"divorced\", \"single\", \"married\", \"single\"]\n",
    "income_above_80k = [\"yes\", \"yes\", \"no\", \"yes\", \"yes\", \"no\", \"yes\", \"yes\", \"no\", \"yes\"]\n",
    "cheat = [\"no\", \"no\", \"no\", \"no\", \"yes\", \"no\", \"no\", \"yes\", \"no\", \"yes\"]\n",
    "# Create a dataframe of the data\n",
    "df = pd.DataFrame([refund, marital_status, income_above_80k, cheat]).transpose()\n",
    "df.columns = [\"refund\", \"marital_status\", \"income_above_80k\", \"cheat\"]\n",
    "df"
   ]
  },
  {
   "cell_type": "markdown",
   "id": "20488a50",
   "metadata": {},
   "source": [
    "a)\tWrite an IF-THEN rule derived from this decision tree, that can be used to classify instances in the data suppose your desire is to predict “yes” for the output variable. "
   ]
  },
  {
   "cell_type": "markdown",
   "id": "38376ba5",
   "metadata": {},
   "source": [
    "IF Refund = \"No\"\n",
    "AND Income Above 80k = \"Yes\"\n",
    "AND (Marital Status = \"Single\" OR Marital Status = \"Divorced\")\n",
    "THEN Cheat = \"Yes\""
   ]
  },
  {
   "cell_type": "markdown",
   "id": "00bd6b3e",
   "metadata": {},
   "source": [
    "b)\tIn code, create a function with an if-else statement to implement the rule you wrote above in question 1a. You can name the function predict. The function takes the input data and returns a vector of predicted output values. You can decide if you want your function’s input data argument to be a numpy array or a data frame, ,then structure your function body to process the input data accordingly. Provide some brief document of your function. You can loop through each instance in the input data and assess whether the instance satisfies the rule for predicting “yes” or not. If the instance satisfies the rule for predicting “yes”, then predict 1, otherwise, predict 0. "
   ]
  },
  {
   "cell_type": "code",
   "execution_count": 4,
   "id": "92eb722a",
   "metadata": {},
   "outputs": [],
   "source": [
    "def predict(df):\n",
    "    # Input is the dataframe\n",
    "    # Initialize a vector or predictions.\n",
    "    # Each is initialized as 0 (will not cheat), and will change if all the conditions of the rule are met.\n",
    "    predictions = np.zeros(df.shape[0])\n",
    "    # Loop through each instance of the dataframe\n",
    "    for index, row in df.iterrows():\n",
    "        # Check if \"refund\"==\"no\"\n",
    "        if row[\"refund\"]==\"no\":\n",
    "            # Check if Income is above 80k\n",
    "            if row[\"income_above_80k\"]==\"yes\":\n",
    "                # Check if single or divorced\n",
    "                if row[\"marital_status\"]==\"single\" or row[\"marital_status\"]==\"divorced\":\n",
    "                    # Then meets all criteria for cheating on taxes, so set prediction to 1.\n",
    "                    predictions[index] = 1\n",
    "                    \n",
    "    # Return the vector of predictions\n",
    "    return(predictions)"
   ]
  },
  {
   "cell_type": "markdown",
   "id": "fd455a9f",
   "metadata": {},
   "source": [
    "c)\tCreate another function that implements the rule for predicting “yes” for the output, but this time, you will not use if-else statement or a loop. Rather use numpy arrays, matrices or vector to vectorize your code for faster and more efficient implementation. If the instance satisfies the rule for predicting “yes”, then predict 1, otherwise, predict 0. You can use logical operators for such implementation to compare values of test instances to values of attributes in the rule. This function still takes the input data and returns a vector of predicted values. You can call this function vectorized_predict. "
   ]
  },
  {
   "cell_type": "code",
   "execution_count": 5,
   "id": "96102be1",
   "metadata": {},
   "outputs": [],
   "source": [
    "def vectorized_predict(df):\n",
    "    predictions = df.apply(lambda x: int(x[\"refund\"]==\"no\" and \\\n",
    "                                  x[\"income_above_80k\"]==\"yes\" and \\\n",
    "                                  (x[\"marital_status\"]==\"single\" or \\\n",
    "                                   x[\"marital_status\"]==\"divorced\")), \n",
    "                           axis=1)\n",
    "    return(np.array(predictions))"
   ]
  },
  {
   "cell_type": "markdown",
   "id": "b1ea7138",
   "metadata": {},
   "source": [
    "d)\tSelect the input data (refund, marital_status, income_above_80k) in the training data and apply your predict function to the input data to predict the outcome values of the input data. Your function should return a vector of predicted values. "
   ]
  },
  {
   "cell_type": "code",
   "execution_count": 6,
   "id": "7584dee4",
   "metadata": {},
   "outputs": [
    {
     "data": {
      "text/plain": [
       "array([0., 0., 0., 0., 1., 0., 0., 1., 0., 1.])"
      ]
     },
     "execution_count": 6,
     "metadata": {},
     "output_type": "execute_result"
    }
   ],
   "source": [
    "predict(df[[\"refund\", \"marital_status\", \"income_above_80k\"]])"
   ]
  },
  {
   "cell_type": "markdown",
   "id": "a3ce6b0b",
   "metadata": {},
   "source": [
    "e)\tSelect the input data (refund, marital_status, income_above_80k) in the training data and apply your vectorized_predict function to the input data to predict the outcome values of the input data. Your function should return a vector of predicted values. Are the predicted values with the vectorized_predict function the same as the predicted values obtained through the predict function? (you should have the same results). "
   ]
  },
  {
   "cell_type": "code",
   "execution_count": 7,
   "id": "feb5ed3f",
   "metadata": {},
   "outputs": [
    {
     "data": {
      "text/plain": [
       "array([0, 0, 0, 0, 1, 0, 0, 1, 0, 1], dtype=int64)"
      ]
     },
     "execution_count": 7,
     "metadata": {},
     "output_type": "execute_result"
    }
   ],
   "source": [
    "vectorized_predict(df[[\"refund\", \"marital_status\", \"income_above_80k\"]])"
   ]
  },
  {
   "cell_type": "markdown",
   "id": "af102be3",
   "metadata": {},
   "source": [
    "f)\tInclude the predicted values as a column to the training data and name that column predicted_cheat. "
   ]
  },
  {
   "cell_type": "code",
   "execution_count": 8,
   "id": "31e9aed0",
   "metadata": {},
   "outputs": [
    {
     "data": {
      "text/html": [
       "<div>\n",
       "<style scoped>\n",
       "    .dataframe tbody tr th:only-of-type {\n",
       "        vertical-align: middle;\n",
       "    }\n",
       "\n",
       "    .dataframe tbody tr th {\n",
       "        vertical-align: top;\n",
       "    }\n",
       "\n",
       "    .dataframe thead th {\n",
       "        text-align: right;\n",
       "    }\n",
       "</style>\n",
       "<table border=\"1\" class=\"dataframe\">\n",
       "  <thead>\n",
       "    <tr style=\"text-align: right;\">\n",
       "      <th></th>\n",
       "      <th>refund</th>\n",
       "      <th>marital_status</th>\n",
       "      <th>income_above_80k</th>\n",
       "      <th>cheat</th>\n",
       "      <th>predicted_cheat</th>\n",
       "    </tr>\n",
       "  </thead>\n",
       "  <tbody>\n",
       "    <tr>\n",
       "      <td>0</td>\n",
       "      <td>yes</td>\n",
       "      <td>single</td>\n",
       "      <td>yes</td>\n",
       "      <td>no</td>\n",
       "      <td>0</td>\n",
       "    </tr>\n",
       "    <tr>\n",
       "      <td>1</td>\n",
       "      <td>no</td>\n",
       "      <td>married</td>\n",
       "      <td>yes</td>\n",
       "      <td>no</td>\n",
       "      <td>0</td>\n",
       "    </tr>\n",
       "    <tr>\n",
       "      <td>2</td>\n",
       "      <td>no</td>\n",
       "      <td>single</td>\n",
       "      <td>no</td>\n",
       "      <td>no</td>\n",
       "      <td>0</td>\n",
       "    </tr>\n",
       "    <tr>\n",
       "      <td>3</td>\n",
       "      <td>yes</td>\n",
       "      <td>married</td>\n",
       "      <td>yes</td>\n",
       "      <td>no</td>\n",
       "      <td>0</td>\n",
       "    </tr>\n",
       "    <tr>\n",
       "      <td>4</td>\n",
       "      <td>no</td>\n",
       "      <td>divorced</td>\n",
       "      <td>yes</td>\n",
       "      <td>yes</td>\n",
       "      <td>1</td>\n",
       "    </tr>\n",
       "    <tr>\n",
       "      <td>5</td>\n",
       "      <td>no</td>\n",
       "      <td>married</td>\n",
       "      <td>no</td>\n",
       "      <td>no</td>\n",
       "      <td>0</td>\n",
       "    </tr>\n",
       "    <tr>\n",
       "      <td>6</td>\n",
       "      <td>yes</td>\n",
       "      <td>divorced</td>\n",
       "      <td>yes</td>\n",
       "      <td>no</td>\n",
       "      <td>0</td>\n",
       "    </tr>\n",
       "    <tr>\n",
       "      <td>7</td>\n",
       "      <td>no</td>\n",
       "      <td>single</td>\n",
       "      <td>yes</td>\n",
       "      <td>yes</td>\n",
       "      <td>1</td>\n",
       "    </tr>\n",
       "    <tr>\n",
       "      <td>8</td>\n",
       "      <td>no</td>\n",
       "      <td>married</td>\n",
       "      <td>no</td>\n",
       "      <td>no</td>\n",
       "      <td>0</td>\n",
       "    </tr>\n",
       "    <tr>\n",
       "      <td>9</td>\n",
       "      <td>no</td>\n",
       "      <td>single</td>\n",
       "      <td>yes</td>\n",
       "      <td>yes</td>\n",
       "      <td>1</td>\n",
       "    </tr>\n",
       "  </tbody>\n",
       "</table>\n",
       "</div>"
      ],
      "text/plain": [
       "  refund marital_status income_above_80k cheat  predicted_cheat\n",
       "0    yes         single              yes    no                0\n",
       "1     no        married              yes    no                0\n",
       "2     no         single               no    no                0\n",
       "3    yes        married              yes    no                0\n",
       "4     no       divorced              yes   yes                1\n",
       "5     no        married               no    no                0\n",
       "6    yes       divorced              yes    no                0\n",
       "7     no         single              yes   yes                1\n",
       "8     no        married               no    no                0\n",
       "9     no         single              yes   yes                1"
      ]
     },
     "execution_count": 8,
     "metadata": {},
     "output_type": "execute_result"
    }
   ],
   "source": [
    "df[\"predicted_cheat\"] = vectorized_predict(df)\n",
    "df"
   ]
  },
  {
   "cell_type": "markdown",
   "id": "5d76b436",
   "metadata": {},
   "source": [
    "g)\tCreate a function that computes the overall accuracy of the classification. You can call this function overall_accuracy. The function should take two arguments, a vector of  actual output values and a vector of predicted output values, then returns the classification accuracy. Inside the function, you can use boolean logic to compare the actual and predicted values, then count the proportion of how many predicted values are equal to the actual values to get the overall accuracy. "
   ]
  },
  {
   "cell_type": "code",
   "execution_count": 9,
   "id": "a625d058",
   "metadata": {},
   "outputs": [
    {
     "data": {
      "text/plain": [
       "1.0"
      ]
     },
     "execution_count": 9,
     "metadata": {},
     "output_type": "execute_result"
    }
   ],
   "source": [
    "def overall_accuracy(labels, preds):\n",
    "    '''\n",
    "    labels: A vector of the actual output values\n",
    "    preds: A vector of the predicted values\n",
    "    '''\n",
    "    # Convert labels to binary values\n",
    "    labels = labels.apply(lambda x: 0 if x==\"no\" else 1)\n",
    "    # Use boolean logic to test if the actual label is the same as the predicted label\n",
    "    is_the_same = (labels == preds)\n",
    "    # Accuracy = number covered and correctly labeled / total number of instances\n",
    "    accuracy = sum(is_the_same) / len(is_the_same)\n",
    "    \n",
    "    return(accuracy)\n",
    "\n",
    "overall_accuracy(df[\"cheat\"], df[\"predicted_cheat\"])"
   ]
  },
  {
   "cell_type": "markdown",
   "id": "a6b6d10b",
   "metadata": {},
   "source": [
    "h)\tCreate a confusion matrix using the predicted and actual output values. You can use pandas crosstab function. "
   ]
  },
  {
   "cell_type": "code",
   "execution_count": 10,
   "id": "023d68f8",
   "metadata": {},
   "outputs": [
    {
     "data": {
      "text/html": [
       "<div>\n",
       "<style scoped>\n",
       "    .dataframe tbody tr th:only-of-type {\n",
       "        vertical-align: middle;\n",
       "    }\n",
       "\n",
       "    .dataframe tbody tr th {\n",
       "        vertical-align: top;\n",
       "    }\n",
       "\n",
       "    .dataframe thead th {\n",
       "        text-align: right;\n",
       "    }\n",
       "</style>\n",
       "<table border=\"1\" class=\"dataframe\">\n",
       "  <thead>\n",
       "    <tr style=\"text-align: right;\">\n",
       "      <th>predicted_cheat</th>\n",
       "      <th>0</th>\n",
       "      <th>1</th>\n",
       "    </tr>\n",
       "    <tr>\n",
       "      <th>cheat</th>\n",
       "      <th></th>\n",
       "      <th></th>\n",
       "    </tr>\n",
       "  </thead>\n",
       "  <tbody>\n",
       "    <tr>\n",
       "      <td>no</td>\n",
       "      <td>7</td>\n",
       "      <td>0</td>\n",
       "    </tr>\n",
       "    <tr>\n",
       "      <td>yes</td>\n",
       "      <td>0</td>\n",
       "      <td>3</td>\n",
       "    </tr>\n",
       "  </tbody>\n",
       "</table>\n",
       "</div>"
      ],
      "text/plain": [
       "predicted_cheat  0  1\n",
       "cheat                \n",
       "no               7  0\n",
       "yes              0  3"
      ]
     },
     "execution_count": 10,
     "metadata": {},
     "output_type": "execute_result"
    }
   ],
   "source": [
    "pd.crosstab(df[\"cheat\"], df[\"predicted_cheat\"])"
   ]
  },
  {
   "cell_type": "markdown",
   "id": "5951b9bd",
   "metadata": {},
   "source": [
    "i)\tSupose the test set data is as follows. Apply the vectorized_predict function to the input of the test dataset to predict the output values for the test dataset. Include these predicted values as a column to the test dataset and called this column predicted_cheat. "
   ]
  },
  {
   "cell_type": "code",
   "execution_count": 11,
   "id": "9c674db7",
   "metadata": {},
   "outputs": [],
   "source": [
    "refund_2 = [\"no\", \"no\", \"no\", \"no\", \"no\", \"no\", \"yes\", \"no\", \"yes\", \"yes\"]\n",
    "marital_status_2 = [\"single\", \"single\", \"married\", \"divorced\", \"married\", \\\n",
    "                    \"single\", \"single\", \"single\", \"married\", \"single\"]\n",
    "income_above_80k_2 = [\"yes\", \"yes\", \"yes\", \"no\", \"yes\", \"yes\", \"yes\", \"yes\", \"yes\", \"no\"]\n",
    "cheat_2 = [\"no\", \"no\", \"no\", \"no\", \"no\", \"no\", \"no\", \"yes\", \"yes\", \"yes\"]\n",
    "df2 = pd.DataFrame([refund_2, marital_status_2, income_above_80k_2, cheat_2]).transpose()\n",
    "df2.columns = [\"refund\", \"marital_status\", \"income_above_80k\", \"cheat\"]"
   ]
  },
  {
   "cell_type": "code",
   "execution_count": 12,
   "id": "b850e121",
   "metadata": {},
   "outputs": [
    {
     "data": {
      "text/html": [
       "<div>\n",
       "<style scoped>\n",
       "    .dataframe tbody tr th:only-of-type {\n",
       "        vertical-align: middle;\n",
       "    }\n",
       "\n",
       "    .dataframe tbody tr th {\n",
       "        vertical-align: top;\n",
       "    }\n",
       "\n",
       "    .dataframe thead th {\n",
       "        text-align: right;\n",
       "    }\n",
       "</style>\n",
       "<table border=\"1\" class=\"dataframe\">\n",
       "  <thead>\n",
       "    <tr style=\"text-align: right;\">\n",
       "      <th></th>\n",
       "      <th>refund</th>\n",
       "      <th>marital_status</th>\n",
       "      <th>income_above_80k</th>\n",
       "      <th>cheat</th>\n",
       "      <th>predicted_cheat</th>\n",
       "    </tr>\n",
       "  </thead>\n",
       "  <tbody>\n",
       "    <tr>\n",
       "      <td>0</td>\n",
       "      <td>no</td>\n",
       "      <td>single</td>\n",
       "      <td>yes</td>\n",
       "      <td>no</td>\n",
       "      <td>1</td>\n",
       "    </tr>\n",
       "    <tr>\n",
       "      <td>1</td>\n",
       "      <td>no</td>\n",
       "      <td>single</td>\n",
       "      <td>yes</td>\n",
       "      <td>no</td>\n",
       "      <td>1</td>\n",
       "    </tr>\n",
       "    <tr>\n",
       "      <td>2</td>\n",
       "      <td>no</td>\n",
       "      <td>married</td>\n",
       "      <td>yes</td>\n",
       "      <td>no</td>\n",
       "      <td>0</td>\n",
       "    </tr>\n",
       "    <tr>\n",
       "      <td>3</td>\n",
       "      <td>no</td>\n",
       "      <td>divorced</td>\n",
       "      <td>no</td>\n",
       "      <td>no</td>\n",
       "      <td>0</td>\n",
       "    </tr>\n",
       "    <tr>\n",
       "      <td>4</td>\n",
       "      <td>no</td>\n",
       "      <td>married</td>\n",
       "      <td>yes</td>\n",
       "      <td>no</td>\n",
       "      <td>0</td>\n",
       "    </tr>\n",
       "    <tr>\n",
       "      <td>5</td>\n",
       "      <td>no</td>\n",
       "      <td>single</td>\n",
       "      <td>yes</td>\n",
       "      <td>no</td>\n",
       "      <td>1</td>\n",
       "    </tr>\n",
       "    <tr>\n",
       "      <td>6</td>\n",
       "      <td>yes</td>\n",
       "      <td>single</td>\n",
       "      <td>yes</td>\n",
       "      <td>no</td>\n",
       "      <td>0</td>\n",
       "    </tr>\n",
       "    <tr>\n",
       "      <td>7</td>\n",
       "      <td>no</td>\n",
       "      <td>single</td>\n",
       "      <td>yes</td>\n",
       "      <td>yes</td>\n",
       "      <td>1</td>\n",
       "    </tr>\n",
       "    <tr>\n",
       "      <td>8</td>\n",
       "      <td>yes</td>\n",
       "      <td>married</td>\n",
       "      <td>yes</td>\n",
       "      <td>yes</td>\n",
       "      <td>0</td>\n",
       "    </tr>\n",
       "    <tr>\n",
       "      <td>9</td>\n",
       "      <td>yes</td>\n",
       "      <td>single</td>\n",
       "      <td>no</td>\n",
       "      <td>yes</td>\n",
       "      <td>0</td>\n",
       "    </tr>\n",
       "  </tbody>\n",
       "</table>\n",
       "</div>"
      ],
      "text/plain": [
       "  refund marital_status income_above_80k cheat  predicted_cheat\n",
       "0     no         single              yes    no                1\n",
       "1     no         single              yes    no                1\n",
       "2     no        married              yes    no                0\n",
       "3     no       divorced               no    no                0\n",
       "4     no        married              yes    no                0\n",
       "5     no         single              yes    no                1\n",
       "6    yes         single              yes    no                0\n",
       "7     no         single              yes   yes                1\n",
       "8    yes        married              yes   yes                0\n",
       "9    yes         single               no   yes                0"
      ]
     },
     "execution_count": 12,
     "metadata": {},
     "output_type": "execute_result"
    }
   ],
   "source": [
    "df2[\"predicted_cheat\"] = vectorized_predict(df2)\n",
    "df2"
   ]
  },
  {
   "cell_type": "markdown",
   "id": "458f9e79",
   "metadata": {},
   "source": [
    "j)\tApply the overall_accuracy function to the predicted out values and actual output values of the test set to compute the overall accuracy. Compare the overall accuracy of the test set and that of the training set. Is there overfitting? Why or why not? If there is overfitting, what would you do to avoid overfitting the rule to the training set? "
   ]
  },
  {
   "cell_type": "code",
   "execution_count": 13,
   "id": "07737d2c",
   "metadata": {
    "scrolled": true
   },
   "outputs": [
    {
     "data": {
      "text/plain": [
       "0.5"
      ]
     },
     "execution_count": 13,
     "metadata": {},
     "output_type": "execute_result"
    }
   ],
   "source": [
    "overall_accuracy(df2[\"cheat\"], df2[\"predicted_cheat\"])"
   ]
  },
  {
   "cell_type": "markdown",
   "id": "3e782fc7",
   "metadata": {},
   "source": [
    "# Question 2"
   ]
  },
  {
   "cell_type": "markdown",
   "id": "0115880a",
   "metadata": {},
   "source": [
    "a)\tGiven the training dataset in question 1, write a function that computes the entropy of output variable. The function should take the entire training dataset, and the name of the output variable as arguments and return the entropy value. You can call the function, entropy. "
   ]
  },
  {
   "cell_type": "code",
   "execution_count": 44,
   "id": "2ae117be",
   "metadata": {},
   "outputs": [
    {
     "data": {
      "text/plain": [
       "0.8812908992306927"
      ]
     },
     "execution_count": 44,
     "metadata": {},
     "output_type": "execute_result"
    }
   ],
   "source": [
    "def entropy(df, output_name):\n",
    "    # Because our output variable is binary, entropy is definded as the following:\n",
    "    # Entropy = -p*log_2(p) - (1-p)*log_2(1-p)\n",
    "    # So we need to calculate p, the proportion of \"yes\" in the data\n",
    "    is_yes = (df[output_name] == \"yes\")\n",
    "    p = np.sum(is_yes) / len(is_yes)\n",
    "    # Plug p into entropy equation\n",
    "    # If p=0, then return 0 (which is what the equation would be). Otherwise, it breaks the log2() function.\n",
    "    if p==0:\n",
    "        return(0)\n",
    "    entp = -p*np.log2(p) - (1-p)*np.log2(1-p)\n",
    "    return(entp)\n",
    "\n",
    "entropy(df, \"cheat\")"
   ]
  },
  {
   "cell_type": "markdown",
   "id": "c9c27f1c",
   "metadata": {},
   "source": [
    "b)\tCreate another function that takes the dataset, the name of the output variable, and a specific input variable as arguments and returns the information gain for a split of the data on that specific input variable. You can call the function, information_gain. Apply the information_gain function to each input variable to compute the information gain for each input variable. Which input variables is the best (has the highest information gain) for creating one-rule? "
   ]
  },
  {
   "cell_type": "code",
   "execution_count": 46,
   "id": "e825f98a",
   "metadata": {},
   "outputs": [],
   "source": [
    "def information_gain(df, output_name, input_name):\n",
    "    # Information gain is defined as Entropy(Output) - Entropy(Output | Input)\n",
    "    # So we need to calculate two different entropies\n",
    "    # Let's start with the easy one, Entropy(Output). This is just calculated using the entropy function.\n",
    "    entropy_before_split = entropy(df, output_name)\n",
    "    \n",
    "    # To calculate the entropy after a split, we need to calculate the entropy of each value of the split attribute\n",
    "    entropy_after_split = 0\n",
    "    for value in df[input_name].unique():\n",
    "        # Calculate the number of occurances of that value\n",
    "        num_occurances = np.sum(df[input_name]==value)\n",
    "        # Then calculate the entropy of the data, given that value is true\n",
    "        entropy_of_value = entropy(df.loc[df[input_name]==value], output_name)\n",
    "        # Then add the weighted entropy to our running total\n",
    "        entropy_after_split += (num_occurances / df.shape[0])*entropy_of_value\n",
    "    # Now calculate the information gain\n",
    "    info_gain = entropy_before_split - entropy_after_split\n",
    "    return(info_gain)"
   ]
  },
  {
   "cell_type": "code",
   "execution_count": 47,
   "id": "89304934",
   "metadata": {},
   "outputs": [
    {
     "data": {
      "text/plain": [
       "0.19163120400671663"
      ]
     },
     "execution_count": 47,
     "metadata": {},
     "output_type": "execute_result"
    }
   ],
   "source": [
    "information_gain(df, \"cheat\", \"refund\")"
   ]
  },
  {
   "cell_type": "code",
   "execution_count": 48,
   "id": "ce5ed909",
   "metadata": {},
   "outputs": [
    {
     "data": {
      "text/plain": [
       "0.2812908992306926"
      ]
     },
     "execution_count": 48,
     "metadata": {},
     "output_type": "execute_result"
    }
   ],
   "source": [
    "information_gain(df, \"cheat\", \"marital_status\")"
   ]
  },
  {
   "cell_type": "code",
   "execution_count": 49,
   "id": "4826b333",
   "metadata": {},
   "outputs": [
    {
     "data": {
      "text/plain": [
       "0.19163120400671663"
      ]
     },
     "execution_count": 49,
     "metadata": {},
     "output_type": "execute_result"
    }
   ],
   "source": [
    "information_gain(df, \"cheat\", \"income_above_80k\")"
   ]
  },
  {
   "cell_type": "markdown",
   "id": "77d1ff1c",
   "metadata": {},
   "source": [
    "c)\tDo a cross tabulation using the best attribute obtained in 2b above and the output variable in the training dataset. "
   ]
  },
  {
   "cell_type": "code",
   "execution_count": 50,
   "id": "a65f2ec6",
   "metadata": {},
   "outputs": [
    {
     "data": {
      "text/html": [
       "<div>\n",
       "<style scoped>\n",
       "    .dataframe tbody tr th:only-of-type {\n",
       "        vertical-align: middle;\n",
       "    }\n",
       "\n",
       "    .dataframe tbody tr th {\n",
       "        vertical-align: top;\n",
       "    }\n",
       "\n",
       "    .dataframe thead th {\n",
       "        text-align: right;\n",
       "    }\n",
       "</style>\n",
       "<table border=\"1\" class=\"dataframe\">\n",
       "  <thead>\n",
       "    <tr style=\"text-align: right;\">\n",
       "      <th>marital_status</th>\n",
       "      <th>divorced</th>\n",
       "      <th>married</th>\n",
       "      <th>single</th>\n",
       "    </tr>\n",
       "    <tr>\n",
       "      <th>cheat</th>\n",
       "      <th></th>\n",
       "      <th></th>\n",
       "      <th></th>\n",
       "    </tr>\n",
       "  </thead>\n",
       "  <tbody>\n",
       "    <tr>\n",
       "      <td>no</td>\n",
       "      <td>1</td>\n",
       "      <td>4</td>\n",
       "      <td>2</td>\n",
       "    </tr>\n",
       "    <tr>\n",
       "      <td>yes</td>\n",
       "      <td>1</td>\n",
       "      <td>0</td>\n",
       "      <td>2</td>\n",
       "    </tr>\n",
       "  </tbody>\n",
       "</table>\n",
       "</div>"
      ],
      "text/plain": [
       "marital_status  divorced  married  single\n",
       "cheat                                    \n",
       "no                     1        4       2\n",
       "yes                    1        0       2"
      ]
     },
     "execution_count": 50,
     "metadata": {},
     "output_type": "execute_result"
    }
   ],
   "source": [
    "pd.crosstab(df[\"cheat\"], df[\"marital_status\"])"
   ]
  },
  {
   "cell_type": "markdown",
   "id": "6c8a11f8",
   "metadata": {},
   "source": [
    "f)\tUsing the antecedent of your rule, extract the data covered by the rule and compute the coverage of the rule. "
   ]
  },
  {
   "cell_type": "code",
   "execution_count": 53,
   "id": "41381741",
   "metadata": {},
   "outputs": [
    {
     "data": {
      "text/plain": [
       "0.4"
      ]
     },
     "execution_count": 53,
     "metadata": {},
     "output_type": "execute_result"
    }
   ],
   "source": [
    "# Get the number of rows where marital_status == \"married\"\n",
    "instances_of_rule = df.loc[df[\"marital_status\"]==\"married\"].shape[0]\n",
    "# coverage = instances of rule / total number of instances\n",
    "instances_of_rule / df.shape[0]"
   ]
  },
  {
   "cell_type": "markdown",
   "id": "6e5a2b37",
   "metadata": {},
   "source": [
    "g)\tUsing the antecedent of your rule, extract the data covered by the rule and compute the accuracy of the rule. "
   ]
  },
  {
   "cell_type": "code",
   "execution_count": 55,
   "id": "bc15a82a",
   "metadata": {},
   "outputs": [
    {
     "data": {
      "text/plain": [
       "1.0"
      ]
     },
     "execution_count": 55,
     "metadata": {},
     "output_type": "execute_result"
    }
   ],
   "source": [
    "# Accuracy = number of instances covered and correctly classified / total number covered\n",
    "# Get the number covered and correctly classified having Cheat = \"no\"\n",
    "instances_covered_and_correct = df.loc[(df[\"marital_status\"]==\"married\") & (df[\"cheat\"]==\"no\")].shape[0]\n",
    "# Calculate the accuracy\n",
    "instances_covered_and_correct / instances_of_rule"
   ]
  },
  {
   "cell_type": "markdown",
   "id": "612b7dcf",
   "metadata": {},
   "source": [
    "h)\tCreate a function that implents the rule as an if-else statement to predict the outcomes of any instance (a vector of values associated with the input variables for a specific individual). The function should be able to take one or more instances as an argument in the form of a dataframe or numpy arrary. "
   ]
  },
  {
   "cell_type": "code",
   "execution_count": 64,
   "id": "f8c7f0e5",
   "metadata": {},
   "outputs": [],
   "source": [
    "def onerule(df):\n",
    "    # Predict the classification based on if marital_status == \"married\"\n",
    "    preds = df.apply(lambda x: 0 if x[\"marital_status\"]==\"married\" else 1, \n",
    "                     axis=1)\n",
    "    return(preds)"
   ]
  },
  {
   "cell_type": "markdown",
   "id": "df56d495",
   "metadata": {},
   "source": [
    "i)\tImplemement the function on the training set and test set in question 1 to get the predicted outputs for the training set and test set.  "
   ]
  },
  {
   "cell_type": "code",
   "execution_count": 66,
   "id": "e22c7fcc",
   "metadata": {},
   "outputs": [
    {
     "data": {
      "text/plain": [
       "0    1\n",
       "1    0\n",
       "2    1\n",
       "3    0\n",
       "4    1\n",
       "5    0\n",
       "6    1\n",
       "7    1\n",
       "8    0\n",
       "9    1\n",
       "dtype: int64"
      ]
     },
     "execution_count": 66,
     "metadata": {},
     "output_type": "execute_result"
    }
   ],
   "source": [
    "# Onerule on training set\n",
    "onerule(df)"
   ]
  },
  {
   "cell_type": "code",
   "execution_count": 67,
   "id": "bd1b87ff",
   "metadata": {},
   "outputs": [
    {
     "data": {
      "text/plain": [
       "0    1\n",
       "1    1\n",
       "2    0\n",
       "3    1\n",
       "4    0\n",
       "5    1\n",
       "6    1\n",
       "7    1\n",
       "8    0\n",
       "9    1\n",
       "dtype: int64"
      ]
     },
     "execution_count": 67,
     "metadata": {},
     "output_type": "execute_result"
    }
   ],
   "source": [
    "# Onerule on test set\n",
    "onerule(df2)"
   ]
  },
  {
   "cell_type": "markdown",
   "id": "d902bd93",
   "metadata": {},
   "source": [
    "j)\tWhat is the overall prediction accuracies for the training set and test set? You can use the overall_accuracy function you initially defined. "
   ]
  },
  {
   "cell_type": "code",
   "execution_count": 68,
   "id": "f8815490",
   "metadata": {},
   "outputs": [
    {
     "data": {
      "text/plain": [
       "0.7"
      ]
     },
     "execution_count": 68,
     "metadata": {},
     "output_type": "execute_result"
    }
   ],
   "source": [
    "# Accuracy on the training set\n",
    "onerule_train_preds = onerule(df)\n",
    "overall_accuracy(df[\"cheat\"], onerule_train_preds)"
   ]
  },
  {
   "cell_type": "code",
   "execution_count": 69,
   "id": "c4cc6188",
   "metadata": {},
   "outputs": [
    {
     "data": {
      "text/plain": [
       "0.4"
      ]
     },
     "execution_count": 69,
     "metadata": {},
     "output_type": "execute_result"
    }
   ],
   "source": [
    "# Accuracy on the test set\n",
    "onerule_test_preds = onerule(df2)\n",
    "overall_accuracy(df2[\"cheat\"], onerule_test_preds)"
   ]
  }
 ],
 "metadata": {
  "kernelspec": {
   "display_name": "Python 3",
   "language": "python",
   "name": "python3"
  },
  "language_info": {
   "codemirror_mode": {
    "name": "ipython",
    "version": 3
   },
   "file_extension": ".py",
   "mimetype": "text/x-python",
   "name": "python",
   "nbconvert_exporter": "python",
   "pygments_lexer": "ipython3",
   "version": "3.6.9"
  }
 },
 "nbformat": 4,
 "nbformat_minor": 5
}
