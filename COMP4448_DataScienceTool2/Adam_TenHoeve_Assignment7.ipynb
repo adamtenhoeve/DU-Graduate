{
 "cells": [
  {
   "cell_type": "markdown",
   "id": "7f1d6938",
   "metadata": {},
   "source": [
    "COMP 4448  \n",
    "Assignment 7  \n",
    "Written by Adam Ten Hoeve"
   ]
  },
  {
   "cell_type": "code",
   "execution_count": 53,
   "id": "139d962f",
   "metadata": {},
   "outputs": [],
   "source": [
    "# load required packages\n",
    "import numpy as np\n",
    "import pandas as pd\n",
    "\n",
    "# For clustering\n",
    "from sklearn.preprocessing import MinMaxScaler\n",
    "from sklearn.model_selection import train_test_split, GridSearchCV\n",
    "from sklearn.decomposition import PCA\n",
    "from sklearn.cluster import AgglomerativeClustering, KMeans\n",
    "from sklearn.linear_model import LogisticRegression\n",
    "from sklearn.metrics import adjusted_rand_score\n",
    "from scipy.cluster.hierarchy import dendrogram\n",
    "\n",
    "# For Logistic Regression\n",
    "import statsmodels.api as sm\n",
    "import statsmodels.formula.api as smf\n",
    "\n",
    "import matplotlib.pyplot as plt\n",
    "import seaborn as sns\n",
    "%matplotlib inline"
   ]
  },
  {
   "cell_type": "markdown",
   "id": "07989417",
   "metadata": {},
   "source": [
    "# Problem 1: Clustering"
   ]
  },
  {
   "cell_type": "markdown",
   "id": "2d96cc7b",
   "metadata": {},
   "source": [
    "Load in the data and clean as needed. Data was taken from University of California Irvine's machine learning repository. Data can be found [here](https://archive.ics.uci.edu/ml/datasets/Wine).\n",
    "\n",
    "Data Set Information:\n",
    "\n",
    "These data are the results of a chemical analysis of wines grown in the same region in Italy but derived from three different cultivars. The analysis determined the quantities of 13 constituents found in each of the three types of wines.\n",
    "\n",
    "The attributes are (dontated by Riccardo Leardi, riclea '@' anchem.unige.it )\n",
    "1) Alcohol  \n",
    "2) Malic acid  \n",
    "3) Ash  \n",
    "4) Alcalinity of ash  \n",
    "5) Magnesium  \n",
    "6) Total phenols  \n",
    "7) Flavanoids  \n",
    "8) Nonflavanoid phenols  \n",
    "9) Proanthocyanins  \n",
    "10)Color intensity  \n",
    "11)Hue  \n",
    "12)OD280/OD315 of diluted wines  \n",
    "13)Proline  "
   ]
  },
  {
   "cell_type": "code",
   "execution_count": 2,
   "id": "331221f1",
   "metadata": {},
   "outputs": [
    {
     "data": {
      "text/html": [
       "<div>\n",
       "<style scoped>\n",
       "    .dataframe tbody tr th:only-of-type {\n",
       "        vertical-align: middle;\n",
       "    }\n",
       "\n",
       "    .dataframe tbody tr th {\n",
       "        vertical-align: top;\n",
       "    }\n",
       "\n",
       "    .dataframe thead th {\n",
       "        text-align: right;\n",
       "    }\n",
       "</style>\n",
       "<table border=\"1\" class=\"dataframe\">\n",
       "  <thead>\n",
       "    <tr style=\"text-align: right;\">\n",
       "      <th></th>\n",
       "      <th>label</th>\n",
       "      <th>alcohol</th>\n",
       "      <th>acid</th>\n",
       "      <th>ash</th>\n",
       "      <th>alcalinity</th>\n",
       "      <th>Mg</th>\n",
       "      <th>phenols</th>\n",
       "      <th>flavanoids</th>\n",
       "      <th>nonflavanoids</th>\n",
       "      <th>proanthocyanins</th>\n",
       "      <th>color</th>\n",
       "      <th>hue</th>\n",
       "      <th>od</th>\n",
       "      <th>proline</th>\n",
       "    </tr>\n",
       "  </thead>\n",
       "  <tbody>\n",
       "    <tr>\n",
       "      <td>0</td>\n",
       "      <td>1</td>\n",
       "      <td>14.23</td>\n",
       "      <td>1.71</td>\n",
       "      <td>2.43</td>\n",
       "      <td>15.6</td>\n",
       "      <td>127</td>\n",
       "      <td>2.80</td>\n",
       "      <td>3.06</td>\n",
       "      <td>0.28</td>\n",
       "      <td>2.29</td>\n",
       "      <td>5.64</td>\n",
       "      <td>1.04</td>\n",
       "      <td>3.92</td>\n",
       "      <td>1065</td>\n",
       "    </tr>\n",
       "    <tr>\n",
       "      <td>1</td>\n",
       "      <td>1</td>\n",
       "      <td>13.20</td>\n",
       "      <td>1.78</td>\n",
       "      <td>2.14</td>\n",
       "      <td>11.2</td>\n",
       "      <td>100</td>\n",
       "      <td>2.65</td>\n",
       "      <td>2.76</td>\n",
       "      <td>0.26</td>\n",
       "      <td>1.28</td>\n",
       "      <td>4.38</td>\n",
       "      <td>1.05</td>\n",
       "      <td>3.40</td>\n",
       "      <td>1050</td>\n",
       "    </tr>\n",
       "    <tr>\n",
       "      <td>2</td>\n",
       "      <td>1</td>\n",
       "      <td>13.16</td>\n",
       "      <td>2.36</td>\n",
       "      <td>2.67</td>\n",
       "      <td>18.6</td>\n",
       "      <td>101</td>\n",
       "      <td>2.80</td>\n",
       "      <td>3.24</td>\n",
       "      <td>0.30</td>\n",
       "      <td>2.81</td>\n",
       "      <td>5.68</td>\n",
       "      <td>1.03</td>\n",
       "      <td>3.17</td>\n",
       "      <td>1185</td>\n",
       "    </tr>\n",
       "    <tr>\n",
       "      <td>3</td>\n",
       "      <td>1</td>\n",
       "      <td>14.37</td>\n",
       "      <td>1.95</td>\n",
       "      <td>2.50</td>\n",
       "      <td>16.8</td>\n",
       "      <td>113</td>\n",
       "      <td>3.85</td>\n",
       "      <td>3.49</td>\n",
       "      <td>0.24</td>\n",
       "      <td>2.18</td>\n",
       "      <td>7.80</td>\n",
       "      <td>0.86</td>\n",
       "      <td>3.45</td>\n",
       "      <td>1480</td>\n",
       "    </tr>\n",
       "    <tr>\n",
       "      <td>4</td>\n",
       "      <td>1</td>\n",
       "      <td>13.24</td>\n",
       "      <td>2.59</td>\n",
       "      <td>2.87</td>\n",
       "      <td>21.0</td>\n",
       "      <td>118</td>\n",
       "      <td>2.80</td>\n",
       "      <td>2.69</td>\n",
       "      <td>0.39</td>\n",
       "      <td>1.82</td>\n",
       "      <td>4.32</td>\n",
       "      <td>1.04</td>\n",
       "      <td>2.93</td>\n",
       "      <td>735</td>\n",
       "    </tr>\n",
       "  </tbody>\n",
       "</table>\n",
       "</div>"
      ],
      "text/plain": [
       "   label  alcohol  acid   ash  alcalinity   Mg  phenols  flavanoids  \\\n",
       "0      1    14.23  1.71  2.43        15.6  127     2.80        3.06   \n",
       "1      1    13.20  1.78  2.14        11.2  100     2.65        2.76   \n",
       "2      1    13.16  2.36  2.67        18.6  101     2.80        3.24   \n",
       "3      1    14.37  1.95  2.50        16.8  113     3.85        3.49   \n",
       "4      1    13.24  2.59  2.87        21.0  118     2.80        2.69   \n",
       "\n",
       "   nonflavanoids  proanthocyanins  color   hue    od  proline  \n",
       "0           0.28             2.29   5.64  1.04  3.92     1065  \n",
       "1           0.26             1.28   4.38  1.05  3.40     1050  \n",
       "2           0.30             2.81   5.68  1.03  3.17     1185  \n",
       "3           0.24             2.18   7.80  0.86  3.45     1480  \n",
       "4           0.39             1.82   4.32  1.04  2.93      735  "
      ]
     },
     "execution_count": 2,
     "metadata": {},
     "output_type": "execute_result"
    }
   ],
   "source": [
    "# Load in the data\n",
    "cols = [\"label\", \"alcohol\", \"acid\", \"ash\", \"alcalinity\", \"Mg\", \"phenols\", \"flavanoids\", \"nonflavanoids\", \"proanthocyanins\", \"color\", \"hue\", \"od\", \"proline\"]\n",
    "df = pd.read_csv(\"wine.csv\", header=None)\n",
    "df.columns = cols\n",
    "df.head()"
   ]
  },
  {
   "cell_type": "code",
   "execution_count": 3,
   "id": "611d2096",
   "metadata": {},
   "outputs": [
    {
     "data": {
      "text/plain": [
       "label              0\n",
       "alcohol            0\n",
       "acid               0\n",
       "ash                0\n",
       "alcalinity         0\n",
       "Mg                 0\n",
       "phenols            0\n",
       "flavanoids         0\n",
       "nonflavanoids      0\n",
       "proanthocyanins    0\n",
       "color              0\n",
       "hue                0\n",
       "od                 0\n",
       "proline            0\n",
       "dtype: int64"
      ]
     },
     "execution_count": 3,
     "metadata": {},
     "output_type": "execute_result"
    }
   ],
   "source": [
    "# Look for missin values\n",
    "df.isna().sum()"
   ]
  },
  {
   "cell_type": "code",
   "execution_count": 8,
   "id": "92ebd935",
   "metadata": {},
   "outputs": [
    {
     "data": {
      "text/html": [
       "<div>\n",
       "<style scoped>\n",
       "    .dataframe tbody tr th:only-of-type {\n",
       "        vertical-align: middle;\n",
       "    }\n",
       "\n",
       "    .dataframe tbody tr th {\n",
       "        vertical-align: top;\n",
       "    }\n",
       "\n",
       "    .dataframe thead th {\n",
       "        text-align: right;\n",
       "    }\n",
       "</style>\n",
       "<table border=\"1\" class=\"dataframe\">\n",
       "  <thead>\n",
       "    <tr style=\"text-align: right;\">\n",
       "      <th></th>\n",
       "      <th>alcohol</th>\n",
       "      <th>acid</th>\n",
       "      <th>ash</th>\n",
       "      <th>alcalinity</th>\n",
       "      <th>Mg</th>\n",
       "      <th>phenols</th>\n",
       "      <th>flavanoids</th>\n",
       "      <th>nonflavanoids</th>\n",
       "      <th>proanthocyanins</th>\n",
       "      <th>color</th>\n",
       "      <th>hue</th>\n",
       "      <th>od</th>\n",
       "      <th>proline</th>\n",
       "    </tr>\n",
       "  </thead>\n",
       "  <tbody>\n",
       "    <tr>\n",
       "      <td>0</td>\n",
       "      <td>0.842105</td>\n",
       "      <td>0.191700</td>\n",
       "      <td>0.572193</td>\n",
       "      <td>0.257732</td>\n",
       "      <td>0.619565</td>\n",
       "      <td>0.627586</td>\n",
       "      <td>0.573840</td>\n",
       "      <td>0.283019</td>\n",
       "      <td>0.593060</td>\n",
       "      <td>0.372014</td>\n",
       "      <td>0.455285</td>\n",
       "      <td>0.970696</td>\n",
       "      <td>0.561341</td>\n",
       "    </tr>\n",
       "    <tr>\n",
       "      <td>1</td>\n",
       "      <td>0.571053</td>\n",
       "      <td>0.205534</td>\n",
       "      <td>0.417112</td>\n",
       "      <td>0.030928</td>\n",
       "      <td>0.326087</td>\n",
       "      <td>0.575862</td>\n",
       "      <td>0.510549</td>\n",
       "      <td>0.245283</td>\n",
       "      <td>0.274448</td>\n",
       "      <td>0.264505</td>\n",
       "      <td>0.463415</td>\n",
       "      <td>0.780220</td>\n",
       "      <td>0.550642</td>\n",
       "    </tr>\n",
       "    <tr>\n",
       "      <td>2</td>\n",
       "      <td>0.560526</td>\n",
       "      <td>0.320158</td>\n",
       "      <td>0.700535</td>\n",
       "      <td>0.412371</td>\n",
       "      <td>0.336957</td>\n",
       "      <td>0.627586</td>\n",
       "      <td>0.611814</td>\n",
       "      <td>0.320755</td>\n",
       "      <td>0.757098</td>\n",
       "      <td>0.375427</td>\n",
       "      <td>0.447154</td>\n",
       "      <td>0.695971</td>\n",
       "      <td>0.646933</td>\n",
       "    </tr>\n",
       "    <tr>\n",
       "      <td>3</td>\n",
       "      <td>0.878947</td>\n",
       "      <td>0.239130</td>\n",
       "      <td>0.609626</td>\n",
       "      <td>0.319588</td>\n",
       "      <td>0.467391</td>\n",
       "      <td>0.989655</td>\n",
       "      <td>0.664557</td>\n",
       "      <td>0.207547</td>\n",
       "      <td>0.558360</td>\n",
       "      <td>0.556314</td>\n",
       "      <td>0.308943</td>\n",
       "      <td>0.798535</td>\n",
       "      <td>0.857347</td>\n",
       "    </tr>\n",
       "    <tr>\n",
       "      <td>4</td>\n",
       "      <td>0.581579</td>\n",
       "      <td>0.365613</td>\n",
       "      <td>0.807487</td>\n",
       "      <td>0.536082</td>\n",
       "      <td>0.521739</td>\n",
       "      <td>0.627586</td>\n",
       "      <td>0.495781</td>\n",
       "      <td>0.490566</td>\n",
       "      <td>0.444795</td>\n",
       "      <td>0.259386</td>\n",
       "      <td>0.455285</td>\n",
       "      <td>0.608059</td>\n",
       "      <td>0.325963</td>\n",
       "    </tr>\n",
       "  </tbody>\n",
       "</table>\n",
       "</div>"
      ],
      "text/plain": [
       "    alcohol      acid       ash  alcalinity        Mg   phenols  flavanoids  \\\n",
       "0  0.842105  0.191700  0.572193    0.257732  0.619565  0.627586    0.573840   \n",
       "1  0.571053  0.205534  0.417112    0.030928  0.326087  0.575862    0.510549   \n",
       "2  0.560526  0.320158  0.700535    0.412371  0.336957  0.627586    0.611814   \n",
       "3  0.878947  0.239130  0.609626    0.319588  0.467391  0.989655    0.664557   \n",
       "4  0.581579  0.365613  0.807487    0.536082  0.521739  0.627586    0.495781   \n",
       "\n",
       "   nonflavanoids  proanthocyanins     color       hue        od   proline  \n",
       "0       0.283019         0.593060  0.372014  0.455285  0.970696  0.561341  \n",
       "1       0.245283         0.274448  0.264505  0.463415  0.780220  0.550642  \n",
       "2       0.320755         0.757098  0.375427  0.447154  0.695971  0.646933  \n",
       "3       0.207547         0.558360  0.556314  0.308943  0.798535  0.857347  \n",
       "4       0.490566         0.444795  0.259386  0.455285  0.608059  0.325963  "
      ]
     },
     "execution_count": 8,
     "metadata": {},
     "output_type": "execute_result"
    }
   ],
   "source": [
    "# Scale the data\n",
    "scaler = MinMaxScaler()\n",
    "\n",
    "X = df.drop(\"label\", axis=1)\n",
    "y = df[\"label\"]\n",
    "\n",
    "scaler.fit(X)\n",
    "X = pd.DataFrame(scaler.transform(X), columns=cols[1:])\n",
    "X.head()"
   ]
  },
  {
   "cell_type": "code",
   "execution_count": 9,
   "id": "d2aca8e1",
   "metadata": {},
   "outputs": [
    {
     "data": {
      "text/plain": [
       "array([[-1.33367664e-01,  2.48515807e-01, -7.39167565e-04,\n",
       "         1.77838621e-01, -8.86572802e-02, -3.95070868e-01,\n",
       "        -4.14589792e-01,  3.33108614e-01, -2.52902105e-01,\n",
       "         9.23290406e-02, -2.51137258e-01, -4.73492101e-01,\n",
       "        -2.86862112e-01],\n",
       "       [-5.50883679e-01, -2.27390577e-01, -1.63091200e-01,\n",
       "         7.97763293e-02, -1.88165658e-01, -7.41447292e-02,\n",
       "        -1.00692215e-03, -9.96036899e-03, -3.14178847e-02,\n",
       "        -5.19707496e-01,  2.37206223e-01,  2.15562246e-01,\n",
       "        -4.43888361e-01],\n",
       "       [-8.38483848e-02,  4.92039271e-01,  4.03009367e-01,\n",
       "         4.77242411e-01,  6.55069647e-03,  2.53065140e-01,\n",
       "         1.96105456e-01,  2.85981862e-01,  2.28342345e-01,\n",
       "        -3.30999741e-02, -1.06588781e-01,  2.97776289e-01,\n",
       "        -1.51968292e-01],\n",
       "       [-4.03281504e-02,  4.86032016e-01, -2.41975652e-01,\n",
       "        -8.16939916e-02,  1.58801742e-02, -5.26432313e-02,\n",
       "        -2.70332340e-02, -7.09095281e-01,  7.65736687e-02,\n",
       "        -2.63220354e-02, -3.52498013e-01,  8.20620051e-02,\n",
       "        -2.29792503e-01],\n",
       "       [-2.78010089e-01, -4.12889958e-01,  2.86393800e-01,\n",
       "         4.18304878e-01,  4.70898721e-01, -1.80297818e-02,\n",
       "         2.57297682e-03, -3.60037857e-01,  1.48665877e-01,\n",
       "         2.00582427e-01, -7.71620754e-02, -2.63396482e-01,\n",
       "        -7.65558029e-02],\n",
       "       [-1.37254317e-01, -2.13102785e-01, -3.00964675e-01,\n",
       "        -1.35609774e-01, -3.12518646e-01,  2.83604411e-01,\n",
       "         1.47044786e-01,  1.97231755e-01,  5.03115302e-01,\n",
       "         3.88031900e-01, -2.83041419e-01, -1.67278047e-01,\n",
       "        -2.76348795e-01],\n",
       "       [-2.75352205e-01,  3.10301653e-01, -1.71805330e-01,\n",
       "        -2.97555954e-01,  5.20419359e-01, -6.65236704e-02,\n",
       "        -5.06982802e-02,  2.14888676e-01,  4.66206579e-01,\n",
       "        -2.12595824e-01,  1.93314973e-01, -2.24561421e-01,\n",
       "         1.88372489e-01],\n",
       "       [ 5.55030622e-01, -7.69281456e-02, -1.23460354e-01,\n",
       "         2.70756271e-01, -1.99366070e-02, -4.13383802e-01,\n",
       "        -1.56460745e-01, -3.42321550e-02,  4.83470145e-01,\n",
       "        -3.69237057e-02,  2.95371717e-01,  1.02303314e-01,\n",
       "        -2.60228843e-01],\n",
       "       [ 3.26686683e-01, -1.44706000e-02, -4.43615384e-02,\n",
       "        -2.04923518e-01,  4.71910296e-01,  3.51231855e-01,\n",
       "         8.89602892e-02,  1.22889237e-01, -2.84054087e-01,\n",
       "        -2.37079985e-02,  6.87746576e-02, -6.01970243e-02,\n",
       "        -6.24838818e-01],\n",
       "       [-3.59116648e-02, -2.37072825e-01, -5.68986375e-02,\n",
       "        -1.32503040e-01,  3.25867728e-01, -2.63006307e-01,\n",
       "        -1.99444858e-01,  2.36774685e-01,  1.87429817e-02,\n",
       "         3.91434937e-02, -5.34248137e-01,  6.02193751e-01,\n",
       "         2.38290504e-02],\n",
       "       [-2.80684930e-01,  1.70374648e-01,  9.07566359e-02,\n",
       "        -2.00864181e-01,  2.72773854e-02, -2.47764000e-01,\n",
       "         3.05792695e-02, -3.25501002e-02, -9.93148337e-02,\n",
       "         6.69144086e-01,  4.58587544e-01,  2.87815292e-01,\n",
       "        -1.69476208e-01],\n",
       "       [-5.61269360e-02,  6.16542748e-02, -6.32537780e-01,\n",
       "         4.76650308e-01,  1.44634964e-01,  3.33709022e-01,\n",
       "        -2.99870770e-01,  4.73112536e-02, -1.64956850e-01,\n",
       "         1.79211241e-01,  1.57379260e-01,  1.41063254e-01,\n",
       "         1.93164791e-01],\n",
       "       [ 1.13596663e-02,  2.94277481e-02, -3.48604449e-01,\n",
       "         2.12755282e-01,  1.23445378e-01, -3.87627848e-01,\n",
       "         7.75691511e-01,  1.18318269e-01, -1.80607204e-01,\n",
       "         1.62431688e-02, -9.56238231e-02, -8.17454885e-02,\n",
       "         4.81186875e-02]])"
      ]
     },
     "execution_count": 9,
     "metadata": {},
     "output_type": "execute_result"
    }
   ],
   "source": [
    "# Perform PCA on the data\n",
    "pca = PCA()\n",
    "pca.fit(X)\n",
    "pca.components_"
   ]
  },
  {
   "cell_type": "code",
   "execution_count": 10,
   "id": "cb25bba1",
   "metadata": {
    "scrolled": false
   },
   "outputs": [
    {
     "data": {
      "text/plain": [
       "Text(0.5, 0, 'Number of points in node')"
      ]
     },
     "execution_count": 10,
     "metadata": {},
     "output_type": "execute_result"
    },
    {
     "data": {
      "image/png": "[encoded data removed]",
      "text/plain": [
       "<Figure size 432x288 with 1 Axes>"
      ]
     },
     "metadata": {
      "needs_background": "light"
     },
     "output_type": "display_data"
    }
   ],
   "source": [
    "# Constrct a dendrogram with agglomerative clustering\n",
    "model = AgglomerativeClustering(distance_threshold=0, n_clusters=None)\n",
    "model.fit(X)\n",
    "\n",
    "# Create linkage matrix and then plot the dendrogram\n",
    "# create the counts of samples under each node\n",
    "counts = np.zeros(model.children_.shape[0])\n",
    "n_samples = len(model.labels_)\n",
    "for i, merge in enumerate(model.children_):\n",
    "    current_count = 0\n",
    "    for child_idx in merge:\n",
    "        if child_idx < n_samples:\n",
    "            current_count += 1  # leaf node\n",
    "        else:\n",
    "            current_count += counts[child_idx - n_samples]\n",
    "    counts[i] = current_count\n",
    "\n",
    "linkage_matrix = np.column_stack([model.children_, model.distances_, counts]).astype(float)\n",
    "\n",
    "# Plot the corresponding dendrogram\n",
    "dendrogram(linkage_matrix, truncate_mode='level', p=3)\n",
    "plt.title(\"Dendrogram of Wine data\")\n",
    "plt.xlabel(\"Number of points in node\")"
   ]
  },
  {
   "cell_type": "code",
   "execution_count": 11,
   "id": "f88e8b39",
   "metadata": {},
   "outputs": [
    {
     "data": {
      "text/plain": [
       "array([0, 0, 0, 0, 0, 0, 0, 0, 0, 0, 0, 0, 0, 0, 0, 0, 0, 0, 0, 0, 0, 0,\n",
       "       0, 0, 0, 0, 0, 0, 0, 0, 0, 0, 0, 0, 0, 0, 0, 0, 0, 0, 0, 0, 0, 0,\n",
       "       0, 0, 0, 0, 0, 0, 0, 0, 0, 0, 0, 0, 0, 0, 0, 1, 2, 2, 1, 1, 1, 1,\n",
       "       1, 1, 2, 1, 2, 1, 1, 0, 1, 1, 1, 1, 1, 1, 1, 1, 1, 2, 1, 1, 1, 1,\n",
       "       1, 1, 1, 1, 1, 1, 1, 0, 1, 1, 1, 1, 1, 1, 1, 1, 1, 1, 1, 1, 1, 1,\n",
       "       1, 1, 1, 1, 1, 1, 1, 1, 2, 1, 1, 1, 1, 1, 1, 1, 1, 1, 1, 1, 2, 2,\n",
       "       2, 2, 2, 2, 2, 2, 2, 2, 2, 2, 2, 2, 2, 2, 2, 2, 2, 2, 2, 2, 2, 2,\n",
       "       2, 2, 2, 2, 2, 2, 2, 2, 2, 2, 2, 2, 2, 2, 2, 2, 2, 2, 2, 2, 2, 2,\n",
       "       2, 2])"
      ]
     },
     "execution_count": 11,
     "metadata": {},
     "output_type": "execute_result"
    }
   ],
   "source": [
    "# Implement KMeans on the data\n",
    "kmeans = KMeans(n_clusters=3, random_state=3)\n",
    "kmeans.fit(X)\n",
    "kmeans.labels_"
   ]
  },
  {
   "cell_type": "code",
   "execution_count": 40,
   "id": "171217a9",
   "metadata": {},
   "outputs": [
    {
     "data": {
      "text/plain": [
       "<matplotlib.axes._subplots.AxesSubplot at 0x261acd6c940>"
      ]
     },
     "execution_count": 40,
     "metadata": {},
     "output_type": "execute_result"
    },
    {
     "data": {
      "image/png": "[encoded data removed]",
      "text/plain": [
       "<Figure size 432x432 with 1 Axes>"
      ]
     },
     "metadata": {},
     "output_type": "display_data"
    }
   ],
   "source": [
    "# Plot the clusters\n",
    "# Use Alcohol and Acid as the axes\n",
    "fig, ax = plt.subplots(1, 1, figsize=(6, 6))\n",
    "sns.scatterplot(data=df, x=\"alcohol\", y=\"acid\", hue=kmeans.labels_, palette=[\"blue\", \"red\", \"green\"], ax=ax)"
   ]
  },
  {
   "cell_type": "code",
   "execution_count": 13,
   "id": "20b907bb",
   "metadata": {},
   "outputs": [
    {
     "name": "stderr",
     "output_type": "stream",
     "text": [
      "D:\\Anaconda3\\lib\\site-packages\\sklearn\\cluster\\_kmeans.py:882: UserWarning: KMeans is known to have a memory leak on Windows with MKL, when there are less chunks than available threads. You can avoid it by setting the environment variable OMP_NUM_THREADS=1.\n",
      "  f\"KMeans is known to have a memory leak on Windows \"\n"
     ]
    },
    {
     "data": {
      "text/plain": [
       "Text(0, 0.5, 'Sum of Squared Distances from Centroid')"
      ]
     },
     "execution_count": 13,
     "metadata": {},
     "output_type": "execute_result"
    },
    {
     "data": {
      "image/png": "[encoded data removed]",
      "text/plain": [
       "<Figure size 432x432 with 1 Axes>"
      ]
     },
     "metadata": {
      "needs_background": "light"
     },
     "output_type": "display_data"
    }
   ],
   "source": [
    "# Fine the optimal number of clusters using an elbow plot.\n",
    "k_vals = np.arange(1, 10)\n",
    "inertias = []\n",
    "for k in k_vals:\n",
    "    # Create a model with the desired number of clusters and fit it to the data\n",
    "    model = KMeans(n_clusters=k)\n",
    "    model.fit(X)\n",
    "    # Determine the total sum of squared distances between the points and the centroids\n",
    "    inertias.append(model.inertia_)\n",
    "    \n",
    "# Plot the results\n",
    "fig, ax = plt.subplots(1, 1, figsize=(6, 6))\n",
    "sns.lineplot(x=k_vals, y=inertias, ax=ax)\n",
    "ax.set_title(\"Elbow plot for KMeans\")\n",
    "ax.set_xlabel(\"k\")\n",
    "ax.set_ylabel(\"Sum of Squared Distances from Centroid\")"
   ]
  },
  {
   "cell_type": "code",
   "execution_count": 14,
   "id": "73dfebe9",
   "metadata": {},
   "outputs": [
    {
     "data": {
      "text/html": [
       "<div>\n",
       "<style scoped>\n",
       "    .dataframe tbody tr th:only-of-type {\n",
       "        vertical-align: middle;\n",
       "    }\n",
       "\n",
       "    .dataframe tbody tr th {\n",
       "        vertical-align: top;\n",
       "    }\n",
       "\n",
       "    .dataframe thead th {\n",
       "        text-align: right;\n",
       "    }\n",
       "</style>\n",
       "<table border=\"1\" class=\"dataframe\">\n",
       "  <thead>\n",
       "    <tr style=\"text-align: right;\">\n",
       "      <th></th>\n",
       "      <th>label</th>\n",
       "      <th>alcohol</th>\n",
       "      <th>acid</th>\n",
       "      <th>ash</th>\n",
       "      <th>alcalinity</th>\n",
       "      <th>Mg</th>\n",
       "      <th>phenols</th>\n",
       "      <th>flavanoids</th>\n",
       "      <th>nonflavanoids</th>\n",
       "      <th>proanthocyanins</th>\n",
       "      <th>color</th>\n",
       "      <th>hue</th>\n",
       "      <th>od</th>\n",
       "      <th>proline</th>\n",
       "      <th>cluster</th>\n",
       "    </tr>\n",
       "  </thead>\n",
       "  <tbody>\n",
       "    <tr>\n",
       "      <td>0</td>\n",
       "      <td>1</td>\n",
       "      <td>14.23</td>\n",
       "      <td>1.71</td>\n",
       "      <td>2.43</td>\n",
       "      <td>15.6</td>\n",
       "      <td>127</td>\n",
       "      <td>2.80</td>\n",
       "      <td>3.06</td>\n",
       "      <td>0.28</td>\n",
       "      <td>2.29</td>\n",
       "      <td>5.64</td>\n",
       "      <td>1.04</td>\n",
       "      <td>3.92</td>\n",
       "      <td>1065</td>\n",
       "      <td>0</td>\n",
       "    </tr>\n",
       "    <tr>\n",
       "      <td>1</td>\n",
       "      <td>1</td>\n",
       "      <td>13.20</td>\n",
       "      <td>1.78</td>\n",
       "      <td>2.14</td>\n",
       "      <td>11.2</td>\n",
       "      <td>100</td>\n",
       "      <td>2.65</td>\n",
       "      <td>2.76</td>\n",
       "      <td>0.26</td>\n",
       "      <td>1.28</td>\n",
       "      <td>4.38</td>\n",
       "      <td>1.05</td>\n",
       "      <td>3.40</td>\n",
       "      <td>1050</td>\n",
       "      <td>0</td>\n",
       "    </tr>\n",
       "    <tr>\n",
       "      <td>2</td>\n",
       "      <td>1</td>\n",
       "      <td>13.16</td>\n",
       "      <td>2.36</td>\n",
       "      <td>2.67</td>\n",
       "      <td>18.6</td>\n",
       "      <td>101</td>\n",
       "      <td>2.80</td>\n",
       "      <td>3.24</td>\n",
       "      <td>0.30</td>\n",
       "      <td>2.81</td>\n",
       "      <td>5.68</td>\n",
       "      <td>1.03</td>\n",
       "      <td>3.17</td>\n",
       "      <td>1185</td>\n",
       "      <td>0</td>\n",
       "    </tr>\n",
       "    <tr>\n",
       "      <td>3</td>\n",
       "      <td>1</td>\n",
       "      <td>14.37</td>\n",
       "      <td>1.95</td>\n",
       "      <td>2.50</td>\n",
       "      <td>16.8</td>\n",
       "      <td>113</td>\n",
       "      <td>3.85</td>\n",
       "      <td>3.49</td>\n",
       "      <td>0.24</td>\n",
       "      <td>2.18</td>\n",
       "      <td>7.80</td>\n",
       "      <td>0.86</td>\n",
       "      <td>3.45</td>\n",
       "      <td>1480</td>\n",
       "      <td>0</td>\n",
       "    </tr>\n",
       "    <tr>\n",
       "      <td>4</td>\n",
       "      <td>1</td>\n",
       "      <td>13.24</td>\n",
       "      <td>2.59</td>\n",
       "      <td>2.87</td>\n",
       "      <td>21.0</td>\n",
       "      <td>118</td>\n",
       "      <td>2.80</td>\n",
       "      <td>2.69</td>\n",
       "      <td>0.39</td>\n",
       "      <td>1.82</td>\n",
       "      <td>4.32</td>\n",
       "      <td>1.04</td>\n",
       "      <td>2.93</td>\n",
       "      <td>735</td>\n",
       "      <td>0</td>\n",
       "    </tr>\n",
       "  </tbody>\n",
       "</table>\n",
       "</div>"
      ],
      "text/plain": [
       "   label  alcohol  acid   ash  alcalinity   Mg  phenols  flavanoids  \\\n",
       "0      1    14.23  1.71  2.43        15.6  127     2.80        3.06   \n",
       "1      1    13.20  1.78  2.14        11.2  100     2.65        2.76   \n",
       "2      1    13.16  2.36  2.67        18.6  101     2.80        3.24   \n",
       "3      1    14.37  1.95  2.50        16.8  113     3.85        3.49   \n",
       "4      1    13.24  2.59  2.87        21.0  118     2.80        2.69   \n",
       "\n",
       "   nonflavanoids  proanthocyanins  color   hue    od  proline  cluster  \n",
       "0           0.28             2.29   5.64  1.04  3.92     1065        0  \n",
       "1           0.26             1.28   4.38  1.05  3.40     1050        0  \n",
       "2           0.30             2.81   5.68  1.03  3.17     1185        0  \n",
       "3           0.24             2.18   7.80  0.86  3.45     1480        0  \n",
       "4           0.39             1.82   4.32  1.04  2.93      735        0  "
      ]
     },
     "execution_count": 14,
     "metadata": {},
     "output_type": "execute_result"
    }
   ],
   "source": [
    "# Add cluster values to original dataset\n",
    "df[\"cluster\"] = kmeans.labels_\n",
    "df.head()"
   ]
  },
  {
   "cell_type": "code",
   "execution_count": 17,
   "id": "30c21f86",
   "metadata": {},
   "outputs": [
    {
     "data": {
      "text/plain": [
       "0.9887640449438202"
      ]
     },
     "execution_count": 17,
     "metadata": {},
     "output_type": "execute_result"
    }
   ],
   "source": [
    "# Fit a logistic regression model to the data\n",
    "lr_clf = LogisticRegression()\n",
    "lr_clf.fit(X, labe)\n",
    "lr_clf.score(X, y)"
   ]
  },
  {
   "cell_type": "code",
   "execution_count": 20,
   "id": "b26bf7b3",
   "metadata": {},
   "outputs": [
    {
     "data": {
      "text/plain": [
       "{'C': 0.501}"
      ]
     },
     "execution_count": 20,
     "metadata": {},
     "output_type": "execute_result"
    }
   ],
   "source": [
    "# Use GridSearch to find the optimal C parameter\n",
    "param_grid = {\"C\": np.arange(0.001, 1, 0.05)}\n",
    "grid = GridSearchCV(LogisticRegression(), param_grid)\n",
    "grid.fit(X, y)\n",
    "grid.best_params_"
   ]
  },
  {
   "cell_type": "code",
   "execution_count": 21,
   "id": "6eb11896",
   "metadata": {},
   "outputs": [
    {
     "data": {
      "text/plain": [
       "0.9887640449438202"
      ]
     },
     "execution_count": 21,
     "metadata": {},
     "output_type": "execute_result"
    }
   ],
   "source": [
    "# Find the accuaracy of the best logistic regression model\n",
    "grid.best_estimator_.score(X, y)"
   ]
  },
  {
   "cell_type": "code",
   "execution_count": 22,
   "id": "6941baf4",
   "metadata": {},
   "outputs": [
    {
     "data": {
      "text/plain": [
       "0.8685425493202144"
      ]
     },
     "execution_count": 22,
     "metadata": {},
     "output_type": "execute_result"
    }
   ],
   "source": [
    "# Determine how well the clustering matched the labels\n",
    "# Can use the rand index to determine this\n",
    "adjusted_rand_score(kmeans.labels_, y)"
   ]
  },
  {
   "cell_type": "markdown",
   "id": "5bda5849",
   "metadata": {},
   "source": [
    "# Problem 2: Logistic Regression\n",
    "\n",
    "Find another dataset that is suitable for logistic regression. Run a logistic regression on the data using the statsmodel package. Print the results and interpret the parameter coefficients for each input variable: https://www.statsmodels.org/stable/index.html. Evaluate the model as well. "
   ]
  },
  {
   "cell_type": "code",
   "execution_count": 51,
   "id": "00fe87a0",
   "metadata": {},
   "outputs": [
    {
     "name": "stderr",
     "output_type": "stream",
     "text": [
      "D:\\Anaconda3\\lib\\site-packages\\pandas\\io\\parsers.py:2455: FutureWarning: split() requires a non-empty pattern match.\n",
      "  yield pat.split(line.strip())\n",
      "D:\\Anaconda3\\lib\\site-packages\\pandas\\io\\parsers.py:2458: FutureWarning: split() requires a non-empty pattern match.\n",
      "  yield pat.split(line.strip())\n"
     ]
    },
    {
     "data": {
      "text/html": [
       "<div>\n",
       "<style scoped>\n",
       "    .dataframe tbody tr th:only-of-type {\n",
       "        vertical-align: middle;\n",
       "    }\n",
       "\n",
       "    .dataframe tbody tr th {\n",
       "        vertical-align: top;\n",
       "    }\n",
       "\n",
       "    .dataframe thead th {\n",
       "        text-align: right;\n",
       "    }\n",
       "</style>\n",
       "<table border=\"1\" class=\"dataframe\">\n",
       "  <thead>\n",
       "    <tr style=\"text-align: right;\">\n",
       "      <th></th>\n",
       "      <th>As</th>\n",
       "      <th>Sb</th>\n",
       "      <th>Lineament</th>\n",
       "      <th>Gold</th>\n",
       "    </tr>\n",
       "  </thead>\n",
       "  <tbody>\n",
       "    <tr>\n",
       "      <td>0</td>\n",
       "      <td>6.77</td>\n",
       "      <td>3.08</td>\n",
       "      <td>1</td>\n",
       "      <td>1</td>\n",
       "    </tr>\n",
       "    <tr>\n",
       "      <td>1</td>\n",
       "      <td>15.03</td>\n",
       "      <td>6.15</td>\n",
       "      <td>1</td>\n",
       "      <td>1</td>\n",
       "    </tr>\n",
       "    <tr>\n",
       "      <td>2</td>\n",
       "      <td>6.43</td>\n",
       "      <td>2.35</td>\n",
       "      <td>1</td>\n",
       "      <td>1</td>\n",
       "    </tr>\n",
       "    <tr>\n",
       "      <td>3</td>\n",
       "      <td>0.10</td>\n",
       "      <td>0.30</td>\n",
       "      <td>0</td>\n",
       "      <td>0</td>\n",
       "    </tr>\n",
       "    <tr>\n",
       "      <td>4</td>\n",
       "      <td>0.10</td>\n",
       "      <td>0.30</td>\n",
       "      <td>0</td>\n",
       "      <td>0</td>\n",
       "    </tr>\n",
       "  </tbody>\n",
       "</table>\n",
       "</div>"
      ],
      "text/plain": [
       "      As    Sb  Lineament  Gold\n",
       "0   6.77  3.08          1     1\n",
       "1  15.03  6.15          1     1\n",
       "2   6.43  2.35          1     1\n",
       "3   0.10  0.30          0     0\n",
       "4   0.10  0.30          0     0"
      ]
     },
     "execution_count": 51,
     "metadata": {},
     "output_type": "execute_result"
    }
   ],
   "source": [
    "df_gold = pd.read_csv(\"gold.csv\", header=None, sep=r\"\\s*\", engine=\"python\")\n",
    "df_gold.columns = [\"As\", \"Sb\", \"Lineament\", \"Gold\"]\n",
    "df_gold.head()"
   ]
  },
  {
   "cell_type": "code",
   "execution_count": 59,
   "id": "6ffda2cd",
   "metadata": {},
   "outputs": [
    {
     "name": "stdout",
     "output_type": "stream",
     "text": [
      "Optimization terminated successfully.\n",
      "         Current function value: 0.143014\n",
      "         Iterations 10\n",
      "                         Results: Logit\n",
      "=================================================================\n",
      "Model:              Logit            Pseudo R-squared: 0.791     \n",
      "Dependent Variable: Gold             AIC:              24.3058   \n",
      "Date:               2021-08-16 18:23 BIC:              30.7824   \n",
      "No. Observations:   64               Log-Likelihood:   -9.1529   \n",
      "Df Model:           2                LL-Null:          -43.860   \n",
      "Df Residuals:       61               LLR p-value:      8.4499e-16\n",
      "Converged:          1.0000           Scale:            1.0000    \n",
      "No. Iterations:     10.0000                                      \n",
      "------------------------------------------------------------------\n",
      "               Coef.   Std.Err.     z     P>|z|    [0.025   0.975]\n",
      "------------------------------------------------------------------\n",
      "Intercept     -4.9664    1.3676  -3.6316  0.0003  -7.6467  -2.2860\n",
      "As             1.2490    0.3777   3.3067  0.0009   0.5087   1.9894\n",
      "Sb             0.9235    0.4486   2.0587  0.0395   0.0443   1.8027\n",
      "=================================================================\n",
      "\n"
     ]
    }
   ],
   "source": [
    "# Fit the data with a statsmodels logit algorithm\n",
    "X_gold = df_gold[[\"As\", \"Sb\"]]\n",
    "y_gold = df_gold[\"Gold\"]\n",
    "\n",
    "lr_clf = smf.logit(\"Gold ~ As + Sb\", data=df_gold)\n",
    "results = lr_clf.fit()\n",
    "print(results.summary2())"
   ]
  },
  {
   "cell_type": "code",
   "execution_count": 67,
   "id": "b3491b72",
   "metadata": {},
   "outputs": [
    {
     "data": {
      "text/plain": [
       "0.953125"
      ]
     },
     "execution_count": 67,
     "metadata": {},
     "output_type": "execute_result"
    }
   ],
   "source": [
    "# Evaluate the results\n",
    "# Predict the values of the training set\n",
    "preds_probs = results.predict(X_gold)\n",
    "preds = [1 if prob > 0.5 else 0 for prob in preds_probs]\n",
    "# Determine the accuracy of the model\n",
    "np.mean(y_gold == preds)"
   ]
  }
 ],
 "metadata": {
  "kernelspec": {
   "display_name": "Python 3",
   "language": "python",
   "name": "python3"
  },
  "language_info": {
   "codemirror_mode": {
    "name": "ipython",
    "version": 3
   },
   "file_extension": ".py",
   "mimetype": "text/x-python",
   "name": "python",
   "nbconvert_exporter": "python",
   "pygments_lexer": "ipython3",
   "version": "3.6.9"
  }
 },
 "nbformat": 4,
 "nbformat_minor": 5
}
