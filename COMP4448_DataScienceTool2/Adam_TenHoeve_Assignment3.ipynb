{
 "cells": [
  {
   "cell_type": "markdown",
   "id": "c15383cc",
   "metadata": {},
   "source": [
    "# Assignment 3 - Decision Trees\n",
    "\n",
    "Adam Ten Hoeve  \n",
    "COMP 4448: Data Science Tools 2"
   ]
  },
  {
   "cell_type": "code",
   "execution_count": 48,
   "id": "ad2f17dd",
   "metadata": {},
   "outputs": [],
   "source": [
    "# Load Required packages\n",
    "import numpy as np\n",
    "import pandas as pd\n",
    "\n",
    "from sklearn.preprocessing import MinMaxScaler\n",
    "from sklearn.model_selection import train_test_split, GridSearchCV, cross_val_score, validation_curve\n",
    "from sklearn.metrics import accuracy_score, zero_one_loss, classification_report, confusion_matrix, \\\n",
    "                            precision_score, recall_score, f1_score, plot_roc_curve, plot_confusion_matrix\n",
    "from sklearn.ensemble import RandomForestClassifier\n",
    "\n",
    "from sklearn.tree import DecisionTreeClassifier\n",
    "\n",
    "import matplotlib.pyplot as plt\n",
    "import seaborn as sns\n",
    "%matplotlib inline"
   ]
  },
  {
   "cell_type": "markdown",
   "id": "bf83589e",
   "metadata": {},
   "source": [
    "# Question 1\n",
    "\n",
    "For a presidential election, campaign organizers for both the Republican and Democrat parties are interested in identifying undecided voters who would consider voting for their party. The file BlueOrRed.csv (provided on canvas)contains data on a sample of voters with tracked variables including: whether or not they are undecided regarding their candidate preference, age, whether they own a home, gender, marital status, household size, income, years of education, and whether they attend church. For this dataset, you would use the Undecided variable as your output variable and the rest of the variables as your input variables. You want to predict whether a candidate is undecided(Undecided=1) or decided(Undecided=0). "
   ]
  },
  {
   "cell_type": "markdown",
   "id": "a7e46e3f",
   "metadata": {},
   "source": [
    "a) Upload the data into Python and check for missing data. If there is any missing data, drop the cases that have the missing data. "
   ]
  },
  {
   "cell_type": "code",
   "execution_count": 2,
   "id": "5ef404e3",
   "metadata": {},
   "outputs": [
    {
     "data": {
      "text/html": [
       "<div>\n",
       "<style scoped>\n",
       "    .dataframe tbody tr th:only-of-type {\n",
       "        vertical-align: middle;\n",
       "    }\n",
       "\n",
       "    .dataframe tbody tr th {\n",
       "        vertical-align: top;\n",
       "    }\n",
       "\n",
       "    .dataframe thead th {\n",
       "        text-align: right;\n",
       "    }\n",
       "</style>\n",
       "<table border=\"1\" class=\"dataframe\">\n",
       "  <thead>\n",
       "    <tr style=\"text-align: right;\">\n",
       "      <th></th>\n",
       "      <th>Age</th>\n",
       "      <th>HomeOwner</th>\n",
       "      <th>Female</th>\n",
       "      <th>Married</th>\n",
       "      <th>HouseholdSize</th>\n",
       "      <th>Income</th>\n",
       "      <th>Education</th>\n",
       "      <th>Church</th>\n",
       "      <th>Undecided</th>\n",
       "    </tr>\n",
       "  </thead>\n",
       "  <tbody>\n",
       "    <tr>\n",
       "      <td>0</td>\n",
       "      <td>51</td>\n",
       "      <td>1</td>\n",
       "      <td>1</td>\n",
       "      <td>1</td>\n",
       "      <td>4</td>\n",
       "      <td>171.0</td>\n",
       "      <td>15</td>\n",
       "      <td>0</td>\n",
       "      <td>1</td>\n",
       "    </tr>\n",
       "    <tr>\n",
       "      <td>1</td>\n",
       "      <td>46</td>\n",
       "      <td>1</td>\n",
       "      <td>1</td>\n",
       "      <td>1</td>\n",
       "      <td>6</td>\n",
       "      <td>420.0</td>\n",
       "      <td>15</td>\n",
       "      <td>1</td>\n",
       "      <td>0</td>\n",
       "    </tr>\n",
       "    <tr>\n",
       "      <td>2</td>\n",
       "      <td>55</td>\n",
       "      <td>1</td>\n",
       "      <td>0</td>\n",
       "      <td>1</td>\n",
       "      <td>6</td>\n",
       "      <td>132.0</td>\n",
       "      <td>16</td>\n",
       "      <td>0</td>\n",
       "      <td>1</td>\n",
       "    </tr>\n",
       "    <tr>\n",
       "      <td>3</td>\n",
       "      <td>50</td>\n",
       "      <td>1</td>\n",
       "      <td>0</td>\n",
       "      <td>1</td>\n",
       "      <td>4</td>\n",
       "      <td>18.0</td>\n",
       "      <td>8</td>\n",
       "      <td>0</td>\n",
       "      <td>0</td>\n",
       "    </tr>\n",
       "    <tr>\n",
       "      <td>4</td>\n",
       "      <td>49</td>\n",
       "      <td>1</td>\n",
       "      <td>1</td>\n",
       "      <td>1</td>\n",
       "      <td>2</td>\n",
       "      <td>66.0</td>\n",
       "      <td>15</td>\n",
       "      <td>1</td>\n",
       "      <td>1</td>\n",
       "    </tr>\n",
       "  </tbody>\n",
       "</table>\n",
       "</div>"
      ],
      "text/plain": [
       "   Age  HomeOwner  Female  Married  HouseholdSize  Income  Education  Church  \\\n",
       "0   51          1       1        1              4   171.0         15       0   \n",
       "1   46          1       1        1              6   420.0         15       1   \n",
       "2   55          1       0        1              6   132.0         16       0   \n",
       "3   50          1       0        1              4    18.0          8       0   \n",
       "4   49          1       1        1              2    66.0         15       1   \n",
       "\n",
       "   Undecided  \n",
       "0          1  \n",
       "1          0  \n",
       "2          1  \n",
       "3          0  \n",
       "4          1  "
      ]
     },
     "execution_count": 2,
     "metadata": {},
     "output_type": "execute_result"
    }
   ],
   "source": [
    "# Load the CSV into pandas dataframe\n",
    "df = pd.read_csv(\"BlueOrRed.csv\")\n",
    "# Drop any rows that contain missing data\n",
    "df.dropna(axis=0, inplace=True)\n",
    "# Display the first 5 rows of dataframe\n",
    "df.head(5)"
   ]
  },
  {
   "cell_type": "markdown",
   "id": "66ccec0d",
   "metadata": {},
   "source": [
    "b) Normalize the continuous variables using min-max normalization. You should obtain a new dataset that has your normalized continuous input variables, the categorical input variables (the categorical input variables are fine and don’t need to be normalized), and your output variable."
   ]
  },
  {
   "cell_type": "code",
   "execution_count": 3,
   "id": "064391c1",
   "metadata": {},
   "outputs": [
    {
     "data": {
      "text/html": [
       "<div>\n",
       "<style scoped>\n",
       "    .dataframe tbody tr th:only-of-type {\n",
       "        vertical-align: middle;\n",
       "    }\n",
       "\n",
       "    .dataframe tbody tr th {\n",
       "        vertical-align: top;\n",
       "    }\n",
       "\n",
       "    .dataframe thead th {\n",
       "        text-align: right;\n",
       "    }\n",
       "</style>\n",
       "<table border=\"1\" class=\"dataframe\">\n",
       "  <thead>\n",
       "    <tr style=\"text-align: right;\">\n",
       "      <th></th>\n",
       "      <th>Age</th>\n",
       "      <th>HomeOwner</th>\n",
       "      <th>Female</th>\n",
       "      <th>Married</th>\n",
       "      <th>HouseholdSize</th>\n",
       "      <th>Income</th>\n",
       "      <th>Education</th>\n",
       "      <th>Church</th>\n",
       "      <th>Undecided</th>\n",
       "    </tr>\n",
       "  </thead>\n",
       "  <tbody>\n",
       "    <tr>\n",
       "      <td>0</td>\n",
       "      <td>0.523810</td>\n",
       "      <td>1</td>\n",
       "      <td>1</td>\n",
       "      <td>1</td>\n",
       "      <td>4</td>\n",
       "      <td>0.306422</td>\n",
       "      <td>15</td>\n",
       "      <td>0</td>\n",
       "      <td>1</td>\n",
       "    </tr>\n",
       "    <tr>\n",
       "      <td>1</td>\n",
       "      <td>0.444444</td>\n",
       "      <td>1</td>\n",
       "      <td>1</td>\n",
       "      <td>1</td>\n",
       "      <td>6</td>\n",
       "      <td>0.763303</td>\n",
       "      <td>15</td>\n",
       "      <td>1</td>\n",
       "      <td>0</td>\n",
       "    </tr>\n",
       "    <tr>\n",
       "      <td>2</td>\n",
       "      <td>0.587302</td>\n",
       "      <td>1</td>\n",
       "      <td>0</td>\n",
       "      <td>1</td>\n",
       "      <td>6</td>\n",
       "      <td>0.234862</td>\n",
       "      <td>16</td>\n",
       "      <td>0</td>\n",
       "      <td>1</td>\n",
       "    </tr>\n",
       "    <tr>\n",
       "      <td>3</td>\n",
       "      <td>0.507937</td>\n",
       "      <td>1</td>\n",
       "      <td>0</td>\n",
       "      <td>1</td>\n",
       "      <td>4</td>\n",
       "      <td>0.025688</td>\n",
       "      <td>8</td>\n",
       "      <td>0</td>\n",
       "      <td>0</td>\n",
       "    </tr>\n",
       "    <tr>\n",
       "      <td>4</td>\n",
       "      <td>0.492063</td>\n",
       "      <td>1</td>\n",
       "      <td>1</td>\n",
       "      <td>1</td>\n",
       "      <td>2</td>\n",
       "      <td>0.113761</td>\n",
       "      <td>15</td>\n",
       "      <td>1</td>\n",
       "      <td>1</td>\n",
       "    </tr>\n",
       "  </tbody>\n",
       "</table>\n",
       "</div>"
      ],
      "text/plain": [
       "        Age  HomeOwner  Female  Married  HouseholdSize    Income  Education  \\\n",
       "0  0.523810          1       1        1              4  0.306422         15   \n",
       "1  0.444444          1       1        1              6  0.763303         15   \n",
       "2  0.587302          1       0        1              6  0.234862         16   \n",
       "3  0.507937          1       0        1              4  0.025688          8   \n",
       "4  0.492063          1       1        1              2  0.113761         15   \n",
       "\n",
       "   Church  Undecided  \n",
       "0       0          1  \n",
       "1       1          0  \n",
       "2       0          1  \n",
       "3       0          0  \n",
       "4       1          1  "
      ]
     },
     "execution_count": 3,
     "metadata": {},
     "output_type": "execute_result"
    }
   ],
   "source": [
    "scaler = MinMaxScaler()\n",
    "# Fit the scaler to the continuous variables\n",
    "# Continuous variables are Age and Income\n",
    "df[[\"Age\", \"Income\"]] = scaler.fit_transform(df[[\"Age\", \"Income\"]])\n",
    "df.head(5)"
   ]
  },
  {
   "cell_type": "markdown",
   "id": "4d020451",
   "metadata": {},
   "source": [
    "c)\tWhy do you think using min-max normalization is a better choice for this situation compared to using other scalers such as the Standard Scaler which standardizes the data?"
   ]
  },
  {
   "cell_type": "markdown",
   "id": "fe18ae2d",
   "metadata": {},
   "source": [
    "Min-Max scaling allows us to scale the data without affecting the underlying distribution. The other scalers, such as the standard scaler, actually standardizes the data, which changes the underlying distribution to fit a (relatively) normal distribution. This means that the min-max scaler is the least disruptive scaler to the information of the original data."
   ]
  },
  {
   "cell_type": "markdown",
   "id": "a616f7ae",
   "metadata": {},
   "source": [
    "d)\tUse the train_test_split() function in the sklearn.model_selection module in scikit-learn to split the data into training and test sets. Your test set should be 30% of the entire data. Print the shape of the X_train, y_train, X_test and y_test data. You can use the default value of the random state in splitting the data, which is random_state=42. "
   ]
  },
  {
   "cell_type": "code",
   "execution_count": 4,
   "id": "292fa54f",
   "metadata": {},
   "outputs": [
    {
     "name": "stdout",
     "output_type": "stream",
     "text": [
      "(7000, 8)\n",
      "(3000, 8)\n",
      "(7000,)\n",
      "(3000,)\n"
     ]
    }
   ],
   "source": [
    "# Split the data into input and output data\n",
    "X = df.drop(\"Undecided\", axis=1)\n",
    "y = df[\"Undecided\"]\n",
    "X_train, X_test, y_train, y_test = train_test_split(X, y, test_size=0.3, random_state=42)\n",
    "# Print the shape of each set\n",
    "print(X_train.shape)\n",
    "print(X_test.shape)\n",
    "print(y_train.shape)\n",
    "print(y_test.shape)"
   ]
  },
  {
   "cell_type": "markdown",
   "id": "a3ec8871",
   "metadata": {},
   "source": [
    "e)\tConstruct a decision tree and fit the tree into the data. Then use your decision tree model to make predictions on the training set as well as on the test set. Assign your results to y_train_pred and y_test_pred respectively. Print out the first 100 predictions for each of the  y_train_pred and y_test_pred. "
   ]
  },
  {
   "cell_type": "code",
   "execution_count": 5,
   "id": "67c693f1",
   "metadata": {},
   "outputs": [
    {
     "name": "stdout",
     "output_type": "stream",
     "text": [
      "First 100 training predictions:\n",
      " [0 0 0 0 1 0 0 0 0 1 0 1 0 1 1 0 0 0 0 0 0 0 0 1 1 1 0 1 1 0 0 0 0 1 1 1 0\n",
      " 1 1 0 1 0 0 0 0 0 1 1 0 1 1 0 1 0 1 1 0 0 1 0 0 0 0 1 0 0 0 0 0 1 0 0 0 0\n",
      " 0 1 0 1 0 0 1 0 1 0 0 0 1 0 0 0 0 1 1 1 0 1 0 0 0 1]\n",
      "First 100 test predictions\n",
      " [0 1 1 1 1 1 1 1 1 0 0 1 0 0 0 0 1 0 1 0 1 0 0 0 1 1 1 0 1 1 1 0 1 0 0 0 0\n",
      " 0 0 0 0 0 0 1 0 0 0 0 1 0 1 0 1 1 1 1 1 0 0 1 0 0 1 1 1 1 0 0 1 1 0 0 0 0\n",
      " 0 0 0 0 1 0 1 1 0 0 1 0 1 0 1 1 0 0 0 0 0 0 0 1 1 0]\n"
     ]
    }
   ],
   "source": [
    "# Create the Decision Tree\n",
    "dt_clf = DecisionTreeClassifier()\n",
    "# Fit the decision tree to the training data\n",
    "dt_clf.fit(X_train, y_train)\n",
    "# Predict on the training set\n",
    "y_train_pred = dt_clf.predict(X_train)\n",
    "print(\"First 100 training predictions:\\n\", y_train_pred[:100])\n",
    "# Predict on the test set\n",
    "y_test_pred = dt_clf.predict(X_test)\n",
    "print(\"First 100 test predictions\\n\", y_test_pred[:100])"
   ]
  },
  {
   "cell_type": "markdown",
   "id": "e0b363b2",
   "metadata": {},
   "source": [
    "f)\tFind the overall accuracy of the tree model on the training set and on the test set. Use the accuracy_score() function in the sklearn.metrics module. Does the tree overfit the model? Why or why not?  "
   ]
  },
  {
   "cell_type": "code",
   "execution_count": 6,
   "id": "81e41809",
   "metadata": {},
   "outputs": [
    {
     "name": "stdout",
     "output_type": "stream",
     "text": [
      "Training accuracy: 1.0\n",
      "Test accuracy: 0.97\n"
     ]
    }
   ],
   "source": [
    "# Find the accuracy on the training set\n",
    "print(\"Training accuracy:\", accuracy_score(y_train, y_train_pred))\n",
    "# Find the accuracy on the test set\n",
    "print(\"Test accuracy:\", accuracy_score(y_test, y_test_pred))"
   ]
  },
  {
   "cell_type": "markdown",
   "id": "c463959b",
   "metadata": {},
   "source": [
    "g)\tAlso, use the .score() method of the tree estimator to find the overall accuracy on the training set and test set. "
   ]
  },
  {
   "cell_type": "code",
   "execution_count": 7,
   "id": "cdf4c347",
   "metadata": {},
   "outputs": [
    {
     "name": "stdout",
     "output_type": "stream",
     "text": [
      "Training accuracy: 1.0\n",
      "Test accuracy: 0.97\n"
     ]
    }
   ],
   "source": [
    "# Find the accuracy on the training set\n",
    "print(\"Training accuracy:\", dt_clf.score(X_train, y_train))\n",
    "# Find the accuracy on the test set\n",
    "print(\"Test accuracy:\", dt_clf.score(X_test, y_test))"
   ]
  },
  {
   "cell_type": "markdown",
   "id": "d638cd1d",
   "metadata": {},
   "source": [
    "h)\tUse the zero_one_loss() function inside the sklearn.metric module to compute the overall prediction error of the tree model on the test set and training set. "
   ]
  },
  {
   "cell_type": "code",
   "execution_count": 8,
   "id": "b3f0693c",
   "metadata": {},
   "outputs": [
    {
     "name": "stdout",
     "output_type": "stream",
     "text": [
      "Overall prediction error on training set: 0.0\n",
      "Overall prediction error on test set: 0.030000000000000027\n"
     ]
    }
   ],
   "source": [
    "# Find the overall prediction error on the training set\n",
    "print(\"Overall prediction error on training set:\", zero_one_loss(y_train, y_train_pred))\n",
    "# Find the overall prediction error on the test set\n",
    "print(\"Overall prediction error on test set:\", zero_one_loss(y_test, y_test_pred))"
   ]
  },
  {
   "cell_type": "markdown",
   "id": "589283f5",
   "metadata": {},
   "source": [
    "# Question 2"
   ]
  },
  {
   "cell_type": "markdown",
   "id": "72f063a7",
   "metadata": {},
   "source": [
    "a)\tGenerate the classification report using the classification_report () "
   ]
  },
  {
   "cell_type": "code",
   "execution_count": 9,
   "id": "20b974f2",
   "metadata": {},
   "outputs": [
    {
     "name": "stdout",
     "output_type": "stream",
     "text": [
      "Classification Report on the test set\n",
      ":               precision    recall  f1-score   support\n",
      "\n",
      "           0       0.98      0.97      0.98      1814\n",
      "           1       0.96      0.97      0.96      1186\n",
      "\n",
      "    accuracy                           0.97      3000\n",
      "   macro avg       0.97      0.97      0.97      3000\n",
      "weighted avg       0.97      0.97      0.97      3000\n",
      "\n"
     ]
    }
   ],
   "source": [
    "# Classification report on the test set\n",
    "print(\"Classification Report on the test set\\n:\", classification_report(y_test, y_test_pred))"
   ]
  },
  {
   "cell_type": "markdown",
   "id": "8936d219",
   "metadata": {},
   "source": [
    "b)\tGenerate the confusion matrix using confusion_matrix() "
   ]
  },
  {
   "cell_type": "code",
   "execution_count": 10,
   "id": "89a217e0",
   "metadata": {},
   "outputs": [
    {
     "name": "stdout",
     "output_type": "stream",
     "text": [
      "Confusion matrix of test set:\n",
      " [[1765   49]\n",
      " [  41 1145]]\n"
     ]
    }
   ],
   "source": [
    "# Confusion matrix of test set\n",
    "print(\"Confusion matrix of test set:\\n\", confusion_matrix(y_test, y_test_pred))"
   ]
  },
  {
   "cell_type": "markdown",
   "id": "40f1e06f",
   "metadata": {},
   "source": [
    "c)\tGenerate the precision score using precision_score() "
   ]
  },
  {
   "cell_type": "code",
   "execution_count": 11,
   "id": "dc720405",
   "metadata": {},
   "outputs": [
    {
     "name": "stdout",
     "output_type": "stream",
     "text": [
      "Precision score on test set: 0.958961474036851\n"
     ]
    }
   ],
   "source": [
    "# Precision on test set\n",
    "print(\"Precision score on test set:\", precision_score(y_test, y_test_pred))"
   ]
  },
  {
   "cell_type": "markdown",
   "id": "75374f59",
   "metadata": {},
   "source": [
    "d)\tGenerate the recall score using recall_score()"
   ]
  },
  {
   "cell_type": "code",
   "execution_count": 12,
   "id": "a977d219",
   "metadata": {},
   "outputs": [
    {
     "name": "stdout",
     "output_type": "stream",
     "text": [
      "Recall score on test set: 0.9654300168634065\n"
     ]
    }
   ],
   "source": [
    "# Recall on test set\n",
    "print(\"Recall score on test set:\", recall_score(y_test, y_test_pred))"
   ]
  },
  {
   "cell_type": "markdown",
   "id": "e4f9dc19",
   "metadata": {},
   "source": [
    "e)\tGenerate the f1 score using f1_score()"
   ]
  },
  {
   "cell_type": "code",
   "execution_count": 13,
   "id": "40684aee",
   "metadata": {},
   "outputs": [
    {
     "name": "stdout",
     "output_type": "stream",
     "text": [
      "F1 score on test set: 0.9621848739495799\n"
     ]
    }
   ],
   "source": [
    "# F1 score on test set\n",
    "print(\"F1 score on test set:\", f1_score(y_test, y_test_pred))"
   ]
  },
  {
   "cell_type": "markdown",
   "id": "5d802db2",
   "metadata": {},
   "source": [
    "g)\tGenerate a roc curve using plot_roc_curve() "
   ]
  },
  {
   "cell_type": "code",
   "execution_count": 14,
   "id": "a210e1d3",
   "metadata": {},
   "outputs": [
    {
     "data": {
      "text/plain": [
       "<sklearn.metrics._plot.roc_curve.RocCurveDisplay at 0x1ab2c5f4eb8>"
      ]
     },
     "execution_count": 14,
     "metadata": {},
     "output_type": "execute_result"
    },
    {
     "data": {
      "image/png": "[encoded data removed]",
      "text/plain": [
       "<Figure size 432x288 with 1 Axes>"
      ]
     },
     "metadata": {
      "needs_background": "light"
     },
     "output_type": "display_data"
    }
   ],
   "source": [
    "plot_roc_curve(dt_clf, X_test, y_test)"
   ]
  },
  {
   "cell_type": "markdown",
   "id": "353b6b6c",
   "metadata": {},
   "source": [
    "h)\tPlot the confusion matrix using plot_confusion_matrix"
   ]
  },
  {
   "cell_type": "code",
   "execution_count": 15,
   "id": "d3dd8236",
   "metadata": {},
   "outputs": [
    {
     "data": {
      "text/plain": [
       "<sklearn.metrics._plot.confusion_matrix.ConfusionMatrixDisplay at 0x1ab2c5f4898>"
      ]
     },
     "execution_count": 15,
     "metadata": {},
     "output_type": "execute_result"
    },
    {
     "data": {
      "image/png": "[encoded data removed]",
      "text/plain": [
       "<Figure size 432x288 with 2 Axes>"
      ]
     },
     "metadata": {
      "needs_background": "light"
     },
     "output_type": "display_data"
    }
   ],
   "source": [
    "plot_confusion_matrix(dt_clf, X_test, y_test)"
   ]
  },
  {
   "cell_type": "markdown",
   "id": "ef642c7f",
   "metadata": {},
   "source": [
    "# Question 3\n",
    "\n",
    "You will now use cross validation to find better accuracy scores as well as to tune your hyperparameters. The hyperparameters of a decision tree as shown below. We are more interested in optimizing the depth of the tree (max_depth). "
   ]
  },
  {
   "cell_type": "markdown",
   "id": "a97b2d4a",
   "metadata": {},
   "source": [
    "a)\tFirst retrieve the maximum depth of this decision tree. Use clf.tree_.max_depth where clf is the name of your estimator and tree is the module in sklearn. "
   ]
  },
  {
   "cell_type": "code",
   "execution_count": 16,
   "id": "248d6bcc",
   "metadata": {},
   "outputs": [
    {
     "name": "stdout",
     "output_type": "stream",
     "text": [
      "Decision Tree Max Depth: 18\n"
     ]
    }
   ],
   "source": [
    "print(\"Decision Tree Max Depth:\", dt_clf.tree_.max_depth)"
   ]
  },
  {
   "cell_type": "markdown",
   "id": "6ca1510c",
   "metadata": {},
   "source": [
    "b)\tYou will find the optimal depth of the tree by tuning the max_depth hyperparameter. Write a for loop to iteratively compute the overall error rate of the model on the test set only for the possible values of the maximum depth of the tree. Then plot the overall error rate on the y-axis and the maximum depth of the tree on the x-axis. Also use np.argmin() on the error rates you obtained to retrieve the optimal maximum depth of the tree with the least error rate. Does this value match with what you see on your plot? "
   ]
  },
  {
   "cell_type": "code",
   "execution_count": 17,
   "id": "12483639",
   "metadata": {},
   "outputs": [
    {
     "data": {
      "text/plain": [
       "Text(0.5, 1.0, 'Decision Tree Error Rate vs. Tree Depth')"
      ]
     },
     "execution_count": 17,
     "metadata": {},
     "output_type": "execute_result"
    },
    {
     "data": {
      "image/png": "[encoded data removed]",
      "text/plain": [
       "<Figure size 720x504 with 1 Axes>"
      ]
     },
     "metadata": {
      "needs_background": "light"
     },
     "output_type": "display_data"
    }
   ],
   "source": [
    "# Initialize vectors for the depths and their scores\n",
    "depths = np.arange(1, 30)\n",
    "errors = np.zeros(len(depths))\n",
    "# Loop over all depths and calculate the accuracy of each model\n",
    "for index, depth in enumerate(depths):\n",
    "    # Fit a decision tree classifier with the specified max depth\n",
    "    dt = DecisionTreeClassifier(max_depth=depth).fit(X_train, y_train)\n",
    "    # Predict on the test set\n",
    "    preds = dt.predict(X_test)\n",
    "    # Find the erro rate of the specified tree\n",
    "    errors[index] = zero_one_loss(y_test, preds)\n",
    "    \n",
    "# Plot the error rate vs. tree depth\n",
    "fig, ax = plt.subplots(1, 1, figsize=(10, 7))\n",
    "sns.lineplot(x=depths, y=errors, ax=ax)\n",
    "ax.set_xlabel(\"Depth\")\n",
    "ax.set_ylabel(\"Error Rate\")\n",
    "ax.set_title(\"Decision Tree Error Rate vs. Tree Depth\")"
   ]
  },
  {
   "cell_type": "code",
   "execution_count": 18,
   "id": "29e67d79",
   "metadata": {},
   "outputs": [
    {
     "name": "stdout",
     "output_type": "stream",
     "text": [
      "Tree depth with minimum error rate: 6\n"
     ]
    }
   ],
   "source": [
    "# Find the Tree depth with the minimum error rate\n",
    "print(\"Tree depth with minimum error rate:\", depths[np.argmin(errors)])"
   ]
  },
  {
   "cell_type": "markdown",
   "id": "e8844eb2",
   "metadata": {},
   "source": [
    "c)\tNow, you will still find the optimal maximum depth of the decision tree model using grid search cross validation. Additionally, you will be simultaneously optimizing the max_features hyperparameter as well. You can check the documentation to see what these hyperparameters represent. You will use the GridSearchCV() constructor inside the sklearn.model_selection module. Make sure to pass the arguments (estimator and param_grid into the GridSearchCV() constructor. Set the parameter cv=8. Do you have the same optimal maximum depth as you got in the question above?  "
   ]
  },
  {
   "cell_type": "code",
   "execution_count": 19,
   "id": "103e5cfb",
   "metadata": {},
   "outputs": [
    {
     "name": "stdout",
     "output_type": "stream",
     "text": [
      "Best parameters found by the gridsearch: {'max_depth': 7, 'max_features': 0.8}\n"
     ]
    }
   ],
   "source": [
    "# Set the parameters to be explored by the gridsearch\n",
    "param_grid = {\"max_depth\": range(1, dt_clf.tree_.max_depth),\n",
    "              \"max_features\": [0.2, 0.4, 0.6, 0.8]}\n",
    "# Use the grid search with the designated parameters\n",
    "grid_clf = GridSearchCV(dt_clf, param_grid, cv=8)\n",
    "# Fit the grid search to the training set\n",
    "grid_clf.fit(X_train, y_train)\n",
    "# Find the best parameters found by the gridsearch\n",
    "print(\"Best parameters found by the gridsearch:\", grid_clf.best_params_)"
   ]
  },
  {
   "cell_type": "markdown",
   "id": "6ee1b214",
   "metadata": {},
   "source": [
    "d)\tYou will tune the maximum depth hyperparameter again using cross validation but this time, you will use the cross_val_score() function inside the sklearn.model_selection module. You will use this cross_val_score() function in combination with a for loop to find the optimal maximum depth of the tree. Track the error rate for each depth and plot the error rates versus the corresponding maximum depths of the tree. Also use the np.argmin() on the error rates to retrieve the optimal maximum depth , corresponding to the lowest error rate. Does the retrieved optimal maximum depth look like what you see on your plot? "
   ]
  },
  {
   "cell_type": "code",
   "execution_count": 20,
   "id": "d4df4bb7",
   "metadata": {},
   "outputs": [
    {
     "data": {
      "text/plain": [
       "Text(0.5, 1.0, 'Cross Validated Error Rate vs Max Tree Depth')"
      ]
     },
     "execution_count": 20,
     "metadata": {},
     "output_type": "execute_result"
    },
    {
     "data": {
      "image/png": "[encoded data removed]",
      "text/plain": [
       "<Figure size 720x504 with 1 Axes>"
      ]
     },
     "metadata": {
      "needs_background": "light"
     },
     "output_type": "display_data"
    }
   ],
   "source": [
    "# We will use the same list of depths as before\n",
    "depths = np.arange(1, 30)\n",
    "errors = np.zeros(len(depths))\n",
    "# Iterate over the list of depths to find the one the produces the model with the minimum error rate\n",
    "for index, depth in enumerate(depths):\n",
    "    # Create a decision tree with the specified depth, and fit it to the training set\n",
    "    dt = DecisionTreeClassifier(max_depth=depth).fit(X_train, y_train)\n",
    "    # Record the accuracies of the decision tree for each fold\n",
    "    scores = cross_val_score(estimator=dt, X=X_train, y=y_train, scoring=\"accuracy\", cv=8)\n",
    "    # Calculate the average error rate of the tree\n",
    "    errors[index] = 1 - np.mean(scores)\n",
    "# Plot the error rate vs tree depth\n",
    "fig, ax = plt.subplots(1, 1, figsize=(10, 7))\n",
    "sns.lineplot(x=depths, y=errors, ax=ax)\n",
    "ax.set_xlabel(\"Max Tree Depth\")\n",
    "ax.set_ylabel(\"Error Rate\")\n",
    "ax.set_title(\"Cross Validated Error Rate vs Max Tree Depth\")"
   ]
  },
  {
   "cell_type": "code",
   "execution_count": 21,
   "id": "034e052f",
   "metadata": {},
   "outputs": [
    {
     "name": "stdout",
     "output_type": "stream",
     "text": [
      "The Max Depth that resulted in the lowest accuracy: 6\n"
     ]
    }
   ],
   "source": [
    "print(\"The Max Depth that resulted in the lowest accuracy:\", depths[np.argmin(errors)])"
   ]
  },
  {
   "cell_type": "markdown",
   "id": "8ee1e95e",
   "metadata": {},
   "source": [
    "e)\tYou will use another approach to plot the error rates versus the maximum depth of the tree. Here, you would use the validation_curve() function inside the sklearn.model_selection module. This function implements cross validation and returns the training accuracy scores and test (validation) accuracy scores for each iteration in the k-fold cross validation, for each of the hyperparameter values. You will need to aggregate the scores using np.mean(axis=1) to get the average of the accuracy scores for all iterations, for each hyperparameter value. Use these average accuracy scores to obtain corresponding error rates for the training and test (validation) sets. Then plot the error rates on the training set versus the maximum depth values. Also plot on the same figure, the error rates of the test (or validation) set versus the maximum depth values. What is the optimal maximum depth?"
   ]
  },
  {
   "cell_type": "code",
   "execution_count": 22,
   "id": "3b95fd30",
   "metadata": {},
   "outputs": [],
   "source": [
    "# Use the validation curve function to calcualte accuracies for each max_depth\n",
    "scores = validation_curve(dt_clf, X_train, y_train, param_name=\"max_depth\", param_range=np.arange(1, 30))\n",
    "# Calculate the average training error for each max depth\n",
    "train_errors = 1 - np.mean(scores[0], axis=1)\n",
    "# Calculate the average test error for each max depth\n",
    "test_errors = 1 - np.mean(scores[1], axis=1)"
   ]
  },
  {
   "cell_type": "code",
   "execution_count": 23,
   "id": "6bfbec43",
   "metadata": {},
   "outputs": [
    {
     "data": {
      "text/plain": [
       "Text(0.5, 1.0, 'Decision Tree Error Rates vs Max Depth on Training Set')"
      ]
     },
     "execution_count": 23,
     "metadata": {},
     "output_type": "execute_result"
    },
    {
     "data": {
      "image/png": "[encoded data removed]",
      "text/plain": [
       "<Figure size 576x432 with 1 Axes>"
      ]
     },
     "metadata": {
      "needs_background": "light"
     },
     "output_type": "display_data"
    }
   ],
   "source": [
    "# Plot error rates for the training set\n",
    "fig, ax = plt.subplots(1, 1, figsize=(8, 6))\n",
    "sns.lineplot(x=depths, y=train_errors, ax=ax)\n",
    "ax.set_xlabel(\"Max Tree Depth\")\n",
    "ax.set_ylabel(\"Average Error Rate\")\n",
    "ax.set_title(\"Decision Tree Error Rates vs Max Depth on Training Set\")"
   ]
  },
  {
   "cell_type": "code",
   "execution_count": 24,
   "id": "4aab992b",
   "metadata": {},
   "outputs": [
    {
     "data": {
      "text/plain": [
       "Text(0.5, 1.0, 'Decision Tree Error Rates vs Max Depth on Test Set')"
      ]
     },
     "execution_count": 24,
     "metadata": {},
     "output_type": "execute_result"
    },
    {
     "data": {
      "image/png": "[encoded data removed]",
      "text/plain": [
       "<Figure size 576x432 with 1 Axes>"
      ]
     },
     "metadata": {
      "needs_background": "light"
     },
     "output_type": "display_data"
    }
   ],
   "source": [
    "# Plot the error rates for the test set\n",
    "fig, ax = plt.subplots(1, 1, figsize=(8, 6))\n",
    "sns.lineplot(x=depths, y=test_errors, ax=ax)\n",
    "ax.set_xlabel(\"Max Tree Depth\")\n",
    "ax.set_ylabel(\"Average Error Rate\")\n",
    "ax.set_title(\"Decision Tree Error Rates vs Max Depth on Test Set\")"
   ]
  },
  {
   "cell_type": "markdown",
   "id": "709e8741",
   "metadata": {},
   "source": [
    "# Question 4\n",
    "\n",
    "Find your own dataset suitable for classification with at least three input variables and 200 cases: You will build a decision tree classifier and a random forest classifier. Find some interesting dataset instead of the popular iris data, etc. \n",
    "\n",
    "Address the following and include code/output snippets from b) to f). Include the response under each sub question. \n",
    "1.\tState your research question, for example: Are decision trees and random forest good models for predicting whether someone will default on a loan or not based on their age and income level? This is just an example, your dataset does not have to be (or should not be) about loans. \n",
    "2.\tData pre-processing (to the extent deemed necessary)\n",
    "3.\tData splitting \n",
    "4.\tModel construction (a decision tree and a random forest)\n",
    "5.\tHyperparameter turning (for each model, tune the hyperparameter that is important to you and use any of the methods for hyperparameter tuning learned in class such as cross validation with for loop, gridsearch cross validation, etc. You could tune more than a single parameter for each model if you want). \n",
    "6.\tUse the best or optimal parameter values to build a model, then compute the accuracy score for the decision tree and for the random forest). \n",
    "7.\tDiscuss about overfitting for both models and, also discuss which model is better for classification for your dataset and why? \n"
   ]
  },
  {
   "cell_type": "code",
   "execution_count": 59,
   "id": "b1de468f",
   "metadata": {},
   "outputs": [
    {
     "data": {
      "text/html": [
       "<div>\n",
       "<style scoped>\n",
       "    .dataframe tbody tr th:only-of-type {\n",
       "        vertical-align: middle;\n",
       "    }\n",
       "\n",
       "    .dataframe tbody tr th {\n",
       "        vertical-align: top;\n",
       "    }\n",
       "\n",
       "    .dataframe thead th {\n",
       "        text-align: right;\n",
       "    }\n",
       "</style>\n",
       "<table border=\"1\" class=\"dataframe\">\n",
       "  <thead>\n",
       "    <tr style=\"text-align: right;\">\n",
       "      <th></th>\n",
       "      <th>smoker</th>\n",
       "      <th>ban</th>\n",
       "      <th>age</th>\n",
       "      <th>education</th>\n",
       "      <th>afam</th>\n",
       "      <th>hispanic</th>\n",
       "      <th>gender</th>\n",
       "    </tr>\n",
       "  </thead>\n",
       "  <tbody>\n",
       "    <tr>\n",
       "      <td>0</td>\n",
       "      <td>yes</td>\n",
       "      <td>yes</td>\n",
       "      <td>41</td>\n",
       "      <td>hs</td>\n",
       "      <td>no</td>\n",
       "      <td>no</td>\n",
       "      <td>female</td>\n",
       "    </tr>\n",
       "    <tr>\n",
       "      <td>1</td>\n",
       "      <td>yes</td>\n",
       "      <td>yes</td>\n",
       "      <td>44</td>\n",
       "      <td>some college</td>\n",
       "      <td>no</td>\n",
       "      <td>no</td>\n",
       "      <td>female</td>\n",
       "    </tr>\n",
       "    <tr>\n",
       "      <td>2</td>\n",
       "      <td>no</td>\n",
       "      <td>no</td>\n",
       "      <td>19</td>\n",
       "      <td>some college</td>\n",
       "      <td>no</td>\n",
       "      <td>no</td>\n",
       "      <td>female</td>\n",
       "    </tr>\n",
       "    <tr>\n",
       "      <td>3</td>\n",
       "      <td>yes</td>\n",
       "      <td>no</td>\n",
       "      <td>29</td>\n",
       "      <td>hs</td>\n",
       "      <td>no</td>\n",
       "      <td>no</td>\n",
       "      <td>female</td>\n",
       "    </tr>\n",
       "    <tr>\n",
       "      <td>4</td>\n",
       "      <td>no</td>\n",
       "      <td>yes</td>\n",
       "      <td>28</td>\n",
       "      <td>some college</td>\n",
       "      <td>no</td>\n",
       "      <td>no</td>\n",
       "      <td>female</td>\n",
       "    </tr>\n",
       "  </tbody>\n",
       "</table>\n",
       "</div>"
      ],
      "text/plain": [
       "  smoker  ban  age     education afam hispanic  gender\n",
       "0    yes  yes   41            hs   no       no  female\n",
       "1    yes  yes   44  some college   no       no  female\n",
       "2     no   no   19  some college   no       no  female\n",
       "3    yes   no   29            hs   no       no  female\n",
       "4     no  yes   28  some college   no       no  female"
      ]
     },
     "execution_count": 59,
     "metadata": {},
     "output_type": "execute_result"
    }
   ],
   "source": [
    "# Load in the smoking data\n",
    "df_smoking = pd.read_csv(\"SmokeBan.csv\")\n",
    "# Drop the extra index column\n",
    "df_smoking.drop(\"Unnamed: 0\", axis=1, inplace=True)\n",
    "df_smoking.head()"
   ]
  },
  {
   "cell_type": "code",
   "execution_count": 60,
   "id": "d2b0c34b",
   "metadata": {},
   "outputs": [
    {
     "data": {
      "text/plain": [
       "smoker       0\n",
       "ban          0\n",
       "age          0\n",
       "education    0\n",
       "afam         0\n",
       "hispanic     0\n",
       "gender       0\n",
       "dtype: int64"
      ]
     },
     "execution_count": 60,
     "metadata": {},
     "output_type": "execute_result"
    }
   ],
   "source": [
    "# Check for missing values\n",
    "np.sum(df_smoking.isna(), axis=0)"
   ]
  },
  {
   "cell_type": "code",
   "execution_count": 80,
   "id": "098333d1",
   "metadata": {},
   "outputs": [
    {
     "data": {
      "text/html": [
       "<div>\n",
       "<style scoped>\n",
       "    .dataframe tbody tr th:only-of-type {\n",
       "        vertical-align: middle;\n",
       "    }\n",
       "\n",
       "    .dataframe tbody tr th {\n",
       "        vertical-align: top;\n",
       "    }\n",
       "\n",
       "    .dataframe thead th {\n",
       "        text-align: right;\n",
       "    }\n",
       "</style>\n",
       "<table border=\"1\" class=\"dataframe\">\n",
       "  <thead>\n",
       "    <tr style=\"text-align: right;\">\n",
       "      <th></th>\n",
       "      <th>smoker_yes</th>\n",
       "      <th>ban_yes</th>\n",
       "      <th>education_hs</th>\n",
       "      <th>education_hs drop out</th>\n",
       "      <th>education_master</th>\n",
       "      <th>education_some college</th>\n",
       "      <th>afam_yes</th>\n",
       "      <th>hispanic_yes</th>\n",
       "      <th>gender_male</th>\n",
       "      <th>age</th>\n",
       "    </tr>\n",
       "  </thead>\n",
       "  <tbody>\n",
       "    <tr>\n",
       "      <td>0</td>\n",
       "      <td>1</td>\n",
       "      <td>1</td>\n",
       "      <td>1</td>\n",
       "      <td>0</td>\n",
       "      <td>0</td>\n",
       "      <td>0</td>\n",
       "      <td>0</td>\n",
       "      <td>0</td>\n",
       "      <td>0</td>\n",
       "      <td>0.328571</td>\n",
       "    </tr>\n",
       "    <tr>\n",
       "      <td>1</td>\n",
       "      <td>1</td>\n",
       "      <td>1</td>\n",
       "      <td>0</td>\n",
       "      <td>0</td>\n",
       "      <td>0</td>\n",
       "      <td>1</td>\n",
       "      <td>0</td>\n",
       "      <td>0</td>\n",
       "      <td>0</td>\n",
       "      <td>0.371429</td>\n",
       "    </tr>\n",
       "    <tr>\n",
       "      <td>2</td>\n",
       "      <td>0</td>\n",
       "      <td>0</td>\n",
       "      <td>0</td>\n",
       "      <td>0</td>\n",
       "      <td>0</td>\n",
       "      <td>1</td>\n",
       "      <td>0</td>\n",
       "      <td>0</td>\n",
       "      <td>0</td>\n",
       "      <td>0.014286</td>\n",
       "    </tr>\n",
       "    <tr>\n",
       "      <td>3</td>\n",
       "      <td>1</td>\n",
       "      <td>0</td>\n",
       "      <td>1</td>\n",
       "      <td>0</td>\n",
       "      <td>0</td>\n",
       "      <td>0</td>\n",
       "      <td>0</td>\n",
       "      <td>0</td>\n",
       "      <td>0</td>\n",
       "      <td>0.157143</td>\n",
       "    </tr>\n",
       "    <tr>\n",
       "      <td>4</td>\n",
       "      <td>0</td>\n",
       "      <td>1</td>\n",
       "      <td>0</td>\n",
       "      <td>0</td>\n",
       "      <td>0</td>\n",
       "      <td>1</td>\n",
       "      <td>0</td>\n",
       "      <td>0</td>\n",
       "      <td>0</td>\n",
       "      <td>0.142857</td>\n",
       "    </tr>\n",
       "  </tbody>\n",
       "</table>\n",
       "</div>"
      ],
      "text/plain": [
       "   smoker_yes  ban_yes  education_hs  education_hs drop out  education_master  \\\n",
       "0           1        1             1                      0                 0   \n",
       "1           1        1             0                      0                 0   \n",
       "2           0        0             0                      0                 0   \n",
       "3           1        0             1                      0                 0   \n",
       "4           0        1             0                      0                 0   \n",
       "\n",
       "   education_some college  afam_yes  hispanic_yes  gender_male       age  \n",
       "0                       0         0             0            0  0.328571  \n",
       "1                       1         0             0            0  0.371429  \n",
       "2                       1         0             0            0  0.014286  \n",
       "3                       0         0             0            0  0.157143  \n",
       "4                       1         0             0            0  0.142857  "
      ]
     },
     "execution_count": 80,
     "metadata": {},
     "output_type": "execute_result"
    }
   ],
   "source": [
    "# Convert categorical variables to Dummy variables\n",
    "df_clean = pd.get_dummies(df_smoking[[\"smoker\", \"ban\", \"education\", \"afam\", \"hispanic\", \"gender\"]], drop_first=True)\n",
    "# Add a scaled version of Age to the data\n",
    "scaler = MinMaxScaler()\n",
    "df_clean[\"age\"] = scaler.fit_transform(df_smoking[\"age\"].to_numpy().reshape(-1, 1))\n",
    "df_clean.head()"
   ]
  },
  {
   "cell_type": "markdown",
   "id": "82054a96",
   "metadata": {},
   "source": [
    "No missing values, and all columns are appropriate datatypes. Decision Trees and Random Forests can work with this data, so it is good enough."
   ]
  },
  {
   "cell_type": "code",
   "execution_count": 85,
   "id": "eec50922",
   "metadata": {},
   "outputs": [
    {
     "name": "stdout",
     "output_type": "stream",
     "text": [
      "(7000, 9)\n",
      "(3000, 9)\n",
      "(7000,)\n",
      "(3000,)\n"
     ]
    }
   ],
   "source": [
    "# Split into training and test sets\n",
    "X_smoke = df_clean.drop(\"smoker_yes\", axis=1)\n",
    "y_smoke = df_clean[\"smoker_yes\"]\n",
    "X_train_smoke, X_test_smoke, y_train_smoke, y_test_smoke = \\\n",
    "    train_test_split(X_smoke, y_smoke, test_size=0.3, random_state=42)\n",
    "# Print the sizes of each set\n",
    "print(X_train_smoke.shape)\n",
    "print(X_test_smoke.shape)\n",
    "print(y_train_smoke.shape)\n",
    "print(y_test_smoke.shape)"
   ]
  },
  {
   "cell_type": "code",
   "execution_count": 86,
   "id": "5bfe18d1",
   "metadata": {},
   "outputs": [],
   "source": [
    "# Create and fit a decision tree classifier\n",
    "dt_clf_smoke = DecisionTreeClassifier().fit(X_train_smoke, y_train_smoke)\n",
    "# Create and fit a random forest classifier\n",
    "rf_clf_smoke = RandomForestClassifier().fit(X_train_smoke, y_train_smoke)"
   ]
  },
  {
   "cell_type": "code",
   "execution_count": 87,
   "id": "7c10472c",
   "metadata": {},
   "outputs": [
    {
     "name": "stdout",
     "output_type": "stream",
     "text": [
      "Best parameters found by the gridsearch: {'max_depth': 4, 'max_features': 0.8}\n"
     ]
    }
   ],
   "source": [
    "# Hyperparameter Tuning for the Decision Tree, using GridSearch\n",
    "# Set the parameters to be explored by the gridsearch\n",
    "param_grid = {\"max_depth\": range(1, dt_clf_smoke.tree_.max_depth),\n",
    "              \"max_features\": [0.2, 0.4, 0.6, 0.8]}\n",
    "# Use the grid search with the designated parameters\n",
    "grid_clf_smoke = GridSearchCV(dt_clf_smoke, param_grid, cv=8)\n",
    "# Fit the grid search to the training set\n",
    "grid_clf_smoke.fit(X_train_smoke, y_train_smoke)\n",
    "# Find the best parameters found by the gridsearch\n",
    "print(\"Best parameters found by the gridsearch:\", grid_clf_smoke.best_params_)"
   ]
  },
  {
   "cell_type": "code",
   "execution_count": 100,
   "id": "14dc1bc1",
   "metadata": {},
   "outputs": [
    {
     "name": "stdout",
     "output_type": "stream",
     "text": [
      "Best parameters found by the gridsearch: {'bootstrap': True, 'max_depth': 6}\n"
     ]
    }
   ],
   "source": [
    "# Hyperparameter Tuning for the Random Forest, using GridSearch\n",
    "# Find the maximum tree depth of the decision trees within the random forest\n",
    "max_depth = max([estimator.tree_.max_depth for estimator in rf_clf_smoke.estimators_])\n",
    "# Set the parameters to be explored by the gridsearch\n",
    "rf_param_grid = {\"max_depth\": range(1, max_depth),\n",
    "                 \"bootstrap\": [True, False]}\n",
    "# Use the grid search with the designated parameters\n",
    "grid_rf_smoke = GridSearchCV(rf_clf_smoke, rf_param_grid, cv=8)\n",
    "# Fit the grid search to the training set\n",
    "grid_rf_smoke.fit(X_train_smoke, y_train_smoke)\n",
    "# Find the best parameters found by the gridsearch\n",
    "print(\"Best parameters found by the gridsearch:\", grid_rf_smoke.best_params_)"
   ]
  },
  {
   "cell_type": "code",
   "execution_count": 102,
   "id": "d6185767",
   "metadata": {},
   "outputs": [
    {
     "name": "stdout",
     "output_type": "stream",
     "text": [
      "Decision Tree Accuracy on the training set: 0.7612857142857142\n",
      "Random Forest Accuracy on the training set: 0.7618571428571429\n",
      "Decision Tree Accuracy on the test set: 0.759\n",
      "Random Forest Accuracy on the test set: 0.7603333333333333\n"
     ]
    }
   ],
   "source": [
    "# Create a decision tree and random forest using the best parameters\n",
    "best_dt_clf = DecisionTreeClassifier(max_depth=4, max_features=0.8)\n",
    "best_dt_clf.fit(X_train_smoke, y_train_smoke)\n",
    "\n",
    "best_rf_clf = RandomForestClassifier(max_depth=6, bootstrap=True)\n",
    "best_rf_clf.fit(X_train_smoke, y_train_smoke)\n",
    "\n",
    "# Predict on the training set with both models\n",
    "dt_preds_train = best_dt_clf.predict(X_train_smoke)\n",
    "rf_preds_train = best_rf_clf.predict(X_train_smoke)\n",
    "\n",
    "# Compute the accuracy of both models on the training set\n",
    "print(\"Decision Tree Accuracy on the training set:\", accuracy_score(dt_preds_train, y_train_smoke))\n",
    "print(\"Random Forest Accuracy on the training set:\", accuracy_score(rf_preds_train, y_train_smoke))\n",
    "\n",
    "# Predict on the test set with both models\n",
    "dt_preds_test = best_dt_clf.predict(X_test_smoke)\n",
    "rf_preds_test = best_rf_clf.predict(X_test_smoke)\n",
    "\n",
    "# Compute the accuracy of both classifiers on the test set\n",
    "print(\"Decision Tree Accuracy on the test set:\", accuracy_score(dt_preds_test, y_test_smoke))\n",
    "print(\"Random Forest Accuracy on the test set:\", accuracy_score(rf_preds_test, y_test_smoke))"
   ]
  }
 ],
 "metadata": {
  "kernelspec": {
   "display_name": "Python 3",
   "language": "python",
   "name": "python3"
  },
  "language_info": {
   "codemirror_mode": {
    "name": "ipython",
    "version": 3
   },
   "file_extension": ".py",
   "mimetype": "text/x-python",
   "name": "python",
   "nbconvert_exporter": "python",
   "pygments_lexer": "ipython3",
   "version": "3.6.9"
  }
 },
 "nbformat": 4,
 "nbformat_minor": 5
}
