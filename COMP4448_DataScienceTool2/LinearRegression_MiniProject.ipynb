{
 "cells": [
  {
   "cell_type": "markdown",
   "id": "7f74c019",
   "metadata": {},
   "source": [
    "# Mini Project: Linear Regression\n",
    "\n",
    "Written by Adam Ten Hoeve  \n",
    "COMP 4448 - Data Science Tools 2  \n",
    "Summer 2021"
   ]
  },
  {
   "cell_type": "code",
   "execution_count": 7,
   "id": "6e2d37d1",
   "metadata": {},
   "outputs": [],
   "source": [
    "# Load Required Libraries\n",
    "import numpy as np\n",
    "import pandas as pd\n",
    "\n",
    "from sklearn.preprocessing import StandardScaler\n",
    "from sklearn.model_selection import train_test_split, GridSearchCV\n",
    "from sklearn.linear_model import LinearRegression, Lasso, Ridge"
   ]
  },
  {
   "cell_type": "markdown",
   "id": "c6eb63f4",
   "metadata": {},
   "source": [
    "Find your own dataset from an online source with at least 3 input variables. Here is a suggested source of data but you don’t have to use it: https://vincentarelbundock.github.io/Rdatasets/articles/data.html.  There should be one output variable of interest in the data. All the data used for analysis should be continuous. \n",
    "\n",
    "Load the data and clean it as you find necessary, standardize the data and split it into training and test data using an appropriate split ratio. "
   ]
  },
  {
   "cell_type": "code",
   "execution_count": 2,
   "id": "10b02636",
   "metadata": {},
   "outputs": [
    {
     "data": {
      "text/html": [
       "<div>\n",
       "<style scoped>\n",
       "    .dataframe tbody tr th:only-of-type {\n",
       "        vertical-align: middle;\n",
       "    }\n",
       "\n",
       "    .dataframe tbody tr th {\n",
       "        vertical-align: top;\n",
       "    }\n",
       "\n",
       "    .dataframe thead th {\n",
       "        text-align: right;\n",
       "    }\n",
       "</style>\n",
       "<table border=\"1\" class=\"dataframe\">\n",
       "  <thead>\n",
       "    <tr style=\"text-align: right;\">\n",
       "      <th></th>\n",
       "      <th>year</th>\n",
       "      <th>delay</th>\n",
       "      <th>dud</th>\n",
       "      <th>time</th>\n",
       "      <th>y</th>\n",
       "      <th>quarter_2</th>\n",
       "      <th>quarter_3</th>\n",
       "      <th>quarter_4</th>\n",
       "    </tr>\n",
       "  </thead>\n",
       "  <tbody>\n",
       "    <tr>\n",
       "      <td>0</td>\n",
       "      <td>-1.722508</td>\n",
       "      <td>-1.560948</td>\n",
       "      <td>0</td>\n",
       "      <td>-1.687055</td>\n",
       "      <td>2</td>\n",
       "      <td>0</td>\n",
       "      <td>1</td>\n",
       "      <td>0</td>\n",
       "    </tr>\n",
       "    <tr>\n",
       "      <td>1</td>\n",
       "      <td>-1.722508</td>\n",
       "      <td>-1.405372</td>\n",
       "      <td>0</td>\n",
       "      <td>-1.687055</td>\n",
       "      <td>6</td>\n",
       "      <td>0</td>\n",
       "      <td>1</td>\n",
       "      <td>0</td>\n",
       "    </tr>\n",
       "    <tr>\n",
       "      <td>2</td>\n",
       "      <td>-1.722508</td>\n",
       "      <td>-1.172007</td>\n",
       "      <td>0</td>\n",
       "      <td>-1.687055</td>\n",
       "      <td>0</td>\n",
       "      <td>0</td>\n",
       "      <td>1</td>\n",
       "      <td>0</td>\n",
       "    </tr>\n",
       "    <tr>\n",
       "      <td>3</td>\n",
       "      <td>-1.722508</td>\n",
       "      <td>-0.938643</td>\n",
       "      <td>0</td>\n",
       "      <td>-1.687055</td>\n",
       "      <td>1</td>\n",
       "      <td>0</td>\n",
       "      <td>1</td>\n",
       "      <td>0</td>\n",
       "    </tr>\n",
       "    <tr>\n",
       "      <td>4</td>\n",
       "      <td>-1.722508</td>\n",
       "      <td>-0.705279</td>\n",
       "      <td>0</td>\n",
       "      <td>-1.687055</td>\n",
       "      <td>1</td>\n",
       "      <td>0</td>\n",
       "      <td>1</td>\n",
       "      <td>0</td>\n",
       "    </tr>\n",
       "  </tbody>\n",
       "</table>\n",
       "</div>"
      ],
      "text/plain": [
       "       year     delay  dud      time  y  quarter_2  quarter_3  quarter_4\n",
       "0 -1.722508 -1.560948    0 -1.687055  2          0          1          0\n",
       "1 -1.722508 -1.405372    0 -1.687055  6          0          1          0\n",
       "2 -1.722508 -1.172007    0 -1.687055  0          0          1          0\n",
       "3 -1.722508 -0.938643    0 -1.687055  1          0          1          0\n",
       "4 -1.722508 -0.705279    0 -1.687055  1          0          1          0"
      ]
     },
     "execution_count": 2,
     "metadata": {},
     "output_type": "execute_result"
    }
   ],
   "source": [
    "# Load in the data\n",
    "df = pd.read_csv(\"aids.csv\", header=0)\n",
    "# Clean the columns\n",
    "# Remove the extra index column\n",
    "df.drop(\"Unnamed: 0\", axis=1, inplace=True)\n",
    "# Drop missing values\n",
    "df.dropna(inplace=True)\n",
    "# Convert column types as necesary\n",
    "df = pd.get_dummies(df, columns=[\"quarter\"], drop_first=True)\n",
    "# Standardize the data\n",
    "scaler = StandardScaler()\n",
    "df[[\"delay\", \"time\", \"year\"]] = scaler.fit_transform(df[[\"delay\", \"time\", \"year\"]])\n",
    "df.head()"
   ]
  },
  {
   "cell_type": "code",
   "execution_count": 3,
   "id": "ea891c6b",
   "metadata": {},
   "outputs": [
    {
     "name": "stdout",
     "output_type": "stream",
     "text": [
      "(399, 7)\n",
      "(399,)\n",
      "(171, 7)\n",
      "(171,)\n"
     ]
    }
   ],
   "source": [
    "# Split into features and response\n",
    "X = df.drop(\"y\", axis=1)\n",
    "y = df[\"y\"]\n",
    "# Split into training and test sets\n",
    "X_train, X_test, y_train, y_test = train_test_split(X, y, test_size=0.3, random_state=1)\n",
    "print(X_train.shape)\n",
    "print(y_train.shape)\n",
    "print(X_test.shape)\n",
    "print(y_test.shape)"
   ]
  },
  {
   "cell_type": "markdown",
   "id": "45437c83",
   "metadata": {},
   "source": [
    "Construct a linear regression model using ordinary least squares method by applying the .LinearRegression() constructor in sklearn and find the training and test accuracy of this model using mean square error (mse)."
   ]
  },
  {
   "cell_type": "code",
   "execution_count": 4,
   "id": "25a45334",
   "metadata": {},
   "outputs": [
    {
     "name": "stdout",
     "output_type": "stream",
     "text": [
      "MSE on the training set: 387.6500819236873\n",
      "MSE on the test set: 419.70556601556973\n"
     ]
    }
   ],
   "source": [
    "# Create the linear regression model and fit to the training set\n",
    "lr = LinearRegression().fit(X_train, y_train)\n",
    "\n",
    "# Predict on the training set\n",
    "train_preds = lr.predict(X_train)\n",
    "# Determine the MSE on the training set\n",
    "n_train = len(X_train)\n",
    "train_mse = np.sum((y_train - train_preds)**2) / n_train\n",
    "print(\"MSE on the training set:\", train_mse)\n",
    "\n",
    "# Predict on the test set\n",
    "test_preds = lr.predict(X_test)\n",
    "# Determine the MSE on the test set\n",
    "n_test = len(X_test)\n",
    "test_mse = np.sum((y_test - test_preds)**2) / n_test\n",
    "print(\"MSE on the test set:\", test_mse)"
   ]
  },
  {
   "cell_type": "markdown",
   "id": "50d906b4",
   "metadata": {},
   "source": [
    "Fit a lasso regression on the data and check the training and test accuracy of the model using mse. Use the default alpha or penalty constant."
   ]
  },
  {
   "cell_type": "code",
   "execution_count": 8,
   "id": "31d4d054",
   "metadata": {},
   "outputs": [
    {
     "name": "stdout",
     "output_type": "stream",
     "text": [
      "Lasso Regression MSE on the training set: 405.74373178664933\n",
      "Lasso Regression MSE on the test set: 452.1139479370937\n"
     ]
    }
   ],
   "source": [
    "# Create a Lasso regression model\n",
    "lasso = Lasso().fit(X_train, y_train)\n",
    "\n",
    "# Determine the MSE of the training set\n",
    "train_preds_lasso = lasso.predict(X_train)\n",
    "train_mse_lasso = np.sum((y_train - train_preds_lasso)**2) / n_train\n",
    "print(\"Lasso Regression MSE on the training set:\", train_mse_lasso)\n",
    "\n",
    "# Determine the MSE of the test set\n",
    "test_preds_lasso = lasso.predict(X_test)\n",
    "test_mse_lasso = np.sum((y_test - test_preds_lasso)**2) / n_test\n",
    "print(\"Lasso Regression MSE on the test set:\", test_mse_lasso)"
   ]
  },
  {
   "cell_type": "markdown",
   "id": "bee68e95",
   "metadata": {},
   "source": [
    "Fit a ridge regression on the data and check the training and test accuracy of the model. Use the default alpha or penalty constant"
   ]
  },
  {
   "cell_type": "code",
   "execution_count": 9,
   "id": "350d6d34",
   "metadata": {},
   "outputs": [
    {
     "name": "stdout",
     "output_type": "stream",
     "text": [
      "Ridge Regression MSE on the training set: 387.68546727681166\n",
      "Ridge Regression MSE on the test set: 420.2845439010731\n"
     ]
    }
   ],
   "source": [
    "# Create a Ridge regression model\n",
    "ridge = Ridge().fit(X_train, y_train)\n",
    "\n",
    "# Determine the MSE of the training set\n",
    "train_preds_ridge = ridge.predict(X_train)\n",
    "train_mse_ridge = np.sum((y_train - train_preds_ridge)**2) / n_train\n",
    "print(\"Ridge Regression MSE on the training set:\", train_mse_ridge)\n",
    "\n",
    "# Determine the MSE of the test set\n",
    "test_preds_ridge = ridge.predict(X_test)\n",
    "test_mse_ridge = np.sum((y_test - test_preds_ridge)**2) / n_test\n",
    "print(\"Ridge Regression MSE on the test set:\", test_mse_ridge)"
   ]
  },
  {
   "cell_type": "markdown",
   "id": "a6fc0ce5",
   "metadata": {},
   "source": [
    "Tune the alpha hyperparameters of the lasso and ridge regression using any tuning technique of your choice. What is the best alpha value for the lasso regression and what is the best alpha value for the ridge regression?"
   ]
  },
  {
   "cell_type": "code",
   "execution_count": 10,
   "id": "b98ebbb8",
   "metadata": {},
   "outputs": [
    {
     "name": "stdout",
     "output_type": "stream",
     "text": [
      "Best alpha for the lasso regression: {'alpha': 0.25}\n",
      "Best alpha for ridge regression: {'alpha': 0.9500000000000001}\n"
     ]
    }
   ],
   "source": [
    "# Define a sequence of alpha values for the lasso and ridge regressions\n",
    "param_grid = {\"alpha\": np.arange(0.05, 1, 0.05)}\n",
    "\n",
    "# Use GridSearch to find the optimal alpha for Lasso Regression\n",
    "grid_lasso = GridSearchCV(Lasso(), param_grid, scoring='neg_mean_squared_error')\n",
    "grid_lasso.fit(X_train, y_train)\n",
    "print(\"Best alpha for the lasso regression:\", grid_lasso.best_params_)\n",
    "\n",
    "# Use GridSearch to find the optimal alpha for Ridge Regression\n",
    "grid_ridge = GridSearchCV(Ridge(), param_grid, scoring='neg_mean_squared_error')\n",
    "grid_ridge.fit(X_train, y_train)\n",
    "print(\"Best alpha for ridge regression:\", grid_ridge.best_params_)"
   ]
  }
 ],
 "metadata": {
  "kernelspec": {
   "display_name": "Python 3",
   "language": "python",
   "name": "python3"
  },
  "language_info": {
   "codemirror_mode": {
    "name": "ipython",
    "version": 3
   },
   "file_extension": ".py",
   "mimetype": "text/x-python",
   "name": "python",
   "nbconvert_exporter": "python",
   "pygments_lexer": "ipython3",
   "version": "3.6.9"
  }
 },
 "nbformat": 4,
 "nbformat_minor": 5
}
