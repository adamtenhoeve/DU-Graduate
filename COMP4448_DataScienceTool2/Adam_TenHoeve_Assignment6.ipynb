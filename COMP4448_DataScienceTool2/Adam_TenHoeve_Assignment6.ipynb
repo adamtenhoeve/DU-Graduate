{
 "cells": [
  {
   "cell_type": "markdown",
   "id": "5060121f",
   "metadata": {},
   "source": [
    "Adam Ten Hoeve  \n",
    "COMP 4448 - Data Science Tools 2  \n",
    "Assignment 6"
   ]
  },
  {
   "cell_type": "code",
   "execution_count": 44,
   "id": "a72b25ee",
   "metadata": {},
   "outputs": [],
   "source": [
    "# Load necesary libraries\n",
    "import numpy as np\n",
    "import pandas as pd\n",
    "\n",
    "from sklearn.preprocessing import StandardScaler\n",
    "from sklearn.linear_model import SGDRegressor, LinearRegression, Lasso, Ridge\n",
    "from sklearn.model_selection import train_test_split, GridSearchCV\n",
    "\n",
    "import statsmodels.api as sm\n",
    "\n",
    "import matplotlib.pyplot as plt\n",
    "import seaborn as sns\n",
    "%matplotlib inline"
   ]
  },
  {
   "cell_type": "markdown",
   "id": "cea1a156",
   "metadata": {},
   "source": [
    "# Question 1\n",
    "\n",
    "Use the entire health data provided on canvas for this question. Here are the first few rows of the data. \n",
    " \n",
    "The variables are described as follows:\n",
    "age  =  Age in years divided by 100.\n",
    "income = Annual income in tens of thousands of dollars.\n",
    "illness = Number of illnesses in past 2 weeks.\n",
    "reduced = Number of days of reduced activity in past 2 weeks due to illness or injury.\n",
    "health = General health questionnaire score using Goldberg's method. Note that higher health scores indicate worse health condition. \n",
    "Use the age, income, illness and reduced variables as input variables and use the health variable as an output variable. You will find the parameters or coefficients (intercept and slopes) of a regression equation that models the relationship between the input and output variables. First use the StandardScaler() in sklearn to standardize the input data before you run your algorithm or fit your model. "
   ]
  },
  {
   "cell_type": "code",
   "execution_count": 9,
   "id": "b596fa01",
   "metadata": {},
   "outputs": [
    {
     "data": {
      "text/html": [
       "<div>\n",
       "<style scoped>\n",
       "    .dataframe tbody tr th:only-of-type {\n",
       "        vertical-align: middle;\n",
       "    }\n",
       "\n",
       "    .dataframe tbody tr th {\n",
       "        vertical-align: top;\n",
       "    }\n",
       "\n",
       "    .dataframe thead th {\n",
       "        text-align: right;\n",
       "    }\n",
       "</style>\n",
       "<table border=\"1\" class=\"dataframe\">\n",
       "  <thead>\n",
       "    <tr style=\"text-align: right;\">\n",
       "      <th></th>\n",
       "      <th>age</th>\n",
       "      <th>income</th>\n",
       "      <th>illness</th>\n",
       "      <th>reduced</th>\n",
       "      <th>health</th>\n",
       "    </tr>\n",
       "  </thead>\n",
       "  <tbody>\n",
       "    <tr>\n",
       "      <td>0</td>\n",
       "      <td>-1.056765</td>\n",
       "      <td>-0.089896</td>\n",
       "      <td>-0.312123</td>\n",
       "      <td>1.086862</td>\n",
       "      <td>1</td>\n",
       "    </tr>\n",
       "    <tr>\n",
       "      <td>1</td>\n",
       "      <td>-1.056765</td>\n",
       "      <td>-0.360993</td>\n",
       "      <td>-0.312123</td>\n",
       "      <td>0.394185</td>\n",
       "      <td>1</td>\n",
       "    </tr>\n",
       "    <tr>\n",
       "      <td>2</td>\n",
       "      <td>-1.056765</td>\n",
       "      <td>0.858945</td>\n",
       "      <td>1.132944</td>\n",
       "      <td>-0.298492</td>\n",
       "      <td>0</td>\n",
       "    </tr>\n",
       "    <tr>\n",
       "      <td>3</td>\n",
       "      <td>-1.056765</td>\n",
       "      <td>-1.174285</td>\n",
       "      <td>-0.312123</td>\n",
       "      <td>-0.298492</td>\n",
       "      <td>0</td>\n",
       "    </tr>\n",
       "    <tr>\n",
       "      <td>4</td>\n",
       "      <td>-1.056765</td>\n",
       "      <td>-0.360993</td>\n",
       "      <td>0.410410</td>\n",
       "      <td>1.433200</td>\n",
       "      <td>1</td>\n",
       "    </tr>\n",
       "  </tbody>\n",
       "</table>\n",
       "</div>"
      ],
      "text/plain": [
       "        age    income   illness   reduced  health\n",
       "0 -1.056765 -0.089896 -0.312123  1.086862       1\n",
       "1 -1.056765 -0.360993 -0.312123  0.394185       1\n",
       "2 -1.056765  0.858945  1.132944 -0.298492       0\n",
       "3 -1.056765 -1.174285 -0.312123 -0.298492       0\n",
       "4 -1.056765 -0.360993  0.410410  1.433200       1"
      ]
     },
     "execution_count": 9,
     "metadata": {},
     "output_type": "execute_result"
    }
   ],
   "source": [
    "# Load the data\n",
    "health_df = pd.read_csv(\"Health_Data.csv\", header=0)\n",
    "# Scale the predictors\n",
    "scaler = StandardScaler()\n",
    "health_df[[\"age\", \"income\", \"illness\", \"reduced\"]] = scaler.fit_transform(health_df[[\"age\", \"income\", \"illness\", \"reduced\"]])\n",
    "health_df.head()"
   ]
  },
  {
   "cell_type": "markdown",
   "id": "804e927f",
   "metadata": {},
   "source": [
    "a)\tImplement batch gradient descent from scratch to find the regression parameters as in the pseudo code below:"
   ]
  },
  {
   "cell_type": "code",
   "execution_count": 20,
   "id": "11428007",
   "metadata": {},
   "outputs": [
    {
     "name": "stdout",
     "output_type": "stream",
     "text": [
      "1.2175337186897772 -0.17273499897030511 -0.10539057012366403 0.6849093812779409 0.45714456103590073\n"
     ]
    }
   ],
   "source": [
    "# Initialize the hyperparams for the gradient descent\n",
    "alpha = 0.01\n",
    "iterations = 10000\n",
    "n = health_df.shape[0]\n",
    "# Initialize the intercept\n",
    "b0 = 0\n",
    "# Initialize all the feature coefficients\n",
    "bAge, bIncome, bIllness, bReduced = 0, 0, 0, 0\n",
    "# Initalize the data vectors for each feature and the response\n",
    "xAge = health_df[\"age\"]\n",
    "xIncome = health_df[\"income\"]\n",
    "xIllness = health_df[\"illness\"]\n",
    "xReduced = health_df[\"reduced\"]\n",
    "y = health_df[\"health\"]\n",
    "# Begin gradient descent algorithm\n",
    "for i in range(iterations):\n",
    "    # Predict the y values\n",
    "    pred_y = b0 + bAge*xAge + bIncome*xIncome + bIllness*xIllness + bReduced*xReduced\n",
    "    # Calculate the errors\n",
    "    resids = y - pred_y\n",
    "    # Estimate the parameters from the errors\n",
    "    b0 = b0 + alpha*np.sum(resids)/n\n",
    "    bAge = bAge + alpha*np.sum(resids*xAge)/n\n",
    "    bIncome = bIncome + alpha*np.sum(resids*xIncome)/n\n",
    "    bIllness = bIllness + alpha*np.sum(resids*xIllness)/n\n",
    "    bReduced = bReduced + alpha*np.sum(resids*xReduced)/n\n",
    "# Display the learned coefficients\n",
    "print(b0, bAge, bIncome, bIllness, bReduced)"
   ]
  },
  {
   "cell_type": "markdown",
   "id": "afe9ddea",
   "metadata": {},
   "source": [
    "b)\tNow, use a vectorized or matrix implementation instead of having a line of code for each x or b. That mean, you can a create a vector of b’s and a feature matrix, X where you have an additional column for x0 whose values are 1’s. x0 corresponds to b0. You can still implement it as described in the code above. "
   ]
  },
  {
   "cell_type": "code",
   "execution_count": 50,
   "id": "42dc949f",
   "metadata": {},
   "outputs": [
    {
     "name": "stdout",
     "output_type": "stream",
     "text": [
      "1.2175337186897772 [[-0.172735   -0.10539057  0.68490938  0.45714456]]\n"
     ]
    }
   ],
   "source": [
    "# Initialize the hyperparams for the gradient descent\n",
    "alpha = 0.01\n",
    "iterations = 10000\n",
    "n = health_df.shape[0]\n",
    "# Initialize the intercept\n",
    "b0 = 0\n",
    "# Initialize the vector of coefficients\n",
    "b = np.array([0, 0, 0, 0]).reshape(1, 4)\n",
    "# Initalize the feature matrix\n",
    "X = health_df[[\"age\", \"income\", \"illness\", \"reduced\"]].to_numpy()\n",
    "# Begin gradient descent algorithm\n",
    "for i in range(iterations):\n",
    "    # Predict the y values\n",
    "    pred_y = b0 + np.matmul(X, b.T).reshape(1, -1)[0]\n",
    "    # Calculate the errors\n",
    "    resids = y - pred_y\n",
    "    # Estimate the parameters from the errors\n",
    "    b0 = b0 + alpha*np.sum(resids)/n\n",
    "    b = b + np.matmul(resids, X)/n\n",
    "# Display the learned coefficients\n",
    "print(b0, b)"
   ]
  },
  {
   "cell_type": "markdown",
   "id": "f0bd362b",
   "metadata": {},
   "source": [
    "c)\tUse the scikit-learn package to implement the stochastic gradient descent to find the parameters of the regression equation."
   ]
  },
  {
   "cell_type": "code",
   "execution_count": 58,
   "id": "7eb5c13b",
   "metadata": {},
   "outputs": [
    {
     "name": "stdout",
     "output_type": "stream",
     "text": [
      "[1.22692546] [-0.12095541 -0.07745132  0.70822908  0.53091082]\n"
     ]
    }
   ],
   "source": [
    "sgdr = SGDRegressor()\n",
    "sgdr.fit(X, y)\n",
    "print(sgdr.intercept_, sgdr.coef_)"
   ]
  },
  {
   "cell_type": "markdown",
   "id": "741f482f",
   "metadata": {},
   "source": [
    "# Question 2\n",
    "You will implement a multiple regression from a statistical perspective to explore the relationship between the input variables and the output variable. You will use the health data again.  "
   ]
  },
  {
   "cell_type": "markdown",
   "id": "89bec1df",
   "metadata": {},
   "source": [
    "a)\tUse the statsmodels package (https://www.statsmodels.org/stable/regression.html#examples) to implement a multiple linear regression using the entire health data to get a more detailed regression summary. "
   ]
  },
  {
   "cell_type": "code",
   "execution_count": 63,
   "id": "4c9ed6dc",
   "metadata": {},
   "outputs": [
    {
     "data": {
      "text/html": [
       "<table class=\"simpletable\">\n",
       "<caption>OLS Regression Results</caption>\n",
       "<tr>\n",
       "  <th>Dep. Variable:</th>         <td>health</td>      <th>  R-squared:         </th> <td>   0.179</td> \n",
       "</tr>\n",
       "<tr>\n",
       "  <th>Model:</th>                   <td>OLS</td>       <th>  Adj. R-squared:    </th> <td>   0.179</td> \n",
       "</tr>\n",
       "<tr>\n",
       "  <th>Method:</th>             <td>Least Squares</td>  <th>  F-statistic:       </th> <td>   282.9</td> \n",
       "</tr>\n",
       "<tr>\n",
       "  <th>Date:</th>             <td>Sat, 07 Aug 2021</td> <th>  Prob (F-statistic):</th> <td>2.35e-220</td>\n",
       "</tr>\n",
       "<tr>\n",
       "  <th>Time:</th>                 <td>19:04:12</td>     <th>  Log-Likelihood:    </th> <td> -10762.</td> \n",
       "</tr>\n",
       "<tr>\n",
       "  <th>No. Observations:</th>      <td>  5190</td>      <th>  AIC:               </th> <td>2.153e+04</td>\n",
       "</tr>\n",
       "<tr>\n",
       "  <th>Df Residuals:</th>          <td>  5185</td>      <th>  BIC:               </th> <td>2.157e+04</td>\n",
       "</tr>\n",
       "<tr>\n",
       "  <th>Df Model:</th>              <td>     4</td>      <th>                     </th>     <td> </td>    \n",
       "</tr>\n",
       "<tr>\n",
       "  <th>Covariance Type:</th>      <td>nonrobust</td>    <th>                     </th>     <td> </td>    \n",
       "</tr>\n",
       "</table>\n",
       "<table class=\"simpletable\">\n",
       "<tr>\n",
       "    <td></td>       <th>coef</th>     <th>std err</th>      <th>t</th>      <th>P>|t|</th>  <th>[0.025</th>    <th>0.975]</th>  \n",
       "</tr>\n",
       "<tr>\n",
       "  <th>const</th> <td>    1.2175</td> <td>    0.027</td> <td>   45.558</td> <td> 0.000</td> <td>    1.165</td> <td>    1.270</td>\n",
       "</tr>\n",
       "<tr>\n",
       "  <th>x1</th>    <td>   -0.1727</td> <td>    0.028</td> <td>   -6.120</td> <td> 0.000</td> <td>   -0.228</td> <td>   -0.117</td>\n",
       "</tr>\n",
       "<tr>\n",
       "  <th>x2</th>    <td>   -0.1054</td> <td>    0.028</td> <td>   -3.777</td> <td> 0.000</td> <td>   -0.160</td> <td>   -0.051</td>\n",
       "</tr>\n",
       "<tr>\n",
       "  <th>x3</th>    <td>    0.6849</td> <td>    0.028</td> <td>   24.442</td> <td> 0.000</td> <td>    0.630</td> <td>    0.740</td>\n",
       "</tr>\n",
       "<tr>\n",
       "  <th>x4</th>    <td>    0.4571</td> <td>    0.027</td> <td>   16.671</td> <td> 0.000</td> <td>    0.403</td> <td>    0.511</td>\n",
       "</tr>\n",
       "</table>\n",
       "<table class=\"simpletable\">\n",
       "<tr>\n",
       "  <th>Omnibus:</th>       <td>2321.918</td> <th>  Durbin-Watson:     </th> <td>   1.850</td> \n",
       "</tr>\n",
       "<tr>\n",
       "  <th>Prob(Omnibus):</th>  <td> 0.000</td>  <th>  Jarque-Bera (JB):  </th> <td>12281.302</td>\n",
       "</tr>\n",
       "<tr>\n",
       "  <th>Skew:</th>           <td> 2.126</td>  <th>  Prob(JB):          </th> <td>    0.00</td> \n",
       "</tr>\n",
       "<tr>\n",
       "  <th>Kurtosis:</th>       <td> 9.222</td>  <th>  Cond. No.          </th> <td>    1.45</td> \n",
       "</tr>\n",
       "</table><br/><br/>Notes:<br/>[1] Standard Errors assume that the covariance matrix of the errors is correctly specified."
      ],
      "text/plain": [
       "<class 'statsmodels.iolib.summary.Summary'>\n",
       "\"\"\"\n",
       "                            OLS Regression Results                            \n",
       "==============================================================================\n",
       "Dep. Variable:                 health   R-squared:                       0.179\n",
       "Model:                            OLS   Adj. R-squared:                  0.179\n",
       "Method:                 Least Squares   F-statistic:                     282.9\n",
       "Date:                Sat, 07 Aug 2021   Prob (F-statistic):          2.35e-220\n",
       "Time:                        19:04:12   Log-Likelihood:                -10762.\n",
       "No. Observations:                5190   AIC:                         2.153e+04\n",
       "Df Residuals:                    5185   BIC:                         2.157e+04\n",
       "Df Model:                           4                                         \n",
       "Covariance Type:            nonrobust                                         \n",
       "==============================================================================\n",
       "                 coef    std err          t      P>|t|      [0.025      0.975]\n",
       "------------------------------------------------------------------------------\n",
       "const          1.2175      0.027     45.558      0.000       1.165       1.270\n",
       "x1            -0.1727      0.028     -6.120      0.000      -0.228      -0.117\n",
       "x2            -0.1054      0.028     -3.777      0.000      -0.160      -0.051\n",
       "x3             0.6849      0.028     24.442      0.000       0.630       0.740\n",
       "x4             0.4571      0.027     16.671      0.000       0.403       0.511\n",
       "==============================================================================\n",
       "Omnibus:                     2321.918   Durbin-Watson:                   1.850\n",
       "Prob(Omnibus):                  0.000   Jarque-Bera (JB):            12281.302\n",
       "Skew:                           2.126   Prob(JB):                         0.00\n",
       "Kurtosis:                       9.222   Cond. No.                         1.45\n",
       "==============================================================================\n",
       "\n",
       "Notes:\n",
       "[1] Standard Errors assume that the covariance matrix of the errors is correctly specified.\n",
       "\"\"\""
      ]
     },
     "execution_count": 63,
     "metadata": {},
     "output_type": "execute_result"
    }
   ],
   "source": [
    "# Add a constant to the health dataset\n",
    "X = sm.add_constant(X)\n",
    "# Fit the model to the data\n",
    "model = sm.OLS(y, X)\n",
    "results = model.fit()\n",
    "# Determine the results\n",
    "results.summary()"
   ]
  },
  {
   "cell_type": "code",
   "execution_count": 69,
   "id": "17f40ce0",
   "metadata": {},
   "outputs": [
    {
     "data": {
      "text/html": [
       "<table class=\"simpletable\">\n",
       "<caption>OLS Regression Results</caption>\n",
       "<tr>\n",
       "  <th>Dep. Variable:</th>         <td>health</td>      <th>  R-squared:         </th> <td>   0.130</td> \n",
       "</tr>\n",
       "<tr>\n",
       "  <th>Model:</th>                   <td>OLS</td>       <th>  Adj. R-squared:    </th> <td>   0.130</td> \n",
       "</tr>\n",
       "<tr>\n",
       "  <th>Method:</th>             <td>Least Squares</td>  <th>  F-statistic:       </th> <td>   773.0</td> \n",
       "</tr>\n",
       "<tr>\n",
       "  <th>Date:</th>             <td>Sat, 07 Aug 2021</td> <th>  Prob (F-statistic):</th> <td>1.04e-158</td>\n",
       "</tr>\n",
       "<tr>\n",
       "  <th>Time:</th>                 <td>19:31:38</td>     <th>  Log-Likelihood:    </th> <td> -10914.</td> \n",
       "</tr>\n",
       "<tr>\n",
       "  <th>No. Observations:</th>      <td>  5190</td>      <th>  AIC:               </th> <td>2.183e+04</td>\n",
       "</tr>\n",
       "<tr>\n",
       "  <th>Df Residuals:</th>          <td>  5188</td>      <th>  BIC:               </th> <td>2.184e+04</td>\n",
       "</tr>\n",
       "<tr>\n",
       "  <th>Df Model:</th>              <td>     1</td>      <th>                     </th>     <td> </td>    \n",
       "</tr>\n",
       "<tr>\n",
       "  <th>Covariance Type:</th>      <td>nonrobust</td>    <th>                     </th>     <td> </td>    \n",
       "</tr>\n",
       "</table>\n",
       "<table class=\"simpletable\">\n",
       "<tr>\n",
       "      <td></td>         <th>coef</th>     <th>std err</th>      <th>t</th>      <th>P>|t|</th>  <th>[0.025</th>    <th>0.975]</th>  \n",
       "</tr>\n",
       "<tr>\n",
       "  <th>Intercept</th> <td>    1.2175</td> <td>    0.028</td> <td>   44.256</td> <td> 0.000</td> <td>    1.164</td> <td>    1.271</td>\n",
       "</tr>\n",
       "<tr>\n",
       "  <th>illness</th>   <td>    0.7649</td> <td>    0.028</td> <td>   27.803</td> <td> 0.000</td> <td>    0.711</td> <td>    0.819</td>\n",
       "</tr>\n",
       "</table>\n",
       "<table class=\"simpletable\">\n",
       "<tr>\n",
       "  <th>Omnibus:</th>       <td>2401.213</td> <th>  Durbin-Watson:     </th> <td>   1.844</td> \n",
       "</tr>\n",
       "<tr>\n",
       "  <th>Prob(Omnibus):</th>  <td> 0.000</td>  <th>  Jarque-Bera (JB):  </th> <td>12779.123</td>\n",
       "</tr>\n",
       "<tr>\n",
       "  <th>Skew:</th>           <td> 2.213</td>  <th>  Prob(JB):          </th> <td>    0.00</td> \n",
       "</tr>\n",
       "<tr>\n",
       "  <th>Kurtosis:</th>       <td> 9.285</td>  <th>  Cond. No.          </th> <td>    1.00</td> \n",
       "</tr>\n",
       "</table><br/><br/>Notes:<br/>[1] Standard Errors assume that the covariance matrix of the errors is correctly specified."
      ],
      "text/plain": [
       "<class 'statsmodels.iolib.summary.Summary'>\n",
       "\"\"\"\n",
       "                            OLS Regression Results                            \n",
       "==============================================================================\n",
       "Dep. Variable:                 health   R-squared:                       0.130\n",
       "Model:                            OLS   Adj. R-squared:                  0.130\n",
       "Method:                 Least Squares   F-statistic:                     773.0\n",
       "Date:                Sat, 07 Aug 2021   Prob (F-statistic):          1.04e-158\n",
       "Time:                        19:31:38   Log-Likelihood:                -10914.\n",
       "No. Observations:                5190   AIC:                         2.183e+04\n",
       "Df Residuals:                    5188   BIC:                         2.184e+04\n",
       "Df Model:                           1                                         \n",
       "Covariance Type:            nonrobust                                         \n",
       "==============================================================================\n",
       "                 coef    std err          t      P>|t|      [0.025      0.975]\n",
       "------------------------------------------------------------------------------\n",
       "Intercept      1.2175      0.028     44.256      0.000       1.164       1.271\n",
       "illness        0.7649      0.028     27.803      0.000       0.711       0.819\n",
       "==============================================================================\n",
       "Omnibus:                     2401.213   Durbin-Watson:                   1.844\n",
       "Prob(Omnibus):                  0.000   Jarque-Bera (JB):            12779.123\n",
       "Skew:                           2.213   Prob(JB):                         0.00\n",
       "Kurtosis:                       9.285   Cond. No.                         1.00\n",
       "==============================================================================\n",
       "\n",
       "Notes:\n",
       "[1] Standard Errors assume that the covariance matrix of the errors is correctly specified.\n",
       "\"\"\""
      ]
     },
     "execution_count": 69,
     "metadata": {},
     "output_type": "execute_result"
    }
   ],
   "source": [
    "# Test indidivual SLR models to find the best parameter\n",
    "import statsmodels.formula.api as smf\n",
    "formula1 = \"health ~ illness\"\n",
    "smf.ols(formula1, data=health_df).fit().summary()"
   ]
  },
  {
   "cell_type": "markdown",
   "id": "3d45c95a",
   "metadata": {},
   "source": [
    "e)\tExtract the residuals of the model and test the assumptions normality and homogeneity of variance for the regression model. Are the assumptions met? Use reg.resid syntax to extract the residuals"
   ]
  },
  {
   "cell_type": "code",
   "execution_count": 73,
   "id": "be95e28c",
   "metadata": {},
   "outputs": [
    {
     "data": {
      "image/png": "[encoded data removed]",
      "text/plain": [
       "<Figure size 432x288 with 1 Axes>"
      ]
     },
     "execution_count": 73,
     "metadata": {},
     "output_type": "execute_result"
    },
    {
     "data": {
      "image/png": "[encoded data removed]",
      "text/plain": [
       "<Figure size 432x288 with 1 Axes>"
      ]
     },
     "metadata": {
      "needs_background": "light"
     },
     "output_type": "display_data"
    }
   ],
   "source": [
    "# Extract the residuals\n",
    "resids = results.resid\n",
    "sm.qqplot(resids)"
   ]
  },
  {
   "cell_type": "markdown",
   "id": "e4194b2b",
   "metadata": {},
   "source": [
    "f)\tTo further verify the normality assumption, create a histogram for the residuals. Does the histogram look like a normal distribution? "
   ]
  },
  {
   "cell_type": "code",
   "execution_count": 79,
   "id": "a629288b",
   "metadata": {},
   "outputs": [
    {
     "data": {
      "text/plain": [
       "<matplotlib.axes._subplots.AxesSubplot at 0x23ea883e780>"
      ]
     },
     "execution_count": 79,
     "metadata": {},
     "output_type": "execute_result"
    },
    {
     "data": {
      "image/png": "[encoded data removed]",
      "text/plain": [
       "<Figure size 432x288 with 1 Axes>"
      ]
     },
     "metadata": {
      "needs_background": "light"
     },
     "output_type": "display_data"
    }
   ],
   "source": [
    "sns.histplot(resids)"
   ]
  },
  {
   "cell_type": "markdown",
   "id": "a90d23e6",
   "metadata": {},
   "source": [
    "g)\tTest the linearity assumption by creating separate scatter plots for each input variable versus output variable. According to your plots, are the linearity assumptions met? "
   ]
  },
  {
   "cell_type": "code",
   "execution_count": 91,
   "id": "6ce57e07",
   "metadata": {},
   "outputs": [
    {
     "data": {
      "text/plain": [
       "Text(0, 0.5, 'Health')"
      ]
     },
     "execution_count": 91,
     "metadata": {},
     "output_type": "execute_result"
    },
    {
     "data": {
      "image/png": "[encoded data removed]",
      "text/plain": [
       "<Figure size 576x576 with 4 Axes>"
      ]
     },
     "metadata": {
      "needs_background": "light"
     },
     "output_type": "display_data"
    }
   ],
   "source": [
    "fig, ax = plt.subplots(2, 2, figsize=(8, 8))\n",
    "# Health vs Age\n",
    "sns.scatterplot(x=health_df[\"age\"], y=y, alpha=0.4, ax=ax[0,0])\n",
    "ax[0,0].set_xlabel(\"Age\")\n",
    "ax[0,0].set_ylabel(\"Health\")\n",
    "# Health vs Income\n",
    "sns.scatterplot(x=health_df[\"income\"], y=y, alpha=0.4, ax=ax[0,1])\n",
    "ax[0,1].set_xlabel(\"Income\")\n",
    "ax[0,1].set_ylabel(\"Health\")\n",
    "# Health vs Illness\n",
    "sns.scatterplot(x=health_df[\"illness\"], y=y, alpha=0.4, ax=ax[1,0])\n",
    "ax[0,1].set_xlabel(\"Illness\")\n",
    "ax[0,1].set_ylabel(\"Health\")\n",
    "# Health vs Reduced\n",
    "sns.scatterplot(x=health_df[\"reduced\"], y=y, alpha=0.4, ax=ax[1,1])\n",
    "ax[0,1].set_xlabel(\"Reduced\")\n",
    "ax[0,1].set_ylabel(\"Health\")"
   ]
  },
  {
   "cell_type": "markdown",
   "id": "5f1e4a25",
   "metadata": {},
   "source": [
    "h)\tExtract the predicted output values from the model, then create a scatter plot of the predicted output versus actual output (from the data provided). This plot is also used to evaluate the accuracy of the model. According to the plot, is your model good for predicting health scores? Use the reg.predict() method to extract the predicted values. "
   ]
  },
  {
   "cell_type": "code",
   "execution_count": 94,
   "id": "e0b2569b",
   "metadata": {},
   "outputs": [
    {
     "data": {
      "text/plain": [
       "Text(0, 0.5, 'Predicted')"
      ]
     },
     "execution_count": 94,
     "metadata": {},
     "output_type": "execute_result"
    },
    {
     "data": {
      "image/png": "[encoded data removed]",
      "text/plain": [
       "<Figure size 720x432 with 1 Axes>"
      ]
     },
     "metadata": {
      "needs_background": "light"
     },
     "output_type": "display_data"
    }
   ],
   "source": [
    "fig, ax = plt.subplots(1, 1, figsize=(10, 6))\n",
    "sns.scatterplot(x=health_df[\"health\"], y=results.fittedvalues, alpha=0.4)\n",
    "ax.set_xlabel(\"Actual\")\n",
    "ax.set_ylabel(\"Predicted\")"
   ]
  },
  {
   "cell_type": "markdown",
   "id": "59f65565",
   "metadata": {},
   "source": [
    "i)\tCheck for multi-collinearity by generating a covariance matrix for the input data . You can use the .cov() method of pandas (https://pandas.pydata.org/pandas-docs/stable/reference/api/pandas.DataFrame.cov.html). Do you think there is multicollinearity among the input variables? "
   ]
  },
  {
   "cell_type": "code",
   "execution_count": 101,
   "id": "25f65d4a",
   "metadata": {},
   "outputs": [
    {
     "data": {
      "text/html": [
       "<div>\n",
       "<style scoped>\n",
       "    .dataframe tbody tr th:only-of-type {\n",
       "        vertical-align: middle;\n",
       "    }\n",
       "\n",
       "    .dataframe tbody tr th {\n",
       "        vertical-align: top;\n",
       "    }\n",
       "\n",
       "    .dataframe thead th {\n",
       "        text-align: right;\n",
       "    }\n",
       "</style>\n",
       "<table border=\"1\" class=\"dataframe\">\n",
       "  <thead>\n",
       "    <tr style=\"text-align: right;\">\n",
       "      <th></th>\n",
       "      <th>age</th>\n",
       "      <th>income</th>\n",
       "      <th>illness</th>\n",
       "      <th>reduced</th>\n",
       "    </tr>\n",
       "  </thead>\n",
       "  <tbody>\n",
       "    <tr>\n",
       "      <td>age</td>\n",
       "      <td>1.000193</td>\n",
       "      <td>-0.271126</td>\n",
       "      <td>0.205023</td>\n",
       "      <td>0.094763</td>\n",
       "    </tr>\n",
       "    <tr>\n",
       "      <td>income</td>\n",
       "      <td>-0.271126</td>\n",
       "      <td>1.000193</td>\n",
       "      <td>-0.148840</td>\n",
       "      <td>-0.047554</td>\n",
       "    </tr>\n",
       "    <tr>\n",
       "      <td>illness</td>\n",
       "      <td>0.205023</td>\n",
       "      <td>-0.148840</td>\n",
       "      <td>1.000193</td>\n",
       "      <td>0.218158</td>\n",
       "    </tr>\n",
       "    <tr>\n",
       "      <td>reduced</td>\n",
       "      <td>0.094763</td>\n",
       "      <td>-0.047554</td>\n",
       "      <td>0.218158</td>\n",
       "      <td>1.000193</td>\n",
       "    </tr>\n",
       "  </tbody>\n",
       "</table>\n",
       "</div>"
      ],
      "text/plain": [
       "              age    income   illness   reduced\n",
       "age      1.000193 -0.271126  0.205023  0.094763\n",
       "income  -0.271126  1.000193 -0.148840 -0.047554\n",
       "illness  0.205023 -0.148840  1.000193  0.218158\n",
       "reduced  0.094763 -0.047554  0.218158  1.000193"
      ]
     },
     "execution_count": 101,
     "metadata": {},
     "output_type": "execute_result"
    }
   ],
   "source": [
    "health_df[[\"age\", \"income\", \"illness\", \"reduced\"]].cov()"
   ]
  },
  {
   "cell_type": "markdown",
   "id": "dd08bb1c",
   "metadata": {},
   "source": [
    "# Question 3\n",
    "\n",
    "Find your own dataset from an online source with at least 3 input variables. Here is a suggested source of data but you don’t have to use it: https://vincentarelbundock.github.io/Rdatasets/articles/data.html.  There should be one output variable of interest in the data. All the data used for analysis should be continuous. Clean the data as you find necessary, standardize the data and split it into training and test data using an appropriate split ratio. "
   ]
  },
  {
   "cell_type": "code",
   "execution_count": 25,
   "id": "7c435930",
   "metadata": {},
   "outputs": [
    {
     "data": {
      "text/html": [
       "<div>\n",
       "<style scoped>\n",
       "    .dataframe tbody tr th:only-of-type {\n",
       "        vertical-align: middle;\n",
       "    }\n",
       "\n",
       "    .dataframe tbody tr th {\n",
       "        vertical-align: top;\n",
       "    }\n",
       "\n",
       "    .dataframe thead th {\n",
       "        text-align: right;\n",
       "    }\n",
       "</style>\n",
       "<table border=\"1\" class=\"dataframe\">\n",
       "  <thead>\n",
       "    <tr style=\"text-align: right;\">\n",
       "      <th></th>\n",
       "      <th>year</th>\n",
       "      <th>delay</th>\n",
       "      <th>dud</th>\n",
       "      <th>time</th>\n",
       "      <th>y</th>\n",
       "      <th>quarter_2</th>\n",
       "      <th>quarter_3</th>\n",
       "      <th>quarter_4</th>\n",
       "    </tr>\n",
       "  </thead>\n",
       "  <tbody>\n",
       "    <tr>\n",
       "      <td>0</td>\n",
       "      <td>-1.722508</td>\n",
       "      <td>-1.560948</td>\n",
       "      <td>0</td>\n",
       "      <td>-1.687055</td>\n",
       "      <td>2</td>\n",
       "      <td>0</td>\n",
       "      <td>1</td>\n",
       "      <td>0</td>\n",
       "    </tr>\n",
       "    <tr>\n",
       "      <td>1</td>\n",
       "      <td>-1.722508</td>\n",
       "      <td>-1.405372</td>\n",
       "      <td>0</td>\n",
       "      <td>-1.687055</td>\n",
       "      <td>6</td>\n",
       "      <td>0</td>\n",
       "      <td>1</td>\n",
       "      <td>0</td>\n",
       "    </tr>\n",
       "    <tr>\n",
       "      <td>2</td>\n",
       "      <td>-1.722508</td>\n",
       "      <td>-1.172007</td>\n",
       "      <td>0</td>\n",
       "      <td>-1.687055</td>\n",
       "      <td>0</td>\n",
       "      <td>0</td>\n",
       "      <td>1</td>\n",
       "      <td>0</td>\n",
       "    </tr>\n",
       "    <tr>\n",
       "      <td>3</td>\n",
       "      <td>-1.722508</td>\n",
       "      <td>-0.938643</td>\n",
       "      <td>0</td>\n",
       "      <td>-1.687055</td>\n",
       "      <td>1</td>\n",
       "      <td>0</td>\n",
       "      <td>1</td>\n",
       "      <td>0</td>\n",
       "    </tr>\n",
       "    <tr>\n",
       "      <td>4</td>\n",
       "      <td>-1.722508</td>\n",
       "      <td>-0.705279</td>\n",
       "      <td>0</td>\n",
       "      <td>-1.687055</td>\n",
       "      <td>1</td>\n",
       "      <td>0</td>\n",
       "      <td>1</td>\n",
       "      <td>0</td>\n",
       "    </tr>\n",
       "  </tbody>\n",
       "</table>\n",
       "</div>"
      ],
      "text/plain": [
       "       year     delay  dud      time  y  quarter_2  quarter_3  quarter_4\n",
       "0 -1.722508 -1.560948    0 -1.687055  2          0          1          0\n",
       "1 -1.722508 -1.405372    0 -1.687055  6          0          1          0\n",
       "2 -1.722508 -1.172007    0 -1.687055  0          0          1          0\n",
       "3 -1.722508 -0.938643    0 -1.687055  1          0          1          0\n",
       "4 -1.722508 -0.705279    0 -1.687055  1          0          1          0"
      ]
     },
     "execution_count": 25,
     "metadata": {},
     "output_type": "execute_result"
    }
   ],
   "source": [
    "# Load in the data\n",
    "df = pd.read_csv(\"aids.csv\", header=0)\n",
    "# Clean the columns\n",
    "# Remove the extra index column\n",
    "df.drop(\"Unnamed: 0\", axis=1, inplace=True)\n",
    "# Drop missing values\n",
    "df.dropna(inplace=True)\n",
    "# Convert column types as necesary\n",
    "df = pd.get_dummies(df, columns=[\"quarter\"], drop_first=True)\n",
    "# Standardize the data\n",
    "scaler = StandardScaler()\n",
    "df[[\"delay\", \"time\", \"year\"]] = scaler.fit_transform(df[[\"delay\", \"time\", \"year\"]])\n",
    "df.head()"
   ]
  },
  {
   "cell_type": "code",
   "execution_count": 35,
   "id": "62885a2b",
   "metadata": {},
   "outputs": [
    {
     "name": "stdout",
     "output_type": "stream",
     "text": [
      "(399, 7)\n",
      "(399,)\n",
      "(171, 7)\n",
      "(171,)\n"
     ]
    }
   ],
   "source": [
    "# Split into features and response\n",
    "X = df.drop(\"y\", axis=1)\n",
    "y = df[\"y\"]\n",
    "# Split into training and test sets\n",
    "X_train, X_test, y_train, y_test = train_test_split(X, y, test_size=0.3, random_state=1)\n",
    "print(X_train.shape)\n",
    "print(y_train.shape)\n",
    "print(X_test.shape)\n",
    "print(y_test.shape)"
   ]
  },
  {
   "cell_type": "markdown",
   "id": "5df21304",
   "metadata": {},
   "source": [
    "a)\tConstruct a linear regression model using ordinary least squares method by applying the .LinearRegression() constructor in sklearn and find the training and test accuracy of this model using mean square error (mse"
   ]
  },
  {
   "cell_type": "code",
   "execution_count": 37,
   "id": "c8a81414",
   "metadata": {},
   "outputs": [
    {
     "name": "stdout",
     "output_type": "stream",
     "text": [
      "MSE on the training set: 387.6500819236873\n",
      "MSE on the test set: 419.70556601556973\n"
     ]
    }
   ],
   "source": [
    "# Create the linear regression model and fit to the training set\n",
    "lr = LinearRegression().fit(X_train, y_train)\n",
    "\n",
    "# Predict on the training set\n",
    "train_preds = lr.predict(X_train)\n",
    "# Determine the MSE on the training set\n",
    "n_train = len(X_train)\n",
    "train_mse = np.sum((y_train - train_preds)**2) / n_train\n",
    "print(\"MSE on the training set:\", train_mse)\n",
    "\n",
    "# Predict on the test set\n",
    "test_preds = lr.predict(X_test)\n",
    "# Determine the MSE on the test set\n",
    "n_test = len(X_test)\n",
    "test_mse = np.sum((y_test - test_preds)**2) / n_test\n",
    "print(\"MSE on the test set:\", test_mse)"
   ]
  },
  {
   "cell_type": "markdown",
   "id": "7f57e9b8",
   "metadata": {},
   "source": [
    "c)\tFit a lasso regression on the data and check the training and test accuracy of the model using mse. Use the default alpha or penalty constant"
   ]
  },
  {
   "cell_type": "code",
   "execution_count": 40,
   "id": "93cec82b",
   "metadata": {},
   "outputs": [
    {
     "name": "stdout",
     "output_type": "stream",
     "text": [
      "Lasso Regression MSE on the training set: 405.74373178664933\n",
      "Lasso Regression MSE on the test set: 452.1139479370937\n"
     ]
    }
   ],
   "source": [
    "# Create a Lasso regression model\n",
    "lasso = Lasso().fit(X_train, y_train)\n",
    "\n",
    "# Determine the MSE of the training set\n",
    "train_preds_lasso = lasso.predict(X_train)\n",
    "train_mse_lasso = np.sum((y_train - train_preds_lasso)**2) / n_train\n",
    "print(\"Lasso Regression MSE on the training set:\", train_mse_lasso)\n",
    "\n",
    "# Determine the MSE of the test set\n",
    "test_preds_lasso = lasso.predict(X_test)\n",
    "test_mse_lasso = np.sum((y_test - test_preds_lasso)**2) / n_test\n",
    "print(\"Lasso Regression MSE on the test set:\", test_mse_lasso)"
   ]
  },
  {
   "cell_type": "markdown",
   "id": "d605ad8b",
   "metadata": {},
   "source": [
    "d)\tFit a ridge regression on the data and check the training and test accuracy of the model. Use the default alpha or penalty constant"
   ]
  },
  {
   "cell_type": "code",
   "execution_count": 43,
   "id": "9729ac5f",
   "metadata": {},
   "outputs": [
    {
     "name": "stdout",
     "output_type": "stream",
     "text": [
      "Ridge Regression MSE on the training set: 387.68546727681166\n",
      "Ridge Regression MSE on the test set: 420.2845439010731\n"
     ]
    }
   ],
   "source": [
    "# Create a Ridge regression model\n",
    "ridge = Ridge().fit(X_train, y_train)\n",
    "\n",
    "# Determine the MSE of the training set\n",
    "train_preds_ridge = ridge.predict(X_train)\n",
    "train_mse_ridge = np.sum((y_train - train_preds_ridge)**2) / n_train\n",
    "print(\"Ridge Regression MSE on the training set:\", train_mse_ridge)\n",
    "\n",
    "# Determine the MSE of the test set\n",
    "test_preds_ridge = ridge.predict(X_test)\n",
    "test_mse_ridge = np.sum((y_test - test_preds_ridge)**2) / n_test\n",
    "print(\"Ridge Regression MSE on the test set:\", test_mse_ridge)"
   ]
  },
  {
   "cell_type": "markdown",
   "id": "caa35a37",
   "metadata": {},
   "source": [
    "f)\tTune the alpha hyperparameters of the lasso and ridge regression using any tuning technique of your choice? What is the best alpha value for the lasso regression and what is the best alpha value for the ridge regression?"
   ]
  },
  {
   "cell_type": "code",
   "execution_count": 50,
   "id": "d43ecc1a",
   "metadata": {},
   "outputs": [
    {
     "name": "stdout",
     "output_type": "stream",
     "text": [
      "Best alpha for the lasso regression: {'alpha': 0.25}\n",
      "Best alpha for ridge regression: {'alpha': 0.9500000000000001}\n"
     ]
    }
   ],
   "source": [
    "# Define a sequence of alpha values for the lasso and ridge regressions\n",
    "param_grid = {\"alpha\": np.arange(0.05, 1, 0.05)}\n",
    "\n",
    "# Use GridSearch to find the optimal alpha for Lasso Regression\n",
    "grid_lasso = GridSearchCV(Lasso(), param_grid, scoring='neg_mean_squared_error')\n",
    "grid_lasso.fit(X_train, y_train)\n",
    "print(\"Best alpha for the lasso regression:\", grid_lasso.best_params_)\n",
    "\n",
    "# Use GridSearch to find the optimal alpha for Ridge Regression\n",
    "grid_ridge = GridSearchCV(Ridge(), param_grid, scoring='neg_mean_squared_error')\n",
    "grid_ridge.fit(X_train, y_train)\n",
    "print(\"Best alpha for ridge regression:\", grid_ridge.best_params_)"
   ]
  }
 ],
 "metadata": {
  "kernelspec": {
   "display_name": "Python 3",
   "language": "python",
   "name": "python3"
  },
  "language_info": {
   "codemirror_mode": {
    "name": "ipython",
    "version": 3
   },
   "file_extension": ".py",
   "mimetype": "text/x-python",
   "name": "python",
   "nbconvert_exporter": "python",
   "pygments_lexer": "ipython3",
   "version": "3.6.9"
  }
 },
 "nbformat": 4,
 "nbformat_minor": 5
}
