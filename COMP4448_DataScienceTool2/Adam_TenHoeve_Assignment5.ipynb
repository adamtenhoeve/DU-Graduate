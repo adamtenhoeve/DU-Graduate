{
 "cells": [
  {
   "cell_type": "markdown",
   "id": "43313104",
   "metadata": {},
   "source": [
    "# Assignment 5\n",
    "\n",
    "CSCI 4448  \n",
    "Adam Ten Hoeve"
   ]
  },
  {
   "cell_type": "code",
   "execution_count": 88,
   "id": "fa721e49",
   "metadata": {},
   "outputs": [],
   "source": [
    "import numpy as np\n",
    "import pandas as pd\n",
    "\n",
    "import re\n",
    "\n",
    "from sklearn.naive_bayes import CategoricalNB, GaussianNB, MultinomialNB\n",
    "from sklearn.preprocessing import LabelEncoder, StandardScaler\n",
    "from sklearn.model_selection import train_test_split, cross_val_score, GridSearchCV\n",
    "from sklearn.metrics import accuracy_score, f1_score\n",
    "from sklearn.feature_extraction.text import TfidfVectorizer\n",
    "\n",
    "from scipy.stats import norm\n",
    "\n",
    "from nltk.corpus import stopwords"
   ]
  },
  {
   "cell_type": "markdown",
   "id": "b80936c0",
   "metadata": {},
   "source": [
    "# Question 1"
   ]
  },
  {
   "cell_type": "markdown",
   "id": "3a9a4df4",
   "metadata": {},
   "source": [
    "a)\tUpload the income_evaluation_cat.csv provided on canvas.  The features in this data include workclass, education, race, and gender. The output variable is income and contains two categorical values (<=50k or >50k) indicating whether the income of an individual is less than/equal to \\\\$50,000 or greater than \\\\$50,000 respectively. Print the unique values of each variable in this data. "
   ]
  },
  {
   "cell_type": "code",
   "execution_count": 32,
   "id": "c9157655",
   "metadata": {},
   "outputs": [
    {
     "name": "stderr",
     "output_type": "stream",
     "text": [
      "D:\\Anaconda3\\lib\\site-packages\\ipykernel_launcher.py:1: ParserWarning: Falling back to the 'python' engine because the 'c' engine does not support regex separators (separators > 1 char and different from '\\s+' are interpreted as regex); you can avoid this warning by specifying engine='python'.\n",
      "  \"\"\"Entry point for launching an IPython kernel.\n"
     ]
    },
    {
     "data": {
      "text/html": [
       "<div>\n",
       "<style scoped>\n",
       "    .dataframe tbody tr th:only-of-type {\n",
       "        vertical-align: middle;\n",
       "    }\n",
       "\n",
       "    .dataframe tbody tr th {\n",
       "        vertical-align: top;\n",
       "    }\n",
       "\n",
       "    .dataframe thead th {\n",
       "        text-align: right;\n",
       "    }\n",
       "</style>\n",
       "<table border=\"1\" class=\"dataframe\">\n",
       "  <thead>\n",
       "    <tr style=\"text-align: right;\">\n",
       "      <th></th>\n",
       "      <th>workclass</th>\n",
       "      <th>education</th>\n",
       "      <th>race</th>\n",
       "      <th>gender</th>\n",
       "      <th>income</th>\n",
       "    </tr>\n",
       "  </thead>\n",
       "  <tbody>\n",
       "    <tr>\n",
       "      <td>0</td>\n",
       "      <td>State-gov</td>\n",
       "      <td>Bachelors</td>\n",
       "      <td>White</td>\n",
       "      <td>Male</td>\n",
       "      <td>&lt;=50K</td>\n",
       "    </tr>\n",
       "    <tr>\n",
       "      <td>1</td>\n",
       "      <td>Self-emp-not-inc</td>\n",
       "      <td>Bachelors</td>\n",
       "      <td>White</td>\n",
       "      <td>Male</td>\n",
       "      <td>&lt;=50K</td>\n",
       "    </tr>\n",
       "    <tr>\n",
       "      <td>2</td>\n",
       "      <td>Private</td>\n",
       "      <td>HS-grad</td>\n",
       "      <td>White</td>\n",
       "      <td>Male</td>\n",
       "      <td>&lt;=50K</td>\n",
       "    </tr>\n",
       "    <tr>\n",
       "      <td>3</td>\n",
       "      <td>Private</td>\n",
       "      <td>11th</td>\n",
       "      <td>Black</td>\n",
       "      <td>Male</td>\n",
       "      <td>&lt;=50K</td>\n",
       "    </tr>\n",
       "    <tr>\n",
       "      <td>4</td>\n",
       "      <td>Private</td>\n",
       "      <td>Bachelors</td>\n",
       "      <td>Black</td>\n",
       "      <td>Female</td>\n",
       "      <td>&lt;=50K</td>\n",
       "    </tr>\n",
       "  </tbody>\n",
       "</table>\n",
       "</div>"
      ],
      "text/plain": [
       "          workclass  education   race  gender income\n",
       "0         State-gov  Bachelors  White    Male  <=50K\n",
       "1  Self-emp-not-inc  Bachelors  White    Male  <=50K\n",
       "2           Private    HS-grad  White    Male  <=50K\n",
       "3           Private       11th  Black    Male  <=50K\n",
       "4           Private  Bachelors  Black  Female  <=50K"
      ]
     },
     "execution_count": 32,
     "metadata": {},
     "output_type": "execute_result"
    }
   ],
   "source": [
    "df_income = pd.read_csv(\"income_evaluation_cat.csv\", sep=\", \", skipinitialspace=True)\n",
    "df_income.head()"
   ]
  },
  {
   "cell_type": "code",
   "execution_count": 34,
   "id": "8f5b4d33",
   "metadata": {},
   "outputs": [
    {
     "data": {
      "text/plain": [
       "array(['State-gov', 'Self-emp-not-inc', 'Private', 'Federal-gov',\n",
       "       'Local-gov', '?', 'Self-emp-inc', 'Without-pay', 'Never-worked'],\n",
       "      dtype=object)"
      ]
     },
     "execution_count": 34,
     "metadata": {},
     "output_type": "execute_result"
    }
   ],
   "source": [
    "df_income[\"workclass\"].unique()"
   ]
  },
  {
   "cell_type": "code",
   "execution_count": 35,
   "id": "c5bc9352",
   "metadata": {},
   "outputs": [
    {
     "data": {
      "text/plain": [
       "array(['Bachelors', 'HS-grad', '11th', 'Masters', '9th', 'Some-college',\n",
       "       'Assoc-acdm', 'Assoc-voc', '7th-8th', 'Doctorate', 'Prof-school',\n",
       "       '5th-6th', '10th', '1st-4th', 'Preschool', '12th'], dtype=object)"
      ]
     },
     "execution_count": 35,
     "metadata": {},
     "output_type": "execute_result"
    }
   ],
   "source": [
    "df_income[\"education\"].unique()"
   ]
  },
  {
   "cell_type": "code",
   "execution_count": 36,
   "id": "61646e53",
   "metadata": {},
   "outputs": [
    {
     "data": {
      "text/plain": [
       "array(['White', 'Black', 'Asian-Pac-Islander', 'Amer-Indian-Eskimo',\n",
       "       'Other'], dtype=object)"
      ]
     },
     "execution_count": 36,
     "metadata": {},
     "output_type": "execute_result"
    }
   ],
   "source": [
    "df_income[\"race\"].unique()"
   ]
  },
  {
   "cell_type": "code",
   "execution_count": 37,
   "id": "7da19595",
   "metadata": {},
   "outputs": [
    {
     "data": {
      "text/plain": [
       "array(['Male', 'Female'], dtype=object)"
      ]
     },
     "execution_count": 37,
     "metadata": {},
     "output_type": "execute_result"
    }
   ],
   "source": [
    "df_income[\"gender\"].unique()"
   ]
  },
  {
   "cell_type": "code",
   "execution_count": 38,
   "id": "1900bdb2",
   "metadata": {},
   "outputs": [
    {
     "data": {
      "text/plain": [
       "array(['<=50K', '>50K'], dtype=object)"
      ]
     },
     "execution_count": 38,
     "metadata": {},
     "output_type": "execute_result"
    }
   ],
   "source": [
    "df_income[\"income\"].unique()"
   ]
  },
  {
   "cell_type": "markdown",
   "id": "b465b325",
   "metadata": {},
   "source": [
    "b)\tYou will implement Naïve Bayes from scratch using Bayes’ rule. You can do your calculations in Python, but you would not use the sklearn package. Suppose that all the income_evaluation_cat.csv data you uploaded is the training data , classify a test instance, X = [“Private”, “Bachelors”, “White”, “Female”] into the class income<=50 or income>50k. You need to compute the posterior probabilities P(income<=50/X) and P(income>50k/X), then print the class with the greater posterior probability as the predicted class. You don’t need to define a function, but you could if you want. "
   ]
  },
  {
   "cell_type": "code",
   "execution_count": 55,
   "id": "758d0e02",
   "metadata": {},
   "outputs": [
    {
     "name": "stdout",
     "output_type": "stream",
     "text": [
      "Posterior probability for <=50K: 0.022433477852309088\n"
     ]
    }
   ],
   "source": [
    "# Need to calculate the frequencies of each value, given each label\n",
    "# Start with income<=50K\n",
    "df_income_le50k = df_income.loc[df_income[\"income\"]==\"<=50K\"]\n",
    "n_le50k = len(df_income_le50k)\n",
    "\n",
    "# Solve for the prior probability P(income <= 50K)\n",
    "p_le50k = n_le50k / len(df_income)\n",
    "\n",
    "# Solve for the prior conditional probabilities\n",
    "p_private_given_le50k = len(df_income_le50k.loc[df_income_le50k[\"workclass\"]==\"Private\"]) / n_le50k\n",
    "p_bachelors_given_le50k = len(df_income_le50k.loc[df_income_le50k[\"education\"]==\"Bachelors\"]) / n_le50k\n",
    "p_white_given_le50k = len(df_income_le50k.loc[df_income_le50k[\"race\"]==\"White\"]) / n_le50k\n",
    "p_female_given_le50k = len(df_income_le50k.loc[df_income_le50k[\"gender\"]==\"Female\"]) / n_le50k\n",
    "\n",
    "# Calculate the posterior probability\n",
    "p_le50k_given_test = p_le50k * p_private_given_le50k * p_bachelors_given_le50k * p_white_given_le50k * p_female_given_le50k\n",
    "print(\"Posterior probability for <=50K:\", p_le50k_given_test)"
   ]
  },
  {
   "cell_type": "code",
   "execution_count": 56,
   "id": "c541af2b",
   "metadata": {},
   "outputs": [
    {
     "name": "stdout",
     "output_type": "stream",
     "text": [
      "Posterior probability for >50K: 0.005892390339262952\n"
     ]
    }
   ],
   "source": [
    "# When income > 50k\n",
    "df_income_gt50k = df_income.loc[df_income[\"income\"]==\">50K\"]\n",
    "n_gt50k = len(df_income_gt50k)\n",
    "# Calculate the prior probability P(income > 50k)\n",
    "p_gt50k = n_gt50k / len(df_income)\n",
    "# Calculate the prior conditional probabilities\n",
    "p_private_given_gt50k = len(df_income_gt50k.loc[df_income_gt50k[\"workclass\"]==\"Private\"]) / n_gt50k\n",
    "p_bachelors_given_gt50k = len(df_income_gt50k.loc[df_income_gt50k[\"education\"]==\"Bachelors\"]) / n_gt50k\n",
    "p_white_given_gt50k = len(df_income_gt50k.loc[df_income_gt50k[\"race\"]==\"White\"]) / n_gt50k\n",
    "p_female_given_gt50k = len(df_income_gt50k.loc[df_income_gt50k[\"gender\"]==\"Female\"]) / n_gt50k\n",
    "\n",
    "# Calculate the posterior probability\n",
    "p_gt50k_given_test = p_gt50k * p_private_given_gt50k * p_bachelors_given_gt50k * p_white_given_gt50k * p_female_given_gt50k \n",
    "print(\"Posterior probability for >50K:\", p_gt50k_given_test)"
   ]
  },
  {
   "cell_type": "code",
   "execution_count": 53,
   "id": "31b9eb47",
   "metadata": {},
   "outputs": [
    {
     "name": "stdout",
     "output_type": "stream",
     "text": [
      "Classify as <=50K\n"
     ]
    }
   ],
   "source": [
    "# Select the class with the greatest probability\n",
    "if p_le50k_given_test > p_gt50k_given_test:\n",
    "    print(\"Classify as <=50K\")\n",
    "else:\n",
    "    print(\"Classify as >50K\")"
   ]
  },
  {
   "cell_type": "markdown",
   "id": "a525dd76",
   "metadata": {},
   "source": [
    "c)\tPreprocess or transform the features in the income_evaluation_cat.csv data using an appropriate scaler in sklearn. You don’t need to transform the output variable; it should still work fine in a text format. "
   ]
  },
  {
   "cell_type": "code",
   "execution_count": 70,
   "id": "102474bc",
   "metadata": {},
   "outputs": [],
   "source": [
    "# We want to use a categorical naive bayes algorithm, so trasfrom each column to numeric categorical values\n",
    "le = LabelEncoder()\n",
    "X = df_income.drop(\"income\", axis=1).apply(le.fit_transform)\n",
    "# Split off the response column from the data\n",
    "y = df_income[\"income\"]"
   ]
  },
  {
   "cell_type": "markdown",
   "id": "c864a1e9",
   "metadata": {},
   "source": [
    "d)\tRandomly split the transformed input data and the output data into X_train, y_train, X_test and y_test using tools in sklearn. "
   ]
  },
  {
   "cell_type": "code",
   "execution_count": 73,
   "id": "fd535cbf",
   "metadata": {},
   "outputs": [
    {
     "name": "stdout",
     "output_type": "stream",
     "text": [
      "(24420, 4)\n",
      "(24420,)\n",
      "(8141, 4)\n",
      "(8141,)\n"
     ]
    }
   ],
   "source": [
    "X_train, X_test, y_train, y_test = train_test_split(X, y, random_state=42)\n",
    "\n",
    "print(X_train.shape)\n",
    "print(y_train.shape)\n",
    "print(X_test.shape)\n",
    "print(y_test.shape)"
   ]
  },
  {
   "cell_type": "markdown",
   "id": "6a795ec3",
   "metadata": {},
   "source": [
    "e)\tUse an appropriate Naïve Bayes constructor in sklearn to construct and fit a Naïve Bayes model on the training data, then use the model to compute the accuracy score of the training and test set. "
   ]
  },
  {
   "cell_type": "code",
   "execution_count": 77,
   "id": "5b08741d",
   "metadata": {},
   "outputs": [
    {
     "name": "stdout",
     "output_type": "stream",
     "text": [
      "Accuracy on the training set: 0.7826781326781327\n",
      "Accuracy on the test set 0.7894607542070998\n"
     ]
    }
   ],
   "source": [
    "# Create the naive bayes classifier\n",
    "nb = CategoricalNB()\n",
    "# Fit the model to the training data\n",
    "nb.fit(X_train, y_train)\n",
    "# Compute the accuracy on the training set\n",
    "income_train_preds = nb.predict(X_train)\n",
    "print(\"Accuracy on the training set:\", accuracy_score(y_train, income_train_preds))\n",
    "# Compute the accuracy on the test set\n",
    "income_test_preds = nb.predict(X_test)\n",
    "print(\"Accuracy on the test set\", accuracy_score(y_test, income_test_preds))"
   ]
  },
  {
   "cell_type": "markdown",
   "id": "b631df73",
   "metadata": {},
   "source": [
    "# Question 2"
   ]
  },
  {
   "cell_type": "markdown",
   "id": "89558a71",
   "metadata": {},
   "source": [
    "a)\tUpload the income_evaluation_continuous.csv data provided on canvas.  The features in this data include age, education_num, and hours_per_week. The output variable is income and contains two categorical values (<=50k or >50k) indicating whether the income of an individual is less than/equal to \\\\$50,000 or greater than \\\\$50,000 respectively. Compute the mean and standard deviation of each input variable such that the results are presented on the same table or data frame. You can call the .apply() function on the pandas DataFrame.  "
   ]
  },
  {
   "cell_type": "code",
   "execution_count": 80,
   "id": "0dc4cb3f",
   "metadata": {},
   "outputs": [
    {
     "data": {
      "text/html": [
       "<div>\n",
       "<style scoped>\n",
       "    .dataframe tbody tr th:only-of-type {\n",
       "        vertical-align: middle;\n",
       "    }\n",
       "\n",
       "    .dataframe tbody tr th {\n",
       "        vertical-align: top;\n",
       "    }\n",
       "\n",
       "    .dataframe thead th {\n",
       "        text-align: right;\n",
       "    }\n",
       "</style>\n",
       "<table border=\"1\" class=\"dataframe\">\n",
       "  <thead>\n",
       "    <tr style=\"text-align: right;\">\n",
       "      <th></th>\n",
       "      <th>age</th>\n",
       "      <th>education_num</th>\n",
       "      <th>hours_per_week</th>\n",
       "    </tr>\n",
       "  </thead>\n",
       "  <tbody>\n",
       "    <tr>\n",
       "      <td>count</td>\n",
       "      <td>32561.000000</td>\n",
       "      <td>32561.000000</td>\n",
       "      <td>32561.000000</td>\n",
       "    </tr>\n",
       "    <tr>\n",
       "      <td>mean</td>\n",
       "      <td>38.581647</td>\n",
       "      <td>10.080679</td>\n",
       "      <td>40.437456</td>\n",
       "    </tr>\n",
       "    <tr>\n",
       "      <td>std</td>\n",
       "      <td>13.640433</td>\n",
       "      <td>2.572720</td>\n",
       "      <td>12.347429</td>\n",
       "    </tr>\n",
       "    <tr>\n",
       "      <td>min</td>\n",
       "      <td>17.000000</td>\n",
       "      <td>1.000000</td>\n",
       "      <td>1.000000</td>\n",
       "    </tr>\n",
       "    <tr>\n",
       "      <td>25%</td>\n",
       "      <td>28.000000</td>\n",
       "      <td>9.000000</td>\n",
       "      <td>40.000000</td>\n",
       "    </tr>\n",
       "    <tr>\n",
       "      <td>50%</td>\n",
       "      <td>37.000000</td>\n",
       "      <td>10.000000</td>\n",
       "      <td>40.000000</td>\n",
       "    </tr>\n",
       "    <tr>\n",
       "      <td>75%</td>\n",
       "      <td>48.000000</td>\n",
       "      <td>12.000000</td>\n",
       "      <td>45.000000</td>\n",
       "    </tr>\n",
       "    <tr>\n",
       "      <td>max</td>\n",
       "      <td>90.000000</td>\n",
       "      <td>16.000000</td>\n",
       "      <td>99.000000</td>\n",
       "    </tr>\n",
       "  </tbody>\n",
       "</table>\n",
       "</div>"
      ],
      "text/plain": [
       "                age  education_num  hours_per_week\n",
       "count  32561.000000   32561.000000    32561.000000\n",
       "mean      38.581647      10.080679       40.437456\n",
       "std       13.640433       2.572720       12.347429\n",
       "min       17.000000       1.000000        1.000000\n",
       "25%       28.000000       9.000000       40.000000\n",
       "50%       37.000000      10.000000       40.000000\n",
       "75%       48.000000      12.000000       45.000000\n",
       "max       90.000000      16.000000       99.000000"
      ]
     },
     "execution_count": 80,
     "metadata": {},
     "output_type": "execute_result"
    }
   ],
   "source": [
    "df_inc_cont = pd.read_csv(\"income_evaluation_continuous.csv\")\n",
    "df_inc_cont.describe()"
   ]
  },
  {
   "cell_type": "code",
   "execution_count": 83,
   "id": "c2eb27de",
   "metadata": {},
   "outputs": [
    {
     "data": {
      "text/html": [
       "<div>\n",
       "<style scoped>\n",
       "    .dataframe tbody tr th:only-of-type {\n",
       "        vertical-align: middle;\n",
       "    }\n",
       "\n",
       "    .dataframe tbody tr th {\n",
       "        vertical-align: top;\n",
       "    }\n",
       "\n",
       "    .dataframe thead th {\n",
       "        text-align: right;\n",
       "    }\n",
       "</style>\n",
       "<table border=\"1\" class=\"dataframe\">\n",
       "  <thead>\n",
       "    <tr style=\"text-align: right;\">\n",
       "      <th></th>\n",
       "      <th>age</th>\n",
       "      <th>education_num</th>\n",
       "      <th>hours_per_week</th>\n",
       "      <th>income</th>\n",
       "    </tr>\n",
       "  </thead>\n",
       "  <tbody>\n",
       "    <tr>\n",
       "      <td>0</td>\n",
       "      <td>39</td>\n",
       "      <td>13</td>\n",
       "      <td>40</td>\n",
       "      <td>&lt;=50K</td>\n",
       "    </tr>\n",
       "  </tbody>\n",
       "</table>\n",
       "</div>"
      ],
      "text/plain": [
       "   age  education_num  hours_per_week  income\n",
       "0   39             13              40   <=50K"
      ]
     },
     "execution_count": 83,
     "metadata": {},
     "output_type": "execute_result"
    }
   ],
   "source": [
    "df_inc_cont.head(1)"
   ]
  },
  {
   "cell_type": "markdown",
   "id": "d1810a22",
   "metadata": {},
   "source": [
    "b)\tYou will implement Naïve Bayes from scratch using Bayes’ rule. Assume that all the features or input variables follow a normal distribution. You can do your calculations in Python, but you would not use the sklearn package. You can use the density function inside the stats module in the SciPy package. Given that all the income_evaluation_continuous.csv data you uploaded is the training data , classify a test instance, X = [30, 10, 45], into the class income<=50 or income>50k. You need to compute the posterior probabilities P(income<=50/X) and P(income>50k/X), then print the class with the greater posterior probability as the predicted class. You don’t need to define a function, but you could if you want. "
   ]
  },
  {
   "cell_type": "code",
   "execution_count": 102,
   "id": "a394f29b",
   "metadata": {},
   "outputs": [
    {
     "name": "stdout",
     "output_type": "stream",
     "text": [
      "Posterior probability for <=50K: 8.870406275928931e-05\n"
     ]
    }
   ],
   "source": [
    "# Need to calculate the probabilities of each value for each label\n",
    "# Start with Less than 50K\n",
    "df_cont_le50k = df_inc_cont.loc[df_inc_cont[\" income\"]==\" <=50K\"]\n",
    "n_cont_le50k = len(df_cont_le50k)\n",
    "# Calculate the probability P(income <= 50k)\n",
    "p_le50k = n_cont_le50k / len(df_inc_cont)\n",
    "# Calculate the prior probabilities of each test value\n",
    "def calc_prior_cont(df, feature, test_value):\n",
    "    # Calculate the mean and varaince of the feature\n",
    "    feature_mean = np.mean(df[feature])\n",
    "    feature_std = np.std(df[feature])\n",
    "    # Compute the probability of observing that value, given the mean and variance of the data\n",
    "    prob = norm.pdf(test_value, feature_mean, feature_std)\n",
    "    return(prob)\n",
    "p_age30_given_le50k = calc_prior_cont(df_cont_le50k, \"age\", 30)\n",
    "p_edu10_given_le50k = calc_prior_cont(df_cont_le50k, \"education_num\", 10)\n",
    "p_hpw45_given_le50k = calc_prior_cont(df_cont_le50k, \"hours_per_week\", 45)\n",
    "# Calculate the posterior probability\n",
    "p_le50k_given_test = p_le50k * p_age30_given_le50k * p_edu10_given_le50k * p_hpw45_given_le50k\n",
    "print(\"Posterior probability for <=50K:\", p_le50k_given_test)"
   ]
  },
  {
   "cell_type": "code",
   "execution_count": 103,
   "id": "d4505d19",
   "metadata": {
    "scrolled": true
   },
   "outputs": [
    {
     "name": "stdout",
     "output_type": "stream",
     "text": [
      "Posterior probability for >50K: 2.813626845046875e-05\n"
     ]
    }
   ],
   "source": [
    "# Repeat for the data where income >= 50k\n",
    "df_cont_gt50k = df_inc_cont.loc[df_inc_cont[\" income\"]==\" <=50K\"]\n",
    "n_cont_gt50k = len(df_cont_gt50k)\n",
    "# Calculate prior probs\n",
    "p_age30_given_gt50k = calc_prior_cont(df_cont_gt50k, \"age\", 30)\n",
    "p_edu10_given_gt50k = calc_prior_cont(df_cont_gt50k, \"education_num\", 10)\n",
    "p_hpw45_given_gt50k = calc_prior_cont(df_cont_gt50k, \"hours_per_week\", 45)\n",
    "# Calc posterior probs\n",
    "p_gt50k_given_test = p_gt50k * p_age30_given_gt50k * p_edu10_given_gt50k * p_hpw45_given_gt50k\n",
    "print(\"Posterior probability for >50K:\", p_gt50k_given_test)"
   ]
  },
  {
   "cell_type": "code",
   "execution_count": 104,
   "id": "607a2001",
   "metadata": {},
   "outputs": [
    {
     "name": "stdout",
     "output_type": "stream",
     "text": [
      "Classify as <=50K\n"
     ]
    }
   ],
   "source": [
    "# Determine which label was more likely\n",
    "if p_le50k_given_test >= p_gt50k_given_test:\n",
    "    print(\"Classify as <=50K\")\n",
    "else:\n",
    "    print(\"Classify as >50K\")"
   ]
  },
  {
   "cell_type": "markdown",
   "id": "328ae30e",
   "metadata": {},
   "source": [
    "c)\tPreprocess or transform the features in the income_evaluation_cont.csv data using an appropriate scaler in sklearn. You don’t need to transform the output variable; it should still work fine in a text format. "
   ]
  },
  {
   "cell_type": "code",
   "execution_count": 112,
   "id": "48dd7c74",
   "metadata": {},
   "outputs": [],
   "source": [
    "# Scale the data using a normalization scaler\n",
    "scaler = StandardScaler()\n",
    "X_cont = scaler.fit_transform(df_inc_cont.drop(\" income\", axis=1))\n",
    "y_cont = df_inc_cont[\" income\"]"
   ]
  },
  {
   "cell_type": "markdown",
   "id": "6296003d",
   "metadata": {},
   "source": [
    "d)\tRandomly split the input and output data into X_train, y_train, X_test and y_test using tools in sklearn. "
   ]
  },
  {
   "cell_type": "code",
   "execution_count": 113,
   "id": "35fc5c0c",
   "metadata": {},
   "outputs": [
    {
     "name": "stdout",
     "output_type": "stream",
     "text": [
      "(24420, 3)\n",
      "(24420,)\n",
      "(8141, 3)\n",
      "(8141,)\n"
     ]
    }
   ],
   "source": [
    "X_train, X_test, y_train, y_test = train_test_split(X_cont, y_cont, random_state=42)\n",
    "\n",
    "print(X_train.shape)\n",
    "print(y_train.shape)\n",
    "print(X_test.shape)\n",
    "print(y_test.shape)"
   ]
  },
  {
   "cell_type": "markdown",
   "id": "8836af69",
   "metadata": {},
   "source": [
    "e)\tUse an appropriate Naïve Bayes constructor in sklearn to construct and fit a Naïve Bayes model on the training data, then use the model to compute the accuracy score of the training and test set. "
   ]
  },
  {
   "cell_type": "code",
   "execution_count": 116,
   "id": "0ee54ccc",
   "metadata": {},
   "outputs": [
    {
     "name": "stdout",
     "output_type": "stream",
     "text": [
      "Accuracy on the training set: 0.7987714987714988\n",
      "Accuracy on the test set: 0.8013757523645744\n"
     ]
    }
   ],
   "source": [
    "# Create a naive bayes model for the normal data\n",
    "nb_cont = GaussianNB()\n",
    "# Fit the model to the training data\n",
    "nb_cont.fit(X_train, y_train)\n",
    "# Determine the accuracy on the training set\n",
    "train_cont_preds = nb_cont.predict(X_train)\n",
    "print(\"Accuracy on the training set:\", accuracy_score(y_train, train_cont_preds))\n",
    "# Determine accuracy on the test set\n",
    "test_cont_preds = nb_cont.predict(X_test)\n",
    "print(\"Accuracy on the test set:\", accuracy_score(y_test, test_cont_preds))"
   ]
  },
  {
   "cell_type": "markdown",
   "id": "eb1ca53c",
   "metadata": {},
   "source": [
    "# Question 3"
   ]
  },
  {
   "cell_type": "markdown",
   "id": "97a7a9c5",
   "metadata": {},
   "source": [
    "a)\tUpload the True.csv data provided on canvas into Python. You will create a new data frame by selecting the “title” and “text” columns, then, adding a new column called “news_type” where all the values on this new column are “True”. So, your new data frame should have three columns; “title”, “text” and “news_type”. "
   ]
  },
  {
   "cell_type": "code",
   "execution_count": 2,
   "id": "5eb375e5",
   "metadata": {},
   "outputs": [
    {
     "data": {
      "text/html": [
       "<div>\n",
       "<style scoped>\n",
       "    .dataframe tbody tr th:only-of-type {\n",
       "        vertical-align: middle;\n",
       "    }\n",
       "\n",
       "    .dataframe tbody tr th {\n",
       "        vertical-align: top;\n",
       "    }\n",
       "\n",
       "    .dataframe thead th {\n",
       "        text-align: right;\n",
       "    }\n",
       "</style>\n",
       "<table border=\"1\" class=\"dataframe\">\n",
       "  <thead>\n",
       "    <tr style=\"text-align: right;\">\n",
       "      <th></th>\n",
       "      <th>title</th>\n",
       "      <th>text</th>\n",
       "      <th>news_type</th>\n",
       "    </tr>\n",
       "  </thead>\n",
       "  <tbody>\n",
       "    <tr>\n",
       "      <td>0</td>\n",
       "      <td>As U.S. budget fight looms, Republicans flip t...</td>\n",
       "      <td>WASHINGTON (Reuters) - The head of a conservat...</td>\n",
       "      <td>True</td>\n",
       "    </tr>\n",
       "    <tr>\n",
       "      <td>1</td>\n",
       "      <td>U.S. military to accept transgender recruits o...</td>\n",
       "      <td>WASHINGTON (Reuters) - Transgender people will...</td>\n",
       "      <td>True</td>\n",
       "    </tr>\n",
       "    <tr>\n",
       "      <td>2</td>\n",
       "      <td>Senior U.S. Republican senator: 'Let Mr. Muell...</td>\n",
       "      <td>WASHINGTON (Reuters) - The special counsel inv...</td>\n",
       "      <td>True</td>\n",
       "    </tr>\n",
       "    <tr>\n",
       "      <td>3</td>\n",
       "      <td>FBI Russia probe helped by Australian diplomat...</td>\n",
       "      <td>WASHINGTON (Reuters) - Trump campaign adviser ...</td>\n",
       "      <td>True</td>\n",
       "    </tr>\n",
       "    <tr>\n",
       "      <td>4</td>\n",
       "      <td>Trump wants Postal Service to charge 'much mor...</td>\n",
       "      <td>SEATTLE/WASHINGTON (Reuters) - President Donal...</td>\n",
       "      <td>True</td>\n",
       "    </tr>\n",
       "  </tbody>\n",
       "</table>\n",
       "</div>"
      ],
      "text/plain": [
       "                                               title  \\\n",
       "0  As U.S. budget fight looms, Republicans flip t...   \n",
       "1  U.S. military to accept transgender recruits o...   \n",
       "2  Senior U.S. Republican senator: 'Let Mr. Muell...   \n",
       "3  FBI Russia probe helped by Australian diplomat...   \n",
       "4  Trump wants Postal Service to charge 'much mor...   \n",
       "\n",
       "                                                text  news_type  \n",
       "0  WASHINGTON (Reuters) - The head of a conservat...       True  \n",
       "1  WASHINGTON (Reuters) - Transgender people will...       True  \n",
       "2  WASHINGTON (Reuters) - The special counsel inv...       True  \n",
       "3  WASHINGTON (Reuters) - Trump campaign adviser ...       True  \n",
       "4  SEATTLE/WASHINGTON (Reuters) - President Donal...       True  "
      ]
     },
     "execution_count": 2,
     "metadata": {},
     "output_type": "execute_result"
    }
   ],
   "source": [
    "df_true = pd.read_csv(\"True.csv\")[[\"title\", \"text\"]]\n",
    "df_true[\"news_type\"] = np.repeat(True, len(df_true))\n",
    "df_true.head()"
   ]
  },
  {
   "cell_type": "markdown",
   "id": "9fc7e85a",
   "metadata": {},
   "source": [
    "b)\tUpload the Fake.csv data provided on canvas into Python. You will create a new data frame by selecting the “title” and “text” columns, then, adding a new column called “news_type” where all the values on this new column are “Fake”. So, your new data frame should have three columns; “title”, “text” and “news_type”."
   ]
  },
  {
   "cell_type": "code",
   "execution_count": 3,
   "id": "0bf666e1",
   "metadata": {},
   "outputs": [
    {
     "data": {
      "text/html": [
       "<div>\n",
       "<style scoped>\n",
       "    .dataframe tbody tr th:only-of-type {\n",
       "        vertical-align: middle;\n",
       "    }\n",
       "\n",
       "    .dataframe tbody tr th {\n",
       "        vertical-align: top;\n",
       "    }\n",
       "\n",
       "    .dataframe thead th {\n",
       "        text-align: right;\n",
       "    }\n",
       "</style>\n",
       "<table border=\"1\" class=\"dataframe\">\n",
       "  <thead>\n",
       "    <tr style=\"text-align: right;\">\n",
       "      <th></th>\n",
       "      <th>title</th>\n",
       "      <th>text</th>\n",
       "      <th>news_type</th>\n",
       "    </tr>\n",
       "  </thead>\n",
       "  <tbody>\n",
       "    <tr>\n",
       "      <td>0</td>\n",
       "      <td>Donald Trump Sends Out Embarrassing New Year’...</td>\n",
       "      <td>Donald Trump just couldn t wish all Americans ...</td>\n",
       "      <td>False</td>\n",
       "    </tr>\n",
       "    <tr>\n",
       "      <td>1</td>\n",
       "      <td>Drunk Bragging Trump Staffer Started Russian ...</td>\n",
       "      <td>House Intelligence Committee Chairman Devin Nu...</td>\n",
       "      <td>False</td>\n",
       "    </tr>\n",
       "    <tr>\n",
       "      <td>2</td>\n",
       "      <td>Sheriff David Clarke Becomes An Internet Joke...</td>\n",
       "      <td>On Friday, it was revealed that former Milwauk...</td>\n",
       "      <td>False</td>\n",
       "    </tr>\n",
       "    <tr>\n",
       "      <td>3</td>\n",
       "      <td>Trump Is So Obsessed He Even Has Obama’s Name...</td>\n",
       "      <td>On Christmas day, Donald Trump announced that ...</td>\n",
       "      <td>False</td>\n",
       "    </tr>\n",
       "    <tr>\n",
       "      <td>4</td>\n",
       "      <td>Pope Francis Just Called Out Donald Trump Dur...</td>\n",
       "      <td>Pope Francis used his annual Christmas Day mes...</td>\n",
       "      <td>False</td>\n",
       "    </tr>\n",
       "  </tbody>\n",
       "</table>\n",
       "</div>"
      ],
      "text/plain": [
       "                                               title  \\\n",
       "0   Donald Trump Sends Out Embarrassing New Year’...   \n",
       "1   Drunk Bragging Trump Staffer Started Russian ...   \n",
       "2   Sheriff David Clarke Becomes An Internet Joke...   \n",
       "3   Trump Is So Obsessed He Even Has Obama’s Name...   \n",
       "4   Pope Francis Just Called Out Donald Trump Dur...   \n",
       "\n",
       "                                                text  news_type  \n",
       "0  Donald Trump just couldn t wish all Americans ...      False  \n",
       "1  House Intelligence Committee Chairman Devin Nu...      False  \n",
       "2  On Friday, it was revealed that former Milwauk...      False  \n",
       "3  On Christmas day, Donald Trump announced that ...      False  \n",
       "4  Pope Francis used his annual Christmas Day mes...      False  "
      ]
     },
     "execution_count": 3,
     "metadata": {},
     "output_type": "execute_result"
    }
   ],
   "source": [
    "df_fake = pd.read_csv(\"Fake.csv\")[[\"title\", \"text\"]]\n",
    "df_fake[\"news_type\"] = np.repeat(False, len(df_fake))\n",
    "df_fake.head()"
   ]
  },
  {
   "cell_type": "markdown",
   "id": "6620de42",
   "metadata": {},
   "source": [
    "c)\tMerge the data frame in a) and b) so that one of the data frames is stacked vertically on top of the other. Combine the text in the “title” and “text” columns of the merged data frame into another column called “news”. Drop the “title” and “text” columns so that your final data frame is has only two columns, “news” and “news_type”. Print the first five rows of your final data frame. "
   ]
  },
  {
   "cell_type": "code",
   "execution_count": 30,
   "id": "ab1093c1",
   "metadata": {},
   "outputs": [
    {
     "data": {
      "text/html": [
       "<div>\n",
       "<style scoped>\n",
       "    .dataframe tbody tr th:only-of-type {\n",
       "        vertical-align: middle;\n",
       "    }\n",
       "\n",
       "    .dataframe tbody tr th {\n",
       "        vertical-align: top;\n",
       "    }\n",
       "\n",
       "    .dataframe thead th {\n",
       "        text-align: right;\n",
       "    }\n",
       "</style>\n",
       "<table border=\"1\" class=\"dataframe\">\n",
       "  <thead>\n",
       "    <tr style=\"text-align: right;\">\n",
       "      <th></th>\n",
       "      <th>news_type</th>\n",
       "      <th>news</th>\n",
       "    </tr>\n",
       "  </thead>\n",
       "  <tbody>\n",
       "    <tr>\n",
       "      <td>0</td>\n",
       "      <td>True</td>\n",
       "      <td>As U.S. budget fight looms, Republicans flip t...</td>\n",
       "    </tr>\n",
       "    <tr>\n",
       "      <td>1</td>\n",
       "      <td>True</td>\n",
       "      <td>U.S. military to accept transgender recruits o...</td>\n",
       "    </tr>\n",
       "    <tr>\n",
       "      <td>2</td>\n",
       "      <td>True</td>\n",
       "      <td>Senior U.S. Republican senator: 'Let Mr. Muell...</td>\n",
       "    </tr>\n",
       "    <tr>\n",
       "      <td>3</td>\n",
       "      <td>True</td>\n",
       "      <td>FBI Russia probe helped by Australian diplomat...</td>\n",
       "    </tr>\n",
       "    <tr>\n",
       "      <td>4</td>\n",
       "      <td>True</td>\n",
       "      <td>Trump wants Postal Service to charge 'much mor...</td>\n",
       "    </tr>\n",
       "  </tbody>\n",
       "</table>\n",
       "</div>"
      ],
      "text/plain": [
       "   news_type                                               news\n",
       "0       True  As U.S. budget fight looms, Republicans flip t...\n",
       "1       True  U.S. military to accept transgender recruits o...\n",
       "2       True  Senior U.S. Republican senator: 'Let Mr. Muell...\n",
       "3       True  FBI Russia probe helped by Australian diplomat...\n",
       "4       True  Trump wants Postal Service to charge 'much mor..."
      ]
     },
     "execution_count": 30,
     "metadata": {},
     "output_type": "execute_result"
    }
   ],
   "source": [
    "# Combine the True and Fake dataframes\n",
    "df_full = pd.concat([df_true, df_fake], ignore_index=True)\n",
    "# Create a \"news\" column\n",
    "df_full[\"news\"] = df_full[\"title\"] + \" \" + df_full[\"text\"]\n",
    "# Drop the \"title\" and \"text\" dataframes\n",
    "df_full.drop([\"title\", \"text\"], axis=1, inplace=True)\n",
    "df_full.head()"
   ]
  },
  {
   "cell_type": "markdown",
   "id": "66f79c19",
   "metadata": {},
   "source": [
    "d)\tPreprocess your data by cleaning the textual data in the “news” column and removing the stop words, special characters, punctuations, etc especially at the beginning and end of each word. You can display any messy news text before you clean the data, then display the messy news text again after cleaning the data to see if your data cleaning worked well. Also, drop instances where the news text is less than 50 words. "
   ]
  },
  {
   "cell_type": "code",
   "execution_count": 31,
   "id": "f71764ce",
   "metadata": {},
   "outputs": [
    {
     "data": {
      "text/plain": [
       "'As U.S. budget fight looms, Republicans flip their fiscal script WASHINGTON (Reuters) - The head of a conservative Republican faction in the U.S. Congress, who voted this month for a huge expansion of the national debt to pay for tax cuts, called himself a “fiscal conservative” on Sunday and urged budget restraint in 2018. In keeping with a sharp pivot under way among Republicans, U.S. Representative Mark Meadows, speaking on CBS’ “Face the Nation,” drew a hard line on federal spending, which lawmakers are bracing to do battle over in January. When they return from the holidays on Wednesday, lawmakers will begin trying to pass a federal budget in a fight likely to be linked to other issues, such as immigration policy, even as the November congressional election campaigns approach in which Republicans will seek to keep control of Congress. President Donald Trump and his Republicans want a big budget increase in military spending, while Democrats also want proportional increases for non-defense “discretionary” spending on programs that support education, scientific research, infrastructure, public health and environmental protection. “The (Trump) administration has already been willing to say: ‘We’re going to increase non-defense discretionary spending ... by about 7 percent,’” Meadows, chairman of the small but influential House Freedom Caucus, said on the program. “Now, Democrats are saying that’s not enough, we need to give the government a pay raise of 10 to 11 percent. For a fiscal conservative, I don’t see where the rationale is. ... Eventually you run out of other people’s money,” he said. Meadows was among Republicans who voted in late December for their party’s debt-financed tax overhaul, which is expected to balloon the federal budget deficit and add about $1.5 trillion over 10 years to the $20 trillion national debt. “It’s interesting to hear Mark talk about fiscal responsibility,” Democratic U.S. Representative Joseph Crowley said on CBS. Crowley said the Republican tax bill would require the  United States to borrow $1.5 trillion, to be paid off by future generations, to finance tax cuts for corporations and the rich. “This is one of the least ... fiscally responsible bills we’ve ever seen passed in the history of the House of Representatives. I think we’re going to be paying for this for many, many years to come,” Crowley said. Republicans insist the tax package, the biggest U.S. tax overhaul in more than 30 years,  will boost the economy and job growth. House Speaker Paul Ryan, who also supported the tax bill, recently went further than Meadows, making clear in a radio interview that welfare or “entitlement reform,” as the party often calls it, would be a top Republican priority in 2018. In Republican parlance, “entitlement” programs mean food stamps, housing assistance, Medicare and Medicaid health insurance for the elderly, poor and disabled, as well as other programs created by Washington to assist the needy. Democrats seized on Ryan’s early December remarks, saying they showed Republicans would try to pay for their tax overhaul by seeking spending cuts for social programs. But the goals of House Republicans may have to take a back seat to the Senate, where the votes of some Democrats will be needed to approve a budget and prevent a government shutdown. Democrats will use their leverage in the Senate, which Republicans narrowly control, to defend both discretionary non-defense programs and social spending, while tackling the issue of the “Dreamers,” people brought illegally to the country as children. Trump in September put a March 2018 expiration date on the Deferred Action for Childhood Arrivals, or DACA, program, which protects the young immigrants from deportation and provides them with work permits. The president has said in recent Twitter messages he wants funding for his proposed Mexican border wall and other immigration law changes in exchange for agreeing to help the Dreamers. Representative Debbie Dingell told CBS she did not favor linking that issue to other policy objectives, such as wall funding. “We need to do DACA clean,” she said.  On Wednesday, Trump aides will meet with congressional leaders to discuss those issues. That will be followed by a weekend of strategy sessions for Trump and Republican leaders on Jan. 6 and 7, the White House said. Trump was also scheduled to meet on Sunday with Florida Republican Governor Rick Scott, who wants more emergency aid. The House has passed an $81 billion aid package after hurricanes in Florida, Texas and Puerto Rico, and wildfires in California. The package far exceeded the $44 billion requested by the Trump administration. The Senate has not yet voted on the aid. '"
      ]
     },
     "execution_count": 31,
     "metadata": {},
     "output_type": "execute_result"
    }
   ],
   "source": [
    "# Display the first news source\n",
    "df_full.iloc[0][\"news\"]"
   ]
  },
  {
   "cell_type": "code",
   "execution_count": 32,
   "id": "e4dae710",
   "metadata": {},
   "outputs": [],
   "source": [
    "# Clean the \"news\" column\n",
    "# Convert everything to lowercase\n",
    "df_full[\"news\"] = df_full[\"news\"].apply(lambda x: x.lower())\n",
    "# Remove punctuation and special characters\n",
    "df_full[\"news\"] = df_full[\"news\"].apply(lambda x: re.sub(r\"[^\\w\\s]\", \"\", x))\n",
    "# Remove stopwords\n",
    "cachedStopWords = stopwords.words(\"english\")\n",
    "df_full[\"news\"] = df_full[\"news\"].apply(lambda x: \" \".join([word for word in x.split() if word not in cachedStopWords]))\n",
    "# Drop rows where \"news\" has less than 50 words long\n",
    "df_full = df_full.loc[df_full[\"news\"].apply(lambda x: len(x.split())) >= 50]"
   ]
  },
  {
   "cell_type": "code",
   "execution_count": 33,
   "id": "6a1a5ece",
   "metadata": {},
   "outputs": [
    {
     "data": {
      "text/plain": [
       "'us budget fight looms republicans flip fiscal script washington reuters head conservative republican faction us congress voted month huge expansion national debt pay tax cuts called fiscal conservative sunday urged budget restraint 2018 keeping sharp pivot way among republicans us representative mark meadows speaking cbs face nation drew hard line federal spending lawmakers bracing battle january return holidays wednesday lawmakers begin trying pass federal budget fight likely linked issues immigration policy even november congressional election campaigns approach republicans seek keep control congress president donald trump republicans want big budget increase military spending democrats also want proportional increases nondefense discretionary spending programs support education scientific research infrastructure public health environmental protection trump administration already willing say going increase nondefense discretionary spending 7 percent meadows chairman small influential house freedom caucus said program democrats saying thats enough need give government pay raise 10 11 percent fiscal conservative dont see rationale eventually run peoples money said meadows among republicans voted late december partys debtfinanced tax overhaul expected balloon federal budget deficit add 15 trillion 10 years 20 trillion national debt interesting hear mark talk fiscal responsibility democratic us representative joseph crowley said cbs crowley said republican tax bill would require united states borrow 15 trillion paid future generations finance tax cuts corporations rich one least fiscally responsible bills weve ever seen passed history house representatives think going paying many many years come crowley said republicans insist tax package biggest us tax overhaul 30 years boost economy job growth house speaker paul ryan also supported tax bill recently went meadows making clear radio interview welfare entitlement reform party often calls would top republican priority 2018 republican parlance entitlement programs mean food stamps housing assistance medicare medicaid health insurance elderly poor disabled well programs created washington assist needy democrats seized ryans early december remarks saying showed republicans would try pay tax overhaul seeking spending cuts social programs goals house republicans may take back seat senate votes democrats needed approve budget prevent government shutdown democrats use leverage senate republicans narrowly control defend discretionary nondefense programs social spending tackling issue dreamers people brought illegally country children trump september put march 2018 expiration date deferred action childhood arrivals daca program protects young immigrants deportation provides work permits president said recent twitter messages wants funding proposed mexican border wall immigration law changes exchange agreeing help dreamers representative debbie dingell told cbs favor linking issue policy objectives wall funding need daca clean said wednesday trump aides meet congressional leaders discuss issues followed weekend strategy sessions trump republican leaders jan 6 7 white house said trump also scheduled meet sunday florida republican governor rick scott wants emergency aid house passed 81 billion aid package hurricanes florida texas puerto rico wildfires california package far exceeded 44 billion requested trump administration senate yet voted aid'"
      ]
     },
     "execution_count": 33,
     "metadata": {},
     "output_type": "execute_result"
    }
   ],
   "source": [
    "# Display the first news source, after cleaning\n",
    "df_full.iloc[0][\"news\"]"
   ]
  },
  {
   "cell_type": "markdown",
   "id": "78e90ade",
   "metadata": {},
   "source": [
    "e)\tTransform the input text data into feature vectors where the entries of the feature vectors are term-frequency-inverse-document-frequency. Use the TfidfVectorizer() in sklearn. "
   ]
  },
  {
   "cell_type": "code",
   "execution_count": 36,
   "id": "f757edf2",
   "metadata": {},
   "outputs": [],
   "source": [
    "# Create the vectorizer\n",
    "vectorizer = TfidfVectorizer()\n",
    "# Fit the vectorizer to the news data\n",
    "news_tfidf = vectorizer.fit_transform(df_full[\"news\"])"
   ]
  },
  {
   "cell_type": "markdown",
   "id": "6fe03720",
   "metadata": {},
   "source": [
    "f)\tSpit the feature vectors and the output variable into into X_train, y_train, X_test and y_test, you can let the test set be 30% of the entire data. "
   ]
  },
  {
   "cell_type": "code",
   "execution_count": 40,
   "id": "fa115698",
   "metadata": {},
   "outputs": [
    {
     "name": "stdout",
     "output_type": "stream",
     "text": [
      "(29153, 230065)\n",
      "(29153,)\n",
      "(12495, 230065)\n",
      "(12495,)\n"
     ]
    }
   ],
   "source": [
    "X_train, X_test, y_train, y_test = train_test_split(news_tfidf, df_full[\"news_type\"], test_size=0.3, random_state=42)\n",
    "\n",
    "print(X_train.shape)\n",
    "print(y_train.shape)\n",
    "print(X_test.shape)\n",
    "print(y_test.shape)"
   ]
  },
  {
   "cell_type": "markdown",
   "id": "40fe15db",
   "metadata": {},
   "source": [
    "g)\tFit an appropriate Naïve Bayes model and compute the training and test accuracy of the model. Is there overfitting?"
   ]
  },
  {
   "cell_type": "code",
   "execution_count": 42,
   "id": "df1fd058",
   "metadata": {},
   "outputs": [
    {
     "name": "stdout",
     "output_type": "stream",
     "text": [
      "Accuracy on the training set: 0.9528350427057249\n",
      "Accuracy on the test set: 0.9408563425370148\n"
     ]
    }
   ],
   "source": [
    "# Create a multinomial naive bayes model and fit to the tfidf feature vectors\n",
    "news_nb = MultinomialNB()\n",
    "news_nb.fit(X_train, y_train)\n",
    "# Compute the training accuracy\n",
    "news_train_preds = news_nb.predict(X_train)\n",
    "print(\"Accuracy on the training set:\", accuracy_score(y_train, news_train_preds))\n",
    "# Compute the accuracy on the test set\n",
    "news_test_preds = news_nb.predict(X_test)\n",
    "print(\"Accuracy on the test set:\", accuracy_score(y_test, news_test_preds))"
   ]
  },
  {
   "cell_type": "markdown",
   "id": "112ca8af",
   "metadata": {},
   "source": [
    "h)\tFit a Naïve Bayes using cross validation and print the average cross validation score as well as the standard deviation of the cross-validation scores."
   ]
  },
  {
   "cell_type": "code",
   "execution_count": 45,
   "id": "9e270f7d",
   "metadata": {},
   "outputs": [
    {
     "name": "stdout",
     "output_type": "stream",
     "text": [
      "Average cross-validation score: 0.9413782430394357\n",
      "Standard Deviation of cross-validation scores: 0.0006981776530629557\n"
     ]
    }
   ],
   "source": [
    "# Use cross-validation to calculate multiple scores\n",
    "cv_scores = cross_val_score(news_nb, X_train, y_train)\n",
    "print(\"Average cross-validation score:\", np.mean(cv_scores))\n",
    "print(\"Standard Deviation of cross-validation scores:\", np.std(cv_scores))"
   ]
  },
  {
   "cell_type": "markdown",
   "id": "937dfeaa",
   "metadata": {},
   "source": [
    "i)\tSelect some hypermeters of your choice and tune using the grid search cross validation. Use some other hyperparameters than those used in class examples. "
   ]
  },
  {
   "cell_type": "code",
   "execution_count": 51,
   "id": "e26e736f",
   "metadata": {},
   "outputs": [
    {
     "name": "stdout",
     "output_type": "stream",
     "text": [
      "MultinomialNB(alpha=0.05)\n"
     ]
    }
   ],
   "source": [
    "# Set parameters of the grid search\n",
    "param_grid = {\"alpha\": np.arange(0.05, 1.2, 0.2),\n",
    "               \"fit_prior\": [True, False]}\n",
    "# Fit the gridsearch model\n",
    "grid = GridSearchCV(MultinomialNB(), param_grid).fit(X_train, y_train)\n",
    "# Print the best model\n",
    "print(grid.best_estimator_)"
   ]
  },
  {
   "cell_type": "code",
   "execution_count": 52,
   "id": "8abb4cdb",
   "metadata": {},
   "outputs": [
    {
     "name": "stdout",
     "output_type": "stream",
     "text": [
      "0.9534867257366069\n"
     ]
    }
   ],
   "source": [
    "# Determine the accuracy of the best model\n",
    "print(grid.best_score_)"
   ]
  },
  {
   "cell_type": "markdown",
   "id": "e39052e5",
   "metadata": {},
   "source": [
    "4. \n",
    "\n",
    "Mini Project\n",
    "Find some text data of your own choice, it could be labelled tweets, etc. \n",
    "Your dataset should have at least 200 instances, and if there are several columns of text, you can choose to merge the text columns into a single text column. Each text instance should have at least 60 words. \n",
    "Clean the data, split the data, transform the data to a representation suitable for your algorithm, build your model and evaluate the model. Tune some parameters of interest and write a short report about what problem your mini project is trying to address, the description of your data, the choice of algorithm used, the performance of your algorithm, overfitting, the choice of hyperparameters tunned, then your recommendation or conclusion (imagine you were trying to recommend this algorithm to a stakeholder, and you need this report to include important and persuasive elements). Your report could be in one or two paragraphs and should include relevant code and output at the end. \n"
   ]
  },
  {
   "cell_type": "code",
   "execution_count": 82,
   "id": "499b8ebb",
   "metadata": {},
   "outputs": [
    {
     "data": {
      "text/html": [
       "<div>\n",
       "<style scoped>\n",
       "    .dataframe tbody tr th:only-of-type {\n",
       "        vertical-align: middle;\n",
       "    }\n",
       "\n",
       "    .dataframe tbody tr th {\n",
       "        vertical-align: top;\n",
       "    }\n",
       "\n",
       "    .dataframe thead th {\n",
       "        text-align: right;\n",
       "    }\n",
       "</style>\n",
       "<table border=\"1\" class=\"dataframe\">\n",
       "  <thead>\n",
       "    <tr style=\"text-align: right;\">\n",
       "      <th></th>\n",
       "      <th>label</th>\n",
       "      <th>text</th>\n",
       "    </tr>\n",
       "  </thead>\n",
       "  <tbody>\n",
       "    <tr>\n",
       "      <td>0</td>\n",
       "      <td>ham</td>\n",
       "      <td>Go until jurong point, crazy.. Available only ...</td>\n",
       "    </tr>\n",
       "    <tr>\n",
       "      <td>1</td>\n",
       "      <td>ham</td>\n",
       "      <td>Ok lar... Joking wif u oni...</td>\n",
       "    </tr>\n",
       "    <tr>\n",
       "      <td>2</td>\n",
       "      <td>spam</td>\n",
       "      <td>Free entry in 2 a wkly comp to win FA Cup fina...</td>\n",
       "    </tr>\n",
       "    <tr>\n",
       "      <td>3</td>\n",
       "      <td>ham</td>\n",
       "      <td>U dun say so early hor... U c already then say...</td>\n",
       "    </tr>\n",
       "    <tr>\n",
       "      <td>4</td>\n",
       "      <td>ham</td>\n",
       "      <td>Nah I don't think he goes to usf, he lives aro...</td>\n",
       "    </tr>\n",
       "  </tbody>\n",
       "</table>\n",
       "</div>"
      ],
      "text/plain": [
       "  label                                               text\n",
       "0   ham  Go until jurong point, crazy.. Available only ...\n",
       "1   ham                      Ok lar... Joking wif u oni...\n",
       "2  spam  Free entry in 2 a wkly comp to win FA Cup fina...\n",
       "3   ham  U dun say so early hor... U c already then say...\n",
       "4   ham  Nah I don't think he goes to usf, he lives aro..."
      ]
     },
     "execution_count": 82,
     "metadata": {},
     "output_type": "execute_result"
    }
   ],
   "source": [
    "# Load the Spam vs Ham dataset\n",
    "df = pd.read_csv(\"spam.csv\", encoding='ISO-8859-1')\n",
    "# Remove unneeded columns\n",
    "df.drop([\"Unnamed: 2\", \"Unnamed: 3\", \"Unnamed: 4\"], axis=1, inplace=True)\n",
    "# Rename columns\n",
    "df.columns = [\"label\", \"text\"]\n",
    "df.head()"
   ]
  },
  {
   "cell_type": "code",
   "execution_count": 84,
   "id": "23b97d81",
   "metadata": {},
   "outputs": [
    {
     "data": {
      "text/html": [
       "<div>\n",
       "<style scoped>\n",
       "    .dataframe tbody tr th:only-of-type {\n",
       "        vertical-align: middle;\n",
       "    }\n",
       "\n",
       "    .dataframe tbody tr th {\n",
       "        vertical-align: top;\n",
       "    }\n",
       "\n",
       "    .dataframe thead th {\n",
       "        text-align: right;\n",
       "    }\n",
       "</style>\n",
       "<table border=\"1\" class=\"dataframe\">\n",
       "  <thead>\n",
       "    <tr style=\"text-align: right;\">\n",
       "      <th></th>\n",
       "      <th>label</th>\n",
       "      <th>text</th>\n",
       "    </tr>\n",
       "  </thead>\n",
       "  <tbody>\n",
       "    <tr>\n",
       "      <td>0</td>\n",
       "      <td>ham</td>\n",
       "      <td>go jurong point crazy available bugis n great ...</td>\n",
       "    </tr>\n",
       "    <tr>\n",
       "      <td>1</td>\n",
       "      <td>ham</td>\n",
       "      <td>ok lar joking wif u oni</td>\n",
       "    </tr>\n",
       "    <tr>\n",
       "      <td>2</td>\n",
       "      <td>spam</td>\n",
       "      <td>free entry 2 wkly comp win fa cup final tkts 2...</td>\n",
       "    </tr>\n",
       "    <tr>\n",
       "      <td>3</td>\n",
       "      <td>ham</td>\n",
       "      <td>u dun say early hor u c already say</td>\n",
       "    </tr>\n",
       "    <tr>\n",
       "      <td>4</td>\n",
       "      <td>ham</td>\n",
       "      <td>nah dont think goes usf lives around though</td>\n",
       "    </tr>\n",
       "  </tbody>\n",
       "</table>\n",
       "</div>"
      ],
      "text/plain": [
       "  label                                               text\n",
       "0   ham  go jurong point crazy available bugis n great ...\n",
       "1   ham                            ok lar joking wif u oni\n",
       "2  spam  free entry 2 wkly comp win fa cup final tkts 2...\n",
       "3   ham                u dun say early hor u c already say\n",
       "4   ham        nah dont think goes usf lives around though"
      ]
     },
     "execution_count": 84,
     "metadata": {},
     "output_type": "execute_result"
    }
   ],
   "source": [
    "# Clean the data\n",
    "# Remove trailing and leading whitespace, then convert everything to lowercase\n",
    "df[\"text\"] = df[\"text\"].apply(lambda x: x.strip().lower())\n",
    "# Remove punctuation and special characters\n",
    "df[\"text\"] = df[\"text\"].apply(lambda x: re.sub(r\"[^\\w ]\", \"\", x))\n",
    "# Remove stopwords\n",
    "cachedStopWords = stopwords.words(\"english\")\n",
    "df[\"text\"] = df[\"text\"].apply(lambda x: \" \".join([word for word in x.split() if word not in cachedStopWords]))\n",
    "df.head()"
   ]
  },
  {
   "cell_type": "code",
   "execution_count": 77,
   "id": "fb5c6ad1",
   "metadata": {},
   "outputs": [],
   "source": [
    "# Convert the text data to tfidf data\n",
    "vectorizer = TfidfVectorizer()\n",
    "text_tfidf = vectorizer.fit_transform(df[\"text\"])"
   ]
  },
  {
   "cell_type": "code",
   "execution_count": 78,
   "id": "9f95e151",
   "metadata": {},
   "outputs": [
    {
     "name": "stdout",
     "output_type": "stream",
     "text": [
      "(4457, 9404)\n",
      "(4457,)\n",
      "(1115, 9404)\n",
      "(1115,)\n"
     ]
    }
   ],
   "source": [
    "# Split the data into training and test sets\n",
    "X_train, X_test, y_train, y_test = train_test_split(text_tfidf, df[\"label\"], test_size=0.2, random_state=42)\n",
    "\n",
    "print(X_train.shape)\n",
    "print(y_train.shape)\n",
    "print(X_test.shape)\n",
    "print(y_test.shape)"
   ]
  },
  {
   "cell_type": "code",
   "execution_count": 79,
   "id": "aa6cf3e6",
   "metadata": {},
   "outputs": [],
   "source": [
    "# Fit a Naive Bayes algorithm to the text tfidf data\n",
    "nb_clf = MultinomialNB()\n",
    "# Use a grid search to find the optimal parameters\n",
    "param_grid = {\"alpha\": np.arange(0.05, 1.2, 0.05)}\n",
    "grid = GridSearchCV(nb_clf, param_grid).fit(X_train, y_train)\n",
    "# Find the best model from the gridsearch\n",
    "best_nb = grid.best_estimator_"
   ]
  },
  {
   "cell_type": "code",
   "execution_count": 81,
   "id": "816e242c",
   "metadata": {},
   "outputs": [
    {
     "name": "stdout",
     "output_type": "stream",
     "text": [
      "Accuracy on the training set: 0.9955126766883554\n",
      "Accuracy on the test set: 0.9838565022421525\n"
     ]
    }
   ],
   "source": [
    "# Find the accuracy on the training and test sets\n",
    "# Training set\n",
    "train_preds = best_nb.predict(X_train)\n",
    "print(\"Accuracy on the training set:\", accuracy_score(y_train, train_preds))\n",
    "# Test set\n",
    "test_preds = best_nb.predict(X_test)\n",
    "print(\"Accuracy on the test set:\", accuracy_score(y_test, test_preds))"
   ]
  },
  {
   "cell_type": "code",
   "execution_count": 90,
   "id": "2252bc9f",
   "metadata": {},
   "outputs": [
    {
     "name": "stdout",
     "output_type": "stream",
     "text": [
      "F1 score on the training set: 0.9974160206718347\n",
      "F1 score on the test set: 0.9907407407407408\n"
     ]
    }
   ],
   "source": [
    "# Find the f1 score of the training and test se\n",
    "print(\"F1 score on the training set:\", f1_score(y_train, train_preds, pos_label=\"ham\"))\n",
    "print(\"F1 score on the test set:\", f1_score(y_test, test_preds, pos_label=\"ham\"))"
   ]
  }
 ],
 "metadata": {
  "kernelspec": {
   "display_name": "Python 3",
   "language": "python",
   "name": "python3"
  },
  "language_info": {
   "codemirror_mode": {
    "name": "ipython",
    "version": 3
   },
   "file_extension": ".py",
   "mimetype": "text/x-python",
   "name": "python",
   "nbconvert_exporter": "python",
   "pygments_lexer": "ipython3",
   "version": "3.6.9"
  }
 },
 "nbformat": 4,
 "nbformat_minor": 5
}
