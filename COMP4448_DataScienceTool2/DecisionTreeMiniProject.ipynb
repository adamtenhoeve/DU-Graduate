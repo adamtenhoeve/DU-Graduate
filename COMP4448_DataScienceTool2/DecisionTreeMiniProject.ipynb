{
 "cells": [
  {
   "cell_type": "markdown",
   "id": "a5f05738",
   "metadata": {},
   "source": [
    "# Mini Project: Decision Trees\n",
    "\n",
    "Written by Adam Ten Hoeve  \n",
    "COMP 4448: Data Science Tools 2  \n",
    "Summer 2021"
   ]
  },
  {
   "cell_type": "code",
   "execution_count": 15,
   "id": "8839a6c5",
   "metadata": {},
   "outputs": [],
   "source": [
    "# Load necesary libraries\n",
    "import numpy as np\n",
    "import pandas as pd\n",
    "\n",
    "from sklearn.preprocessing import MinMaxScaler\n",
    "from sklearn.model_selection import train_test_split, GridSearchCV\n",
    "from sklearn.tree import DecisionTreeClassifier\n",
    "from sklearn.ensemble import RandomForestClassifier\n",
    "from sklearn.metrics import accuracy_score"
   ]
  },
  {
   "cell_type": "markdown",
   "id": "188cf4a1",
   "metadata": {},
   "source": [
    "Find your own dataset suitable for classification with at least three input variables and 200 cases: You will build a decision tree classifier and a random forest classifier. Find some interesting dataset instead of the popular iris data, etc. \n",
    "\n",
    "Address the following and include code/output snippets from b) to f). Include the response under each sub question. \n",
    "1.\tState your research question, for example: Are decision trees and random forest good models for predicting whether someone will default on a loan or not based on their age and income level? This is just an example, your dataset does not have to be (or should not be) about loans. \n",
    "2.\tData pre-processing (to the extent deemed necessary)\n",
    "3.\tData splitting \n",
    "4.\tModel construction (a decision tree and a random forest)\n",
    "5.\tHyperparameter turning (for each model, tune the hyperparameter that is important to you and use any of the methods for hyperparameter tuning learned in class such as cross validation with for loop, gridsearch cross validation, etc. You could tune more than a single parameter for each model if you want). \n",
    "6.\tUse the best or optimal parameter values to build a model, then compute the accuracy score for the decision tree and for the random forest). \n",
    "7.\tDiscuss about overfitting for both models and, also discuss which model is better for classification for your dataset and why? "
   ]
  },
  {
   "cell_type": "code",
   "execution_count": 3,
   "id": "8667550a",
   "metadata": {},
   "outputs": [
    {
     "data": {
      "text/html": [
       "<div>\n",
       "<style scoped>\n",
       "    .dataframe tbody tr th:only-of-type {\n",
       "        vertical-align: middle;\n",
       "    }\n",
       "\n",
       "    .dataframe tbody tr th {\n",
       "        vertical-align: top;\n",
       "    }\n",
       "\n",
       "    .dataframe thead th {\n",
       "        text-align: right;\n",
       "    }\n",
       "</style>\n",
       "<table border=\"1\" class=\"dataframe\">\n",
       "  <thead>\n",
       "    <tr style=\"text-align: right;\">\n",
       "      <th></th>\n",
       "      <th>smoker</th>\n",
       "      <th>ban</th>\n",
       "      <th>age</th>\n",
       "      <th>education</th>\n",
       "      <th>afam</th>\n",
       "      <th>hispanic</th>\n",
       "      <th>gender</th>\n",
       "    </tr>\n",
       "  </thead>\n",
       "  <tbody>\n",
       "    <tr>\n",
       "      <td>0</td>\n",
       "      <td>yes</td>\n",
       "      <td>yes</td>\n",
       "      <td>41</td>\n",
       "      <td>hs</td>\n",
       "      <td>no</td>\n",
       "      <td>no</td>\n",
       "      <td>female</td>\n",
       "    </tr>\n",
       "    <tr>\n",
       "      <td>1</td>\n",
       "      <td>yes</td>\n",
       "      <td>yes</td>\n",
       "      <td>44</td>\n",
       "      <td>some college</td>\n",
       "      <td>no</td>\n",
       "      <td>no</td>\n",
       "      <td>female</td>\n",
       "    </tr>\n",
       "    <tr>\n",
       "      <td>2</td>\n",
       "      <td>no</td>\n",
       "      <td>no</td>\n",
       "      <td>19</td>\n",
       "      <td>some college</td>\n",
       "      <td>no</td>\n",
       "      <td>no</td>\n",
       "      <td>female</td>\n",
       "    </tr>\n",
       "    <tr>\n",
       "      <td>3</td>\n",
       "      <td>yes</td>\n",
       "      <td>no</td>\n",
       "      <td>29</td>\n",
       "      <td>hs</td>\n",
       "      <td>no</td>\n",
       "      <td>no</td>\n",
       "      <td>female</td>\n",
       "    </tr>\n",
       "    <tr>\n",
       "      <td>4</td>\n",
       "      <td>no</td>\n",
       "      <td>yes</td>\n",
       "      <td>28</td>\n",
       "      <td>some college</td>\n",
       "      <td>no</td>\n",
       "      <td>no</td>\n",
       "      <td>female</td>\n",
       "    </tr>\n",
       "  </tbody>\n",
       "</table>\n",
       "</div>"
      ],
      "text/plain": [
       "  smoker  ban  age     education afam hispanic  gender\n",
       "0    yes  yes   41            hs   no       no  female\n",
       "1    yes  yes   44  some college   no       no  female\n",
       "2     no   no   19  some college   no       no  female\n",
       "3    yes   no   29            hs   no       no  female\n",
       "4     no  yes   28  some college   no       no  female"
      ]
     },
     "execution_count": 3,
     "metadata": {},
     "output_type": "execute_result"
    }
   ],
   "source": [
    "# Load in the smoking data\n",
    "df_smoking = pd.read_csv(\"SmokeBan.csv\")\n",
    "# Drop the extra index column\n",
    "df_smoking.drop(\"Unnamed: 0\", axis=1, inplace=True)\n",
    "df_smoking.head()"
   ]
  },
  {
   "cell_type": "code",
   "execution_count": 4,
   "id": "c9c1edf3",
   "metadata": {},
   "outputs": [
    {
     "data": {
      "text/plain": [
       "smoker       0\n",
       "ban          0\n",
       "age          0\n",
       "education    0\n",
       "afam         0\n",
       "hispanic     0\n",
       "gender       0\n",
       "dtype: int64"
      ]
     },
     "execution_count": 4,
     "metadata": {},
     "output_type": "execute_result"
    }
   ],
   "source": [
    "# Check for missing values\n",
    "np.sum(df_smoking.isna(), axis=0)"
   ]
  },
  {
   "cell_type": "code",
   "execution_count": 7,
   "id": "346870ab",
   "metadata": {},
   "outputs": [
    {
     "data": {
      "text/html": [
       "<div>\n",
       "<style scoped>\n",
       "    .dataframe tbody tr th:only-of-type {\n",
       "        vertical-align: middle;\n",
       "    }\n",
       "\n",
       "    .dataframe tbody tr th {\n",
       "        vertical-align: top;\n",
       "    }\n",
       "\n",
       "    .dataframe thead th {\n",
       "        text-align: right;\n",
       "    }\n",
       "</style>\n",
       "<table border=\"1\" class=\"dataframe\">\n",
       "  <thead>\n",
       "    <tr style=\"text-align: right;\">\n",
       "      <th></th>\n",
       "      <th>smoker_yes</th>\n",
       "      <th>ban_yes</th>\n",
       "      <th>education_hs</th>\n",
       "      <th>education_hs drop out</th>\n",
       "      <th>education_master</th>\n",
       "      <th>education_some college</th>\n",
       "      <th>afam_yes</th>\n",
       "      <th>hispanic_yes</th>\n",
       "      <th>gender_male</th>\n",
       "      <th>age</th>\n",
       "    </tr>\n",
       "  </thead>\n",
       "  <tbody>\n",
       "    <tr>\n",
       "      <td>0</td>\n",
       "      <td>1</td>\n",
       "      <td>1</td>\n",
       "      <td>1</td>\n",
       "      <td>0</td>\n",
       "      <td>0</td>\n",
       "      <td>0</td>\n",
       "      <td>0</td>\n",
       "      <td>0</td>\n",
       "      <td>0</td>\n",
       "      <td>0.328571</td>\n",
       "    </tr>\n",
       "    <tr>\n",
       "      <td>1</td>\n",
       "      <td>1</td>\n",
       "      <td>1</td>\n",
       "      <td>0</td>\n",
       "      <td>0</td>\n",
       "      <td>0</td>\n",
       "      <td>1</td>\n",
       "      <td>0</td>\n",
       "      <td>0</td>\n",
       "      <td>0</td>\n",
       "      <td>0.371429</td>\n",
       "    </tr>\n",
       "    <tr>\n",
       "      <td>2</td>\n",
       "      <td>0</td>\n",
       "      <td>0</td>\n",
       "      <td>0</td>\n",
       "      <td>0</td>\n",
       "      <td>0</td>\n",
       "      <td>1</td>\n",
       "      <td>0</td>\n",
       "      <td>0</td>\n",
       "      <td>0</td>\n",
       "      <td>0.014286</td>\n",
       "    </tr>\n",
       "    <tr>\n",
       "      <td>3</td>\n",
       "      <td>1</td>\n",
       "      <td>0</td>\n",
       "      <td>1</td>\n",
       "      <td>0</td>\n",
       "      <td>0</td>\n",
       "      <td>0</td>\n",
       "      <td>0</td>\n",
       "      <td>0</td>\n",
       "      <td>0</td>\n",
       "      <td>0.157143</td>\n",
       "    </tr>\n",
       "    <tr>\n",
       "      <td>4</td>\n",
       "      <td>0</td>\n",
       "      <td>1</td>\n",
       "      <td>0</td>\n",
       "      <td>0</td>\n",
       "      <td>0</td>\n",
       "      <td>1</td>\n",
       "      <td>0</td>\n",
       "      <td>0</td>\n",
       "      <td>0</td>\n",
       "      <td>0.142857</td>\n",
       "    </tr>\n",
       "  </tbody>\n",
       "</table>\n",
       "</div>"
      ],
      "text/plain": [
       "   smoker_yes  ban_yes  education_hs  education_hs drop out  education_master  \\\n",
       "0           1        1             1                      0                 0   \n",
       "1           1        1             0                      0                 0   \n",
       "2           0        0             0                      0                 0   \n",
       "3           1        0             1                      0                 0   \n",
       "4           0        1             0                      0                 0   \n",
       "\n",
       "   education_some college  afam_yes  hispanic_yes  gender_male       age  \n",
       "0                       0         0             0            0  0.328571  \n",
       "1                       1         0             0            0  0.371429  \n",
       "2                       1         0             0            0  0.014286  \n",
       "3                       0         0             0            0  0.157143  \n",
       "4                       1         0             0            0  0.142857  "
      ]
     },
     "execution_count": 7,
     "metadata": {},
     "output_type": "execute_result"
    }
   ],
   "source": [
    "# Convert categorical variables to Dummy variables\n",
    "df_clean = pd.get_dummies(df_smoking[[\"smoker\", \"ban\", \"education\", \"afam\", \"hispanic\", \"gender\"]], drop_first=True)\n",
    "# Add a scaled version of Age to the data\n",
    "scaler = MinMaxScaler()\n",
    "df_clean[\"age\"] = scaler.fit_transform(df_smoking[\"age\"].to_numpy().reshape(-1, 1))\n",
    "df_clean.head()"
   ]
  },
  {
   "cell_type": "code",
   "execution_count": 10,
   "id": "918ff413",
   "metadata": {},
   "outputs": [
    {
     "name": "stdout",
     "output_type": "stream",
     "text": [
      "(7000, 9)\n",
      "(3000, 9)\n",
      "(7000,)\n",
      "(3000,)\n"
     ]
    }
   ],
   "source": [
    "# Split into training and test sets\n",
    "X_smoke = df_clean.drop(\"smoker_yes\", axis=1)\n",
    "y_smoke = df_clean[\"smoker_yes\"]\n",
    "X_train_smoke, X_test_smoke, y_train_smoke, y_test_smoke = \\\n",
    "    train_test_split(X_smoke, y_smoke, test_size=0.3, random_state=42)\n",
    "# Print the sizes of each set\n",
    "print(X_train_smoke.shape)\n",
    "print(X_test_smoke.shape)\n",
    "print(y_train_smoke.shape)\n",
    "print(y_test_smoke.shape)"
   ]
  },
  {
   "cell_type": "code",
   "execution_count": 11,
   "id": "47f31db1",
   "metadata": {},
   "outputs": [],
   "source": [
    "# Create and fit a decision tree classifier\n",
    "dt_clf_smoke = DecisionTreeClassifier().fit(X_train_smoke, y_train_smoke)\n",
    "# Create and fit a random forest classifier\n",
    "rf_clf_smoke = RandomForestClassifier().fit(X_train_smoke, y_train_smoke)"
   ]
  },
  {
   "cell_type": "code",
   "execution_count": 12,
   "id": "7b7f2ef9",
   "metadata": {},
   "outputs": [
    {
     "name": "stdout",
     "output_type": "stream",
     "text": [
      "Best parameters found by the gridsearch: {'max_depth': 6, 'max_features': 0.6}\n"
     ]
    }
   ],
   "source": [
    "# Hyperparameter Tuning for the Decision Tree, using GridSearch\n",
    "# Set the parameters to be explored by the gridsearch\n",
    "param_grid = {\"max_depth\": range(1, dt_clf_smoke.tree_.max_depth),\n",
    "              \"max_features\": [0.2, 0.4, 0.6, 0.8]}\n",
    "# Use the grid search with the designated parameters\n",
    "grid_clf_smoke = GridSearchCV(dt_clf_smoke, param_grid, cv=8)\n",
    "# Fit the grid search to the training set\n",
    "grid_clf_smoke.fit(X_train_smoke, y_train_smoke)\n",
    "# Find the best parameters found by the gridsearch\n",
    "print(\"Best parameters found by the gridsearch:\", grid_clf_smoke.best_params_)"
   ]
  },
  {
   "cell_type": "code",
   "execution_count": 13,
   "id": "a9ffdddf",
   "metadata": {},
   "outputs": [
    {
     "name": "stdout",
     "output_type": "stream",
     "text": [
      "Best parameters found by the gridsearch: {'bootstrap': True, 'max_depth': 7}\n"
     ]
    }
   ],
   "source": [
    "# Hyperparameter Tuning for the Random Forest, using GridSearch\n",
    "# Find the maximum tree depth of the decision trees within the random forest\n",
    "max_depth = max([estimator.tree_.max_depth for estimator in rf_clf_smoke.estimators_])\n",
    "# Set the parameters to be explored by the gridsearch\n",
    "rf_param_grid = {\"max_depth\": range(1, max_depth),\n",
    "                 \"bootstrap\": [True, False]}\n",
    "# Use the grid search with the designated parameters\n",
    "grid_rf_smoke = GridSearchCV(rf_clf_smoke, rf_param_grid, cv=8)\n",
    "# Fit the grid search to the training set\n",
    "grid_rf_smoke.fit(X_train_smoke, y_train_smoke)\n",
    "# Find the best parameters found by the gridsearch\n",
    "print(\"Best parameters found by the gridsearch:\", grid_rf_smoke.best_params_)"
   ]
  },
  {
   "cell_type": "code",
   "execution_count": 16,
   "id": "a5d94482",
   "metadata": {},
   "outputs": [
    {
     "name": "stdout",
     "output_type": "stream",
     "text": [
      "Decision Tree Accuracy on the training set: 0.7615714285714286\n",
      "Random Forest Accuracy on the training set: 0.7622857142857142\n",
      "Decision Tree Accuracy on the test set: 0.759\n",
      "Random Forest Accuracy on the test set: 0.7596666666666667\n"
     ]
    }
   ],
   "source": [
    "# Create a decision tree and random forest using the best parameters\n",
    "best_dt_clf = DecisionTreeClassifier(max_depth=4, max_features=0.8)\n",
    "best_dt_clf.fit(X_train_smoke, y_train_smoke)\n",
    "\n",
    "best_rf_clf = RandomForestClassifier(max_depth=6, bootstrap=True)\n",
    "best_rf_clf.fit(X_train_smoke, y_train_smoke)\n",
    "\n",
    "# Predict on the training set with both models\n",
    "dt_preds_train = best_dt_clf.predict(X_train_smoke)\n",
    "rf_preds_train = best_rf_clf.predict(X_train_smoke)\n",
    "\n",
    "# Compute the accuracy of both models on the training set\n",
    "print(\"Decision Tree Accuracy on the training set:\", accuracy_score(dt_preds_train, y_train_smoke))\n",
    "print(\"Random Forest Accuracy on the training set:\", accuracy_score(rf_preds_train, y_train_smoke))\n",
    "\n",
    "# Predict on the test set with both models\n",
    "dt_preds_test = best_dt_clf.predict(X_test_smoke)\n",
    "rf_preds_test = best_rf_clf.predict(X_test_smoke)\n",
    "\n",
    "# Compute the accuracy of both classifiers on the test set\n",
    "print(\"Decision Tree Accuracy on the test set:\", accuracy_score(dt_preds_test, y_test_smoke))\n",
    "print(\"Random Forest Accuracy on the test set:\", accuracy_score(rf_preds_test, y_test_smoke))"
   ]
  }
 ],
 "metadata": {
  "kernelspec": {
   "display_name": "Python 3",
   "language": "python",
   "name": "python3"
  },
  "language_info": {
   "codemirror_mode": {
    "name": "ipython",
    "version": 3
   },
   "file_extension": ".py",
   "mimetype": "text/x-python",
   "name": "python",
   "nbconvert_exporter": "python",
   "pygments_lexer": "ipython3",
   "version": "3.6.9"
  }
 },
 "nbformat": 4,
 "nbformat_minor": 5
}
